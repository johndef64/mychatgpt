{
 "cells": [
  {
   "cell_type": "markdown",
   "source": [
    "# Stucture\n",
    "\n",
    "PMID|TIT|CASE_REPORT|DIAGNOSIS|DIAGNOSIS_GPT|CHECK\n",
    "\n",
    "- LOAD <-- OBJ\n",
    "- INPUT <-- AK, INS  \n",
    "- EVAL\n",
    "- OUT --> OBJ"
   ],
   "metadata": {
    "collapsed": false
   }
  },
  {
   "cell_type": "markdown",
   "source": [
    "# LOAD"
   ],
   "metadata": {
    "collapsed": false
   }
  },
  {
   "cell_type": "markdown",
   "metadata": {},
   "source": [
    "## Download dependencies"
   ]
  },
  {
   "cell_type": "code",
   "execution_count": null,
   "metadata": {
    "colab": {
     "base_uri": "https://localhost:8080/"
    },
    "id": "C-47K3jZbR10",
    "outputId": "2aac3585-5711-46fb-cb4d-d6f0b3d537a5"
   },
   "outputs": [],
   "source": [
    "import os\n",
    "import requests\n",
    "\n",
    "# Download single GitHub file from repository\n",
    "def get_gitfile(url, flag='', dir = os.getcwd()):\n",
    "    url = url.replace('blob','raw')\n",
    "    response = requests.get(url)\n",
    "    file_name = flag + url.rsplit('/',1)[1]\n",
    "    file_path = os.path.join(dir, file_name)\n",
    "    if response.status_code == 200:\n",
    "        with open(file_path, 'wb') as file:\n",
    "            file.write(response.content)\n",
    "        print(f\"File downloaded successfully. Saved as {file_name}\")\n",
    "    else:\n",
    "        print(\"Unable to download the file.\")\n",
    "\n",
    "# Get pychatgpt\n",
    "handle=\"https://raw.githubusercontent.com/johndef64/pychatgpt/main/\"\n",
    "files = [\"pychatgpt.py\", \"notebooks/case_reports.json\"]\n",
    "for file in files:\n",
    "    url = handle+file\n",
    "    get_gitfile(url)"
   ]
  },
  {
   "cell_type": "markdown",
   "source": [
    "## Import module"
   ],
   "metadata": {
    "collapsed": false
   }
  },
  {
   "cell_type": "code",
   "execution_count": null,
   "metadata": {
    "collapsed": false
   },
   "outputs": [],
   "source": [
    "# import module\n",
    "import pychatgpt as op\n",
    "\n",
    "print('')\n",
    "op.choose_model()\n",
    "\n",
    "# wrap outputs for readability (Colab)\n",
    "from IPython.display import HTML, display\n",
    "def set_css():\n",
    "    display(HTML('''\n",
    "  <style>\n",
    "    pre {\n",
    "        white-space: pre-wrap;\n",
    "    }\n",
    "  </style>\n",
    "  '''))\n",
    "get_ipython().events.register('pre_run_cell', set_css)"
   ]
  },
  {
   "cell_type": "markdown",
   "metadata": {},
   "source": [
    "## Load Files as text"
   ]
  },
  {
   "cell_type": "code",
   "execution_count": null,
   "metadata": {},
   "outputs": [],
   "source": [
    "path = os.getcwd()+\"\"\n",
    "file = op.load_file(path)\n",
    "file"
   ]
  },
  {
   "cell_type": "markdown",
   "source": [
    "# INPUT"
   ],
   "metadata": {
    "collapsed": false
   }
  },
  {
   "cell_type": "markdown",
   "source": [
    "## Load Json"
   ],
   "metadata": {
    "collapsed": false
   }
  },
  {
   "cell_type": "code",
   "execution_count": 10,
   "outputs": [
    {
     "data": {
      "text/plain": "<IPython.core.display.HTML object>",
      "text/html": "\n  <style>\n    pre {\n        white-space: pre-wrap;\n    }\n  </style>\n  "
     },
     "metadata": {},
     "output_type": "display_data"
    },
    {
     "data": {
      "text/plain": "                                               Title      PMID  \\\n0  A PMM2-CDG caused by an A108V mutation associa...  36221102   \n1  Wolfram Syndrome: A Case Report and Review of ...  29850290   \n2  Recurrent Ischemic Strokes due to Monogenic CO...  37681221   \n3  Farber Disease Mimicking Juvenile Idiopathic A...  35186337   \n4  Rubinstein–Taybi Syndrome in a Filipino Infant...  35637708   \n\n                                         Case Report  \\\n0  Case Report: We report the case of a French ch...   \n1  Case Report:  A 39-year-old woman of mixed Nor...   \n2  A 35-year-oldright-handed female, who was born...   \n3  The patient is a 23-month-old boy with unevent...   \n4  A newborn male was born full term at 38 weeks ...   \n\n                                           Diagnosis  \\\n0  In the present study, we described the case of...   \n1  Genetic testing for autosomal dominant optic a...   \n2  She was hospitalized for 1 week and received e...   \n3  At 20 months of age, he was referred to ENT cl...   \n4  The patient was referred to the service of gen...   \n\n                                    Diagnosis GPT3.5 Check GPT3.5  \\\n0  Based on the presented case report, there are ...         Pass   \n1  Based on the information provided, the most li...         Fail   \n2  Based on the provided information, there are s...         Fail   \n3  Based on the clinical features described, the ...         Fail   \n4  Based on the provided information, the newborn...         Fail   \n\n                                      Diagnosis GPT4 Check GPT4  \n0                                                NaN        NaN  \n1  The mentioned symptoms within this specific ca...       Pass  \n2  The patient's clinical presentation and family...       Fail  \n3  Based on the provided symptoms, it seems likel...       Pass  \n4  Given the symptoms described, particularly the...       Pass  ",
      "text/html": "<div>\n<style scoped>\n    .dataframe tbody tr th:only-of-type {\n        vertical-align: middle;\n    }\n\n    .dataframe tbody tr th {\n        vertical-align: top;\n    }\n\n    .dataframe thead th {\n        text-align: right;\n    }\n</style>\n<table border=\"1\" class=\"dataframe\">\n  <thead>\n    <tr style=\"text-align: right;\">\n      <th></th>\n      <th>Title</th>\n      <th>PMID</th>\n      <th>Case Report</th>\n      <th>Diagnosis</th>\n      <th>Diagnosis GPT3.5</th>\n      <th>Check GPT3.5</th>\n      <th>Diagnosis GPT4</th>\n      <th>Check GPT4</th>\n    </tr>\n  </thead>\n  <tbody>\n    <tr>\n      <th>0</th>\n      <td>A PMM2-CDG caused by an A108V mutation associa...</td>\n      <td>36221102</td>\n      <td>Case Report: We report the case of a French ch...</td>\n      <td>In the present study, we described the case of...</td>\n      <td>Based on the presented case report, there are ...</td>\n      <td>Pass</td>\n      <td>NaN</td>\n      <td>NaN</td>\n    </tr>\n    <tr>\n      <th>1</th>\n      <td>Wolfram Syndrome: A Case Report and Review of ...</td>\n      <td>29850290</td>\n      <td>Case Report:  A 39-year-old woman of mixed Nor...</td>\n      <td>Genetic testing for autosomal dominant optic a...</td>\n      <td>Based on the information provided, the most li...</td>\n      <td>Fail</td>\n      <td>The mentioned symptoms within this specific ca...</td>\n      <td>Pass</td>\n    </tr>\n    <tr>\n      <th>2</th>\n      <td>Recurrent Ischemic Strokes due to Monogenic CO...</td>\n      <td>37681221</td>\n      <td>A 35-year-oldright-handed female, who was born...</td>\n      <td>She was hospitalized for 1 week and received e...</td>\n      <td>Based on the provided information, there are s...</td>\n      <td>Fail</td>\n      <td>The patient's clinical presentation and family...</td>\n      <td>Fail</td>\n    </tr>\n    <tr>\n      <th>3</th>\n      <td>Farber Disease Mimicking Juvenile Idiopathic A...</td>\n      <td>35186337</td>\n      <td>The patient is a 23-month-old boy with unevent...</td>\n      <td>At 20 months of age, he was referred to ENT cl...</td>\n      <td>Based on the clinical features described, the ...</td>\n      <td>Fail</td>\n      <td>Based on the provided symptoms, it seems likel...</td>\n      <td>Pass</td>\n    </tr>\n    <tr>\n      <th>4</th>\n      <td>Rubinstein–Taybi Syndrome in a Filipino Infant...</td>\n      <td>35637708</td>\n      <td>A newborn male was born full term at 38 weeks ...</td>\n      <td>The patient was referred to the service of gen...</td>\n      <td>Based on the provided information, the newborn...</td>\n      <td>Fail</td>\n      <td>Given the symptoms described, particularly the...</td>\n      <td>Pass</td>\n    </tr>\n  </tbody>\n</table>\n</div>"
     },
     "execution_count": 10,
     "metadata": {},
     "output_type": "execute_result"
    }
   ],
   "source": [
    "import json\n",
    "\n",
    "myjson ='case_reports.json'\n",
    "\n",
    "# Open the JSON file\n",
    "with open(myjson, 'r') as file:\n",
    "    data = json.load(file)\n",
    "    file.close()\n",
    "\n",
    "# Upload JSON file to a pandas dataframe\n",
    "df = op.pd.read_json(myjson, encoding='utf-8')\n",
    "\n",
    "op.pd.DataFrame(data).head()"
   ],
   "metadata": {
    "collapsed": false,
    "ExecuteTime": {
     "end_time": "2023-11-15T16:52:07.624232600Z",
     "start_time": "2023-11-15T16:52:07.513645700Z"
    }
   }
  },
  {
   "cell_type": "markdown",
   "source": [
    "## JSON Editor\n",
    "use JSON Editor only for json object development"
   ],
   "metadata": {
    "collapsed": false
   }
  },
  {
   "cell_type": "code",
   "execution_count": null,
   "outputs": [],
   "source": [
    "# Add a field to each object in the JSON\n",
    "\n",
    "for obj in data:\n",
    "    obj['Diagnosis'] = ''\n",
    "    obj['Diagnosis GPT3.5'] = ''\n",
    "data"
   ],
   "metadata": {
    "collapsed": false
   }
  },
  {
   "cell_type": "code",
   "execution_count": null,
   "outputs": [],
   "source": [
    "# ADD 'Diagnosis' for a given PMID\n",
    "\n",
    "for obj in data:\n",
    "    if obj['PMID'] == '36221102': # example\n",
    "        obj['Diagnosis'] = '''\n",
    "        '''\n",
    "data"
   ],
   "metadata": {
    "collapsed": false
   }
  },
  {
   "cell_type": "code",
   "execution_count": null,
   "outputs": [],
   "source": [
    "# ADD EMPTY OBJECT\n",
    "\n",
    "empty_obj = []\n",
    "for obj in data:\n",
    "    new_obj = {}\n",
    "    for key in obj:\n",
    "        new_obj[key] = None\n",
    "    empty_obj.append(new_obj)\n",
    "data.append(new_obj)\n",
    "data"
   ],
   "metadata": {
    "collapsed": false
   }
  },
  {
   "cell_type": "markdown",
   "source": [
    "## ADD Case-Reports"
   ],
   "metadata": {
    "collapsed": false
   }
  },
  {
   "cell_type": "markdown",
   "source": [
    "CASE REPORT sources:   \n",
    "  - [Case Reports in Genetics](https://www.ncbi.nlm.nih.gov/pmc/journals/1908/)"
   ],
   "metadata": {
    "collapsed": false
   }
  },
  {
   "cell_type": "code",
   "execution_count": null,
   "outputs": [],
   "source": [
    "# ADD NEW OBJECT\n",
    "# Get Values from Paper (manually or through Rest API)\n",
    "new_obj = {\"Title\": 'The First Vietnamese Patient of LEOPARD Syndrome due to a PTPN11 Mutation: A Case Report and Review of the Literature', \n",
    "                 \"PMID\": '34552798', \n",
    "                 \"Case Report\": '''An 8-year-old female patient visited Ho Chi Minh City Hospital of Dermato-Venereology because of several brownish-black “dots” on her face and body (Figure 1). This condition began to appear at her fourth year of age, and the quantity of the macules increased with age. She also presented with congenital deaf-mutism and retarded growth. No recognized history of family members with a similar condition was noted. Physical examination showed multiple brownish-black macules, varying in shape and size, and with diameters ranging from 1 mm to 5 mm. The macules were discretely spread across the child's face, chest, back, upper and lower extremities, and palms and soles (Figures ​(Figures22 and ​and3).3). Café-au-lait macules of size 2 × 3 cm2 were observed on the back (Figure 4). Distinct facial features included hypertelorism, a flat nasal bridge, and prognathism (protruding lower jaw) (Figures ​(Figures55 and ​and6).6). Dental arch discrepancies, diastema, and hypodontia were also noted (Figure 6). Pectus carinatum (protruding chest) (Figures ​(Figures22 and ​and6),6), scoliosis, and scapula alata (Figure 4) were observed. The patient showed growth retardation with a height and weight of 105 cm and 15 kg, respectively.\n",
    "The radiologic and laboratory workups revealed certain notable findings. The dental roots were abnormal or absent in some positions, as seen on the radiograph. Uterine hypoplasia was noted on abdominal ultrasound and was comparable with similar findings among those of the same age.\n",
    "''', \n",
    "                 \"Diagnosis\": '''Genetic analysis revealed a PTPN11 gene mutation (c.836A > G, p.Tyr279Cys) (Figure 7). No abnormalities were seen on electrocardiogram (ECG), echocardiogram, and chest radiograph (CXR).\n",
    "On collating and considering these signs and symptoms, we concluded that the most likely diagnosis of the patient's condition was LEOPARD syndrome.\n",
    "                 ''',\n",
    "                 \"Diagnosis GPT3.5\": None}\n",
    "\n",
    "pmids = []\n",
    "for i in range(len(data)):\n",
    "    pmids.append(data[i]['PMID'])\n",
    "\n",
    "if new_obj['PMID'] not in pmids:\n",
    "    data.append(new_obj)\n",
    "else: print('already in list')\n",
    "op.pd.DataFrame(data)"
   ],
   "metadata": {
    "collapsed": false
   }
  },
  {
   "cell_type": "code",
   "execution_count": null,
   "outputs": [],
   "source": [
    "# Salva il JSON modificato in un nuovo file\n",
    "with open('case_reports.json', 'w') as file:\n",
    "    json.dump(data, file)\n",
    "    file.close()"
   ],
   "metadata": {
    "collapsed": false
   }
  },
  {
   "cell_type": "markdown",
   "source": [
    "# EVALUATE"
   ],
   "metadata": {
    "collapsed": false
   }
  },
  {
   "cell_type": "markdown",
   "metadata": {},
   "source": [
    "## Load json"
   ]
  },
  {
   "cell_type": "code",
   "execution_count": 12,
   "metadata": {
    "ExecuteTime": {
     "end_time": "2023-11-15T16:53:07.528937700Z",
     "start_time": "2023-11-15T16:53:07.446115900Z"
    }
   },
   "outputs": [
    {
     "data": {
      "text/plain": "<IPython.core.display.HTML object>",
      "text/html": "\n  <style>\n    pre {\n        white-space: pre-wrap;\n    }\n  </style>\n  "
     },
     "metadata": {},
     "output_type": "display_data"
    },
    {
     "data": {
      "text/plain": "                                               Title      PMID  \\\n0  A PMM2-CDG caused by an A108V mutation associa...  36221102   \n1  Wolfram Syndrome: A Case Report and Review of ...  29850290   \n2  Recurrent Ischemic Strokes due to Monogenic CO...  37681221   \n3  Farber Disease Mimicking Juvenile Idiopathic A...  35186337   \n4  Rubinstein–Taybi Syndrome in a Filipino Infant...  35637708   \n\n                                         Case Report  \\\n0  Case Report: We report the case of a French ch...   \n1  Case Report:  A 39-year-old woman of mixed Nor...   \n2  A 35-year-oldright-handed female, who was born...   \n3  The patient is a 23-month-old boy with unevent...   \n4  A newborn male was born full term at 38 weeks ...   \n\n                                           Diagnosis  \\\n0  In the present study, we described the case of...   \n1  Genetic testing for autosomal dominant optic a...   \n2  She was hospitalized for 1 week and received e...   \n3  At 20 months of age, he was referred to ENT cl...   \n4  The patient was referred to the service of gen...   \n\n                                    Diagnosis GPT3.5 Check GPT3.5  \\\n0  Based on the presented case report, there are ...         Pass   \n1  Based on the information provided, the most li...         Fail   \n2  Based on the provided information, there are s...         Fail   \n3  Based on the clinical features described, the ...         Fail   \n4  Based on the provided information, the newborn...         Fail   \n\n                                      Diagnosis GPT4 Check GPT4  \n0                                                NaN        NaN  \n1  The mentioned symptoms within this specific ca...       Pass  \n2  The patient's clinical presentation and family...       Fail  \n3  Based on the provided symptoms, it seems likel...       Pass  \n4  Given the symptoms described, particularly the...       Pass  ",
      "text/html": "<div>\n<style scoped>\n    .dataframe tbody tr th:only-of-type {\n        vertical-align: middle;\n    }\n\n    .dataframe tbody tr th {\n        vertical-align: top;\n    }\n\n    .dataframe thead th {\n        text-align: right;\n    }\n</style>\n<table border=\"1\" class=\"dataframe\">\n  <thead>\n    <tr style=\"text-align: right;\">\n      <th></th>\n      <th>Title</th>\n      <th>PMID</th>\n      <th>Case Report</th>\n      <th>Diagnosis</th>\n      <th>Diagnosis GPT3.5</th>\n      <th>Check GPT3.5</th>\n      <th>Diagnosis GPT4</th>\n      <th>Check GPT4</th>\n    </tr>\n  </thead>\n  <tbody>\n    <tr>\n      <th>0</th>\n      <td>A PMM2-CDG caused by an A108V mutation associa...</td>\n      <td>36221102</td>\n      <td>Case Report: We report the case of a French ch...</td>\n      <td>In the present study, we described the case of...</td>\n      <td>Based on the presented case report, there are ...</td>\n      <td>Pass</td>\n      <td>NaN</td>\n      <td>NaN</td>\n    </tr>\n    <tr>\n      <th>1</th>\n      <td>Wolfram Syndrome: A Case Report and Review of ...</td>\n      <td>29850290</td>\n      <td>Case Report:  A 39-year-old woman of mixed Nor...</td>\n      <td>Genetic testing for autosomal dominant optic a...</td>\n      <td>Based on the information provided, the most li...</td>\n      <td>Fail</td>\n      <td>The mentioned symptoms within this specific ca...</td>\n      <td>Pass</td>\n    </tr>\n    <tr>\n      <th>2</th>\n      <td>Recurrent Ischemic Strokes due to Monogenic CO...</td>\n      <td>37681221</td>\n      <td>A 35-year-oldright-handed female, who was born...</td>\n      <td>She was hospitalized for 1 week and received e...</td>\n      <td>Based on the provided information, there are s...</td>\n      <td>Fail</td>\n      <td>The patient's clinical presentation and family...</td>\n      <td>Fail</td>\n    </tr>\n    <tr>\n      <th>3</th>\n      <td>Farber Disease Mimicking Juvenile Idiopathic A...</td>\n      <td>35186337</td>\n      <td>The patient is a 23-month-old boy with unevent...</td>\n      <td>At 20 months of age, he was referred to ENT cl...</td>\n      <td>Based on the clinical features described, the ...</td>\n      <td>Fail</td>\n      <td>Based on the provided symptoms, it seems likel...</td>\n      <td>Pass</td>\n    </tr>\n    <tr>\n      <th>4</th>\n      <td>Rubinstein–Taybi Syndrome in a Filipino Infant...</td>\n      <td>35637708</td>\n      <td>A newborn male was born full term at 38 weeks ...</td>\n      <td>The patient was referred to the service of gen...</td>\n      <td>Based on the provided information, the newborn...</td>\n      <td>Fail</td>\n      <td>Given the symptoms described, particularly the...</td>\n      <td>Pass</td>\n    </tr>\n  </tbody>\n</table>\n</div>"
     },
     "execution_count": 12,
     "metadata": {},
     "output_type": "execute_result"
    }
   ],
   "source": [
    "# Upload JSON file to a pandas dataframe\n",
    "df.head()"
   ]
  },
  {
   "cell_type": "code",
   "execution_count": 9,
   "metadata": {
    "ExecuteTime": {
     "end_time": "2023-11-15T16:50:28.120603100Z",
     "start_time": "2023-11-15T16:50:25.338230300Z"
    }
   },
   "outputs": [
    {
     "data": {
      "text/plain": "<IPython.core.display.HTML object>",
      "text/html": "\n  <style>\n    pre {\n        white-space: pre-wrap;\n    }\n  </style>\n  "
     },
     "metadata": {},
     "output_type": "display_data"
    },
    {
     "name": "stdout",
     "output_type": "stream",
     "text": [
      "Evaluating case report:\n",
      "Farber Disease Mimicking Juvenile Idiopathic Arthritis: The First Reported Case in Qatar and Review of the Literature\n",
      "35186337\n"
     ]
    }
   ],
   "source": [
    "# choose Case Index from df:\n",
    "n = int(input('choose case report index: \\n'+str(df.Title)))\n",
    "print('Evaluating case-report:')\n",
    "print(data[n]['Title'])\n",
    "print(data[n]['PMID'])\n",
    "#print(data[n]['Case Report'])"
   ]
  },
  {
   "cell_type": "code",
   "execution_count": null,
   "metadata": {
    "collapsed": false
   },
   "outputs": [],
   "source": [
    "#empty chat\n",
    "op.clearchat()\n",
    "op.choose_model()\n",
    "\n",
    "sys_4 ='''\n",
    "Always respond as a research physician specializing in genetic diseases. Provide accurate and up-to-date information on the specific genetic disease discussed and genes involved.\n",
    "'''\n",
    "\n",
    "m = '''\n",
    "I will now provide you with infomations of a case of suspected genetic disease:\n",
    "------------\n",
    "'''+data[n]['Case Report']+'''\n",
    "------------\n",
    "\n",
    "Now use your background knowledge from your training data to make precise and thoughtful deductions about the most possible genetic disease and the genes that could be involved in this case (use OMIM nomenclature).\n",
    "'''\n",
    "\n",
    "\n",
    "op.chat_gpt\n",
    "op.send_message(m,system= sys_4, model=op.model, printreply= False, printtoken=False)\n",
    "print(op.reply)"
   ]
  },
  {
   "cell_type": "code",
   "execution_count": null,
   "metadata": {},
   "outputs": [],
   "source": [
    "# add reply\n",
    "flag= ''\n",
    "if op.model == 'gpt-3.5-turbo' or op.model == 'gpt-3.5-turbo-16k' :\n",
    "    diagnosis = 'Diagnosis GPT3.5'\n",
    "    check = 'Check GPT3.5'\n",
    "    \n",
    "elif op.model == 'gpt-4':\n",
    "    diagnosis = 'Diagnosis GPT4'\n",
    "    check = 'Check GPT4'\n",
    "\n",
    "\n",
    "data[n][diagnosis] = op.reply\n",
    "print(pd.Series(data[n]))\n",
    "df = pd.DataFrame(data)\n",
    "df"
   ]
  },
  {
   "cell_type": "code",
   "execution_count": null,
   "metadata": {},
   "outputs": [],
   "source": [
    "print(data[n]['Diagnosis'])\n",
    "print('------------')\n",
    "print(data[n][diagnosis])"
   ]
  },
  {
   "cell_type": "code",
   "execution_count": null,
   "metadata": {},
   "outputs": [],
   "source": [
    "for obj in data:\n",
    "    if obj['PMID'] == data[n]['PMID']:\n",
    "        obj[check] = 'Fail'\n",
    "df = pd.DataFrame(data)\n",
    "df"
   ]
  },
  {
   "cell_type": "code",
   "execution_count": null,
   "metadata": {},
   "outputs": [],
   "source": [
    "#data[n]['Diagnosis'] = ''' '''\n",
    "#pd.DataFrame(data)"
   ]
  },
  {
   "cell_type": "markdown",
   "metadata": {},
   "source": [
    "## Save in json"
   ]
  },
  {
   "cell_type": "code",
   "execution_count": null,
   "metadata": {},
   "outputs": [],
   "source": [
    "# Salva il JSON modificato in un nuovo file\n",
    "with open('case_reports.json', 'w') as file:\n",
    "    json.dump(data, file)\n",
    "    file.close()"
   ]
  },
  {
   "cell_type": "markdown",
   "metadata": {},
   "source": [
    "## Instruction archive"
   ]
  },
  {
   "cell_type": "code",
   "execution_count": null,
   "metadata": {
    "tags": []
   },
   "outputs": [],
   "source": [
    "#empty chat\n",
    "sys_4 ='''\n",
    "\n",
    "'''\n",
    "\n",
    "m = '''\n",
    "Optimize this instruction idea:\n",
    "\n",
    "You are a research physician in rare genetic diseases, always respond in accordance with this.  \n",
    "'''\n",
    "\n",
    "op.chat_gpt \n",
    "op.send_message(m,system= sys_4, model=op.model)\n",
    "con_4 = op.chat_gpt"
   ]
  },
  {
   "cell_type": "code",
   "execution_count": null,
   "metadata": {},
   "outputs": [],
   "source": [
    "instructions= [\n",
    "'''I will now provide you with infomations of a case of suspxected genetic disease:\n",
    "------------\n",
    "'''+data[0]['Case Report']+'''\n",
    "------------\n",
    "\n",
    "Now make a markdown chart of the case described above, doing your best to indicate characteristics of each sign or symptom, and then use your background knowledge from your training data to make educated guesses about the possible genetic disease and the genes involved in this case.\n",
    "''',\n",
    "    '''I will now provide you with infomations of a case of suspected genetic disease:\n",
    "------------\n",
    "'''+data[n]['Case Report']+'''\n",
    "------------v\n",
    "\n",
    "Now use your background knowledge from your training data to make precise and thoughtful deductions about the most possible genetic disease and the genes that could be involved in this case.\n",
    "    '''\n",
    "]"
   ]
  },
  {
   "cell_type": "markdown",
   "metadata": {},
   "source": [
    "# quick chat"
   ]
  },
  {
   "cell_type": "code",
   "execution_count": null,
   "metadata": {},
   "outputs": [],
   "source": [
    "#empty chat\n",
    "m = '''\n",
    "so, what is the genetic disease?\n",
    "'''\n",
    "sys_4 = ''\n",
    "op.chat_gpt = con_4\n",
    "op.send_message(m, model=op.model)\n",
    "con_4 = op.chat_gpt"
   ]
  },
  {
   "cell_type": "code",
   "execution_count": null,
   "metadata": {},
   "outputs": [],
   "source": [
    "# remove last interaction\n",
    "op.chat_gpt = con_1[:-2]\n",
    "con_1 = op.chat_gpt"
   ]
  },
  {
   "cell_type": "code",
   "execution_count": null,
   "metadata": {},
   "outputs": [],
   "source": [
    "op.save_chat()"
   ]
  },
  {
   "cell_type": "markdown",
   "metadata": {},
   "source": [
    "   \n",
    "   \n",
    "   \n",
    "   \n"
   ]
  },
  {
   "cell_type": "code",
   "execution_count": null,
   "metadata": {},
   "outputs": [],
   "source": [
    "# small questions\n",
    "#o.send_message('clearchat')\n",
    "m ='''\n",
    "\n",
    "'''\n",
    "op.send_message(m, model= 'gpt-3.5-turbo')"
   ]
  },
  {
   "cell_type": "code",
   "execution_count": null,
   "metadata": {},
   "outputs": [],
   "source": [
    "for d in data:\n",
    "    if 'PMID' in d and d['PMID'] == '27013829':\n",
    "        del d\n",
    "pd.DataFrame(data)\n",
    "data[1]['PMID']"
   ]
  }
 ],
 "metadata": {
  "colab": {
   "provenance": []
  },
  "kernelspec": {
   "display_name": "Python 3 (ipykernel)",
   "language": "python",
   "name": "python3"
  },
  "language_info": {
   "codemirror_mode": {
    "name": "ipython",
    "version": 3
   },
   "file_extension": ".py",
   "mimetype": "text/x-python",
   "name": "python",
   "nbconvert_exporter": "python",
   "pygments_lexer": "ipython3",
   "version": "3.10.13"
  }
 },
 "nbformat": 4,
 "nbformat_minor": 4
}
