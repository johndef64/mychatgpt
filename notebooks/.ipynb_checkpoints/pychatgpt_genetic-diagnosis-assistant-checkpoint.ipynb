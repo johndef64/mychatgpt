{
 "cells": [
  {
   "cell_type": "markdown",
   "metadata": {},
   "source": [
    "# Download and import module"
   ]
  },
  {
   "cell_type": "code",
   "execution_count": 6,
   "metadata": {
    "colab": {
     "base_uri": "https://localhost:8080/"
    },
    "id": "C-47K3jZbR10",
    "outputId": "2aac3585-5711-46fb-cb4d-d6f0b3d537a5"
   },
   "outputs": [
    {
     "data": {
      "text/html": [
       "\n",
       "  <style>\n",
       "    pre {\n",
       "        white-space: pre-wrap;\n",
       "    }\n",
       "  </style>\n",
       "  "
      ],
      "text/plain": [
       "<IPython.core.display.HTML object>"
      ]
     },
     "metadata": {},
     "output_type": "display_data"
    },
    {
     "name": "stdout",
     "output_type": "stream",
     "text": [
      "File downloaded successfully. Saved as pychatgpt.py\n"
     ]
    }
   ],
   "source": [
    "import os\n",
    "import requests\n",
    "\n",
    "# Download single GitHub file from repository\n",
    "def get_gitfile(url, flag='', dir = os.getcwd()):\n",
    "    url = url.replace('blob','raw')\n",
    "    response = requests.get(url)\n",
    "    file_name = flag + url.rsplit('/',1)[1]\n",
    "    file_path = os.path.join(dir, file_name)\n",
    "    if response.status_code == 200:\n",
    "        with open(file_path, 'wb') as file:\n",
    "            file.write(response.content)\n",
    "        print(f\"File downloaded successfully. Saved as {file_name}\")\n",
    "    else:\n",
    "        print(\"Unable to download the file.\")\n",
    "\n",
    "# Get pychatgpt\n",
    "handle=\"https://raw.githubusercontent.com/johndef64/pychatgpt/main/\"\n",
    "files = [\"pychatgpt.py\", \"notebooks/case_reports.json\"]\n",
    "for file in files:\n",
    "    url = handle+file\n",
    "    get_gitfile(url)"
   ]
  },
  {
   "cell_type": "code",
   "execution_count": 1,
   "metadata": {
    "collapsed": false,
    "jupyter": {
     "outputs_hidden": false
    }
   },
   "outputs": [
    {
     "name": "stdout",
     "output_type": "stream",
     "text": [
      "\n"
     ]
    },
    {
     "name": "stdin",
     "output_type": "stream",
     "text": [
      "choose model:\n",
      "0        gpt-3.5-turbo\n",
      "1    gpt-3.5-turbo-16k\n",
      "2                gpt-4\n",
      "dtype: object 1\n"
     ]
    },
    {
     "name": "stdout",
     "output_type": "stream",
     "text": [
      "*Using gpt-3.5-turbo-16k model*\n"
     ]
    }
   ],
   "source": [
    "# import module\n",
    "import pychatgpt as op\n",
    "\n",
    "print('')\n",
    "op.choose_model()\n",
    "\n",
    "# wrap outputs for readability (Colab)\n",
    "from IPython.display import HTML, display\n",
    "def set_css():\n",
    "    display(HTML('''\n",
    "  <style>\n",
    "    pre {\n",
    "        white-space: pre-wrap;\n",
    "    }\n",
    "  </style>\n",
    "  '''))\n",
    "get_ipython().events.register('pre_run_cell', set_css)"
   ]
  },
  {
   "cell_type": "code",
   "execution_count": null,
   "metadata": {},
   "outputs": [],
   "source": [
    "# change API key function\n",
    "op.change_key()"
   ]
  },
  {
   "cell_type": "code",
   "execution_count": 5,
   "metadata": {},
   "outputs": [
    {
     "data": {
      "text/html": [
       "\n",
       "  <style>\n",
       "    pre {\n",
       "        white-space: pre-wrap;\n",
       "    }\n",
       "  </style>\n",
       "  "
      ],
      "text/plain": [
       "<IPython.core.display.HTML object>"
      ]
     },
     "metadata": {},
     "output_type": "display_data"
    },
    {
     "data": {
      "text/plain": [
       "'G:\\\\Altri computer\\\\Horizon\\\\horizon_workspace\\\\projects\\\\main\\\\pychatgpt'"
      ]
     },
     "execution_count": 5,
     "metadata": {},
     "output_type": "execute_result"
    }
   ],
   "source": [
    "import os\n",
    "os.getcwd()"
   ]
  },
  {
   "cell_type": "markdown",
   "metadata": {},
   "source": [
    "## Load Files as text"
   ]
  },
  {
   "cell_type": "code",
   "execution_count": null,
   "metadata": {},
   "outputs": [],
   "source": [
    "path = os.getcwd()+\"\"\n",
    "file = op.load_file(path)\n",
    "file"
   ]
  },
  {
   "cell_type": "markdown",
   "metadata": {},
   "source": [
    "# Conversation"
   ]
  },
  {
   "cell_type": "code",
   "execution_count": 2,
   "metadata": {
    "collapsed": false,
    "jupyter": {
     "outputs_hidden": false
    }
   },
   "outputs": [
    {
     "data": {
      "text/html": [
       "\n",
       "  <style>\n",
       "    pre {\n",
       "        white-space: pre-wrap;\n",
       "    }\n",
       "  </style>\n",
       "  "
      ],
      "text/plain": [
       "<IPython.core.display.HTML object>"
      ]
     },
     "metadata": {},
     "output_type": "display_data"
    },
    {
     "name": "stdin",
     "output_type": "stream",
     "text": [
      "Choose file:\n",
      "0  sys_Coding-Assistant-new\n",
      "1  sys_Coding-Engineer_(fast)\n",
      "2  sys_Data protection Specialist\n",
      "3  sys_Genetic_Bioinf_Assistant\n",
      "4  sys_Japanese_teacher\n",
      "5  sys_Japanese_translator\n",
      "6  sys_Python-Coding-Assistant\n",
      "7  sys_R-Coding-Assistant\n",
      "8  sys_prompt engineer\n",
      "9  sys_writing_eng_ita\n",
      " 0\n"
     ]
    },
    {
     "name": "stdout",
     "output_type": "stream",
     "text": [
      "*chat sys_Coding-Assistant-new.json loaded*\n"
     ]
    }
   ],
   "source": [
    "op.load_chat('sys_')"
   ]
  },
  {
   "cell_type": "code",
   "execution_count": null,
   "metadata": {},
   "outputs": [],
   "source": [
    "# check loaded chat\n",
    "import pandas as pd\n",
    "df = pd.DataFrame(op.chat_gpt)\n",
    "\n",
    "for i in range(len(df)):\n",
    "    print(df.role[i],'\\n', df.content[i])\n",
    "    print('-------------------------------------------------------------')"
   ]
  },
  {
   "cell_type": "code",
   "execution_count": null,
   "metadata": {
    "tags": []
   },
   "outputs": [],
   "source": [
    "# inizialize\n",
    "system=''\n",
    "\n",
    "message = r\"\"\"\n",
    "\n",
    "\"\"\"\n",
    "\n",
    "op.send_message(message,\n",
    "                    system=system,\n",
    "                    model= op.model)"
   ]
  },
  {
   "cell_type": "code",
   "execution_count": null,
   "metadata": {
    "tags": []
   },
   "outputs": [],
   "source": [
    "m='''\n",
    "\n",
    "'''\n",
    "op.send_message(m, model= op.model)"
   ]
  },
  {
   "cell_type": "code",
   "execution_count": null,
   "metadata": {},
   "outputs": [],
   "source": [
    "#op.chat_gpt.pop()\n",
    "print(op.chat_gpt[0])#.content"
   ]
  },
  {
   "cell_type": "code",
   "execution_count": null,
   "metadata": {
    "tags": []
   },
   "outputs": [
    {
     "data": {
      "text/html": [
       "\n",
       "  <style>\n",
       "    pre {\n",
       "        white-space: pre-wrap;\n",
       "    }\n",
       "  </style>\n",
       "  "
      ],
      "text/plain": [
       "<IPython.core.display.HTML object>"
      ]
     },
     "metadata": {},
     "output_type": "display_data"
    },
    {
     "data": {
      "text/html": [
       "\n",
       "  <style>\n",
       "    pre {\n",
       "        white-space: pre-wrap;\n",
       "    }\n",
       "  </style>\n",
       "  "
      ],
      "text/plain": [
       "<IPython.core.display.HTML object>"
      ]
     },
     "metadata": {},
     "output_type": "display_data"
    },
    {
     "data": {
      "text/html": [
       "\n",
       "  <style>\n",
       "    pre {\n",
       "        white-space: pre-wrap;\n",
       "    }\n",
       "  </style>\n",
       "  "
      ],
      "text/plain": [
       "<IPython.core.display.HTML object>"
      ]
     },
     "metadata": {},
     "output_type": "display_data"
    },
    {
     "name": "stdin",
     "output_type": "stream",
     "text": [
      "Conversation name: johndef64_bio\n"
     ]
    }
   ],
   "source": [
    "op.save_chat()#.pop()"
   ]
  },
  {
   "cell_type": "markdown",
   "metadata": {},
   "source": [
    "## JSON Editor"
   ]
  },
  {
   "cell_type": "code",
   "execution_count": 3,
   "metadata": {},
   "outputs": [
    {
     "data": {
      "text/html": [
       "\n",
       "  <style>\n",
       "    pre {\n",
       "        white-space: pre-wrap;\n",
       "    }\n",
       "  </style>\n",
       "  "
      ],
      "text/plain": [
       "<IPython.core.display.HTML object>"
      ]
     },
     "metadata": {},
     "output_type": "display_data"
    },
    {
     "data": {
      "text/html": [
       "<div>\n",
       "<style scoped>\n",
       "    .dataframe tbody tr th:only-of-type {\n",
       "        vertical-align: middle;\n",
       "    }\n",
       "\n",
       "    .dataframe tbody tr th {\n",
       "        vertical-align: top;\n",
       "    }\n",
       "\n",
       "    .dataframe thead th {\n",
       "        text-align: right;\n",
       "    }\n",
       "</style>\n",
       "<table border=\"1\" class=\"dataframe\">\n",
       "  <thead>\n",
       "    <tr style=\"text-align: right;\">\n",
       "      <th></th>\n",
       "      <th>Title</th>\n",
       "      <th>PMID</th>\n",
       "      <th>Case Report</th>\n",
       "      <th>Diagnosis</th>\n",
       "      <th>Diagnosis GPT3.5</th>\n",
       "      <th>Check GPT3.5</th>\n",
       "      <th>Diagnosis GPT4</th>\n",
       "      <th>Check GPT4</th>\n",
       "    </tr>\n",
       "  </thead>\n",
       "  <tbody>\n",
       "    <tr>\n",
       "      <th>0</th>\n",
       "      <td>A PMM2-CDG caused by an A108V mutation associa...</td>\n",
       "      <td>36221102</td>\n",
       "      <td>Case Report: We report the case of a French ch...</td>\n",
       "      <td>In the present study, we described the case of...</td>\n",
       "      <td>Based on the presented case report, there are ...</td>\n",
       "      <td>Pass</td>\n",
       "      <td>NaN</td>\n",
       "      <td>NaN</td>\n",
       "    </tr>\n",
       "    <tr>\n",
       "      <th>1</th>\n",
       "      <td>Wolfram Syndrome: A Case Report and Review of ...</td>\n",
       "      <td>29850290</td>\n",
       "      <td>Case Report:  A 39-year-old woman of mixed Nor...</td>\n",
       "      <td>Genetic testing for autosomal dominant optic a...</td>\n",
       "      <td>Based on the information provided, the most li...</td>\n",
       "      <td>Fail</td>\n",
       "      <td>The mentioned symptoms within this specific ca...</td>\n",
       "      <td>Pass</td>\n",
       "    </tr>\n",
       "    <tr>\n",
       "      <th>2</th>\n",
       "      <td>Recurrent Ischemic Strokes due to Monogenic CO...</td>\n",
       "      <td>37681221</td>\n",
       "      <td>A 35-year-oldright-handed female, who was born...</td>\n",
       "      <td>She was hospitalized for 1 week and received e...</td>\n",
       "      <td>Based on the provided information, there are s...</td>\n",
       "      <td>Fail</td>\n",
       "      <td>The patient's clinical presentation and family...</td>\n",
       "      <td>Fail</td>\n",
       "    </tr>\n",
       "    <tr>\n",
       "      <th>3</th>\n",
       "      <td>Farber Disease Mimicking Juvenile Idiopathic A...</td>\n",
       "      <td>35186337</td>\n",
       "      <td>The patient is a 23-month-old boy with unevent...</td>\n",
       "      <td>At 20 months of age, he was referred to ENT cl...</td>\n",
       "      <td>Based on the clinical features described, the ...</td>\n",
       "      <td>Fail</td>\n",
       "      <td>Based on the provided symptoms, it seems likel...</td>\n",
       "      <td>Pass</td>\n",
       "    </tr>\n",
       "    <tr>\n",
       "      <th>4</th>\n",
       "      <td>Rubinstein–Taybi Syndrome in a Filipino Infant...</td>\n",
       "      <td>35637708</td>\n",
       "      <td>A newborn male was born full term at 38 weeks ...</td>\n",
       "      <td>The patient was referred to the service of gen...</td>\n",
       "      <td>Based on the provided information, the newborn...</td>\n",
       "      <td>Fail</td>\n",
       "      <td>Given the symptoms described, particularly the...</td>\n",
       "      <td>Pass</td>\n",
       "    </tr>\n",
       "    <tr>\n",
       "      <th>5</th>\n",
       "      <td>Homozygous Autosomal Recessive DIAPH1 Mutation...</td>\n",
       "      <td>36212620</td>\n",
       "      <td>In February 2022, we admitted a four-year-old ...</td>\n",
       "      <td>In his study, we present the characteristics o...</td>\n",
       "      <td>Based on the information provided, the patient...</td>\n",
       "      <td>Fail</td>\n",
       "      <td>While I should advise you that a definitive ge...</td>\n",
       "      <td>Fail</td>\n",
       "    </tr>\n",
       "    <tr>\n",
       "      <th>6</th>\n",
       "      <td>A Case of Autosomal Recessive Intellectual Dev...</td>\n",
       "      <td>36420349</td>\n",
       "      <td>This patient was born full-term from nonconsan...</td>\n",
       "      <td>We describe a case of epilepsy due to MRT5 cau...</td>\n",
       "      <td>Based on the provided information, the patient...</td>\n",
       "      <td>Fail</td>\n",
       "      <td>Given the information provided, one possible g...</td>\n",
       "      <td>Fail</td>\n",
       "    </tr>\n",
       "    <tr>\n",
       "      <th>7</th>\n",
       "      <td>Case Report of Fibro-Adipose Vascular Anomaly ...</td>\n",
       "      <td>35967928</td>\n",
       "      <td>A 23-year-old male with a complaint of right v...</td>\n",
       "      <td>Our patient was a 23 year-old male with a vola...</td>\n",
       "      <td>None</td>\n",
       "      <td>NaN</td>\n",
       "      <td>The presentation and described pathology of th...</td>\n",
       "      <td>Fail</td>\n",
       "    </tr>\n",
       "    <tr>\n",
       "      <th>8</th>\n",
       "      <td>A Chinese Patient with Spastic Paraplegia Type...</td>\n",
       "      <td>34950521</td>\n",
       "      <td>A 27-year-old woman who was pregnant (III-4) f...</td>\n",
       "      <td>In the present study, we found a patient with ...</td>\n",
       "      <td>Based on the clinical presentation and finding...</td>\n",
       "      <td>Fail</td>\n",
       "      <td>Based on the information and symptoms provided...</td>\n",
       "      <td>Pass</td>\n",
       "    </tr>\n",
       "    <tr>\n",
       "      <th>9</th>\n",
       "      <td>The First Vietnamese Patient of LEOPARD Syndro...</td>\n",
       "      <td>34552798</td>\n",
       "      <td>An 8-year-old female patient visited Ho Chi Mi...</td>\n",
       "      <td>Genetic analysis revealed a PTPN11 gene mutati...</td>\n",
       "      <td>None</td>\n",
       "      <td>NaN</td>\n",
       "      <td>The symptoms described in the case report, inc...</td>\n",
       "      <td>Fail</td>\n",
       "    </tr>\n",
       "  </tbody>\n",
       "</table>\n",
       "</div>"
      ],
      "text/plain": [
       "                                               Title      PMID  \\\n",
       "0  A PMM2-CDG caused by an A108V mutation associa...  36221102   \n",
       "1  Wolfram Syndrome: A Case Report and Review of ...  29850290   \n",
       "2  Recurrent Ischemic Strokes due to Monogenic CO...  37681221   \n",
       "3  Farber Disease Mimicking Juvenile Idiopathic A...  35186337   \n",
       "4  Rubinstein–Taybi Syndrome in a Filipino Infant...  35637708   \n",
       "5  Homozygous Autosomal Recessive DIAPH1 Mutation...  36212620   \n",
       "6  A Case of Autosomal Recessive Intellectual Dev...  36420349   \n",
       "7  Case Report of Fibro-Adipose Vascular Anomaly ...  35967928   \n",
       "8  A Chinese Patient with Spastic Paraplegia Type...  34950521   \n",
       "9  The First Vietnamese Patient of LEOPARD Syndro...  34552798   \n",
       "\n",
       "                                         Case Report  \\\n",
       "0  Case Report: We report the case of a French ch...   \n",
       "1  Case Report:  A 39-year-old woman of mixed Nor...   \n",
       "2  A 35-year-oldright-handed female, who was born...   \n",
       "3  The patient is a 23-month-old boy with unevent...   \n",
       "4  A newborn male was born full term at 38 weeks ...   \n",
       "5  In February 2022, we admitted a four-year-old ...   \n",
       "6  This patient was born full-term from nonconsan...   \n",
       "7  A 23-year-old male with a complaint of right v...   \n",
       "8  A 27-year-old woman who was pregnant (III-4) f...   \n",
       "9  An 8-year-old female patient visited Ho Chi Mi...   \n",
       "\n",
       "                                           Diagnosis  \\\n",
       "0  In the present study, we described the case of...   \n",
       "1  Genetic testing for autosomal dominant optic a...   \n",
       "2  She was hospitalized for 1 week and received e...   \n",
       "3  At 20 months of age, he was referred to ENT cl...   \n",
       "4  The patient was referred to the service of gen...   \n",
       "5  In his study, we present the characteristics o...   \n",
       "6  We describe a case of epilepsy due to MRT5 cau...   \n",
       "7  Our patient was a 23 year-old male with a vola...   \n",
       "8  In the present study, we found a patient with ...   \n",
       "9  Genetic analysis revealed a PTPN11 gene mutati...   \n",
       "\n",
       "                                    Diagnosis GPT3.5 Check GPT3.5  \\\n",
       "0  Based on the presented case report, there are ...         Pass   \n",
       "1  Based on the information provided, the most li...         Fail   \n",
       "2  Based on the provided information, there are s...         Fail   \n",
       "3  Based on the clinical features described, the ...         Fail   \n",
       "4  Based on the provided information, the newborn...         Fail   \n",
       "5  Based on the information provided, the patient...         Fail   \n",
       "6  Based on the provided information, the patient...         Fail   \n",
       "7                                               None          NaN   \n",
       "8  Based on the clinical presentation and finding...         Fail   \n",
       "9                                               None          NaN   \n",
       "\n",
       "                                      Diagnosis GPT4 Check GPT4  \n",
       "0                                                NaN        NaN  \n",
       "1  The mentioned symptoms within this specific ca...       Pass  \n",
       "2  The patient's clinical presentation and family...       Fail  \n",
       "3  Based on the provided symptoms, it seems likel...       Pass  \n",
       "4  Given the symptoms described, particularly the...       Pass  \n",
       "5  While I should advise you that a definitive ge...       Fail  \n",
       "6  Given the information provided, one possible g...       Fail  \n",
       "7  The presentation and described pathology of th...       Fail  \n",
       "8  Based on the information and symptoms provided...       Pass  \n",
       "9  The symptoms described in the case report, inc...       Fail  "
      ]
     },
     "execution_count": 3,
     "metadata": {},
     "output_type": "execute_result"
    }
   ],
   "source": [
    "import json\n",
    "\n",
    "# Apri il file JSON\n",
    "with open('case_reports.json', 'r') as file:\n",
    "    data = json.load(file)\n",
    "\n",
    "op.pd.DataFrame(data)"
   ]
  },
  {
   "cell_type": "code",
   "execution_count": null,
   "metadata": {},
   "outputs": [],
   "source": [
    "# Aggiungi un campo a ogni oggetto nel JSON\n",
    "for obj in data:\n",
    "    obj['Diagnosis'] = 'valore'\n",
    "    obj['Diagnosis GPT3.5'] = 'valore'\n",
    "data"
   ]
  },
  {
   "cell_type": "code",
   "execution_count": null,
   "metadata": {},
   "outputs": [],
   "source": [
    "# ADD 'Diagnosis' for a given PMID\n",
    "for obj in data:\n",
    "    if obj['PMID'] == '36221102':\n",
    "        obj['Diagnosis'] = '''\n",
    "        '''\n",
    "data"
   ]
  },
  {
   "cell_type": "code",
   "execution_count": null,
   "metadata": {},
   "outputs": [],
   "source": [
    "# ADD EMPTY OBJECT\n",
    "# Crea un nuovo elenco per gli oggetti vuoti\n",
    "oggetti_vuoti = []\n",
    "\n",
    "# Itera attraverso gli oggetti nel JSON e crea oggetti vuoti con la stessa struttura\n",
    "for obj in data:\n",
    "    nuovo_oggetto = {}\n",
    "    for chiave in obj:\n",
    "        nuovo_oggetto[chiave] = None\n",
    "    oggetti_vuoti.append(nuovo_oggetto)\n",
    "data.append(nuovo_oggetto)\n",
    "data"
   ]
  },
  {
   "cell_type": "markdown",
   "metadata": {},
   "source": [
    "## ADD Case Reports"
   ]
  },
  {
   "cell_type": "markdown",
   "metadata": {},
   "source": [
    "CASE REPORT sources:   \n",
    "  - [Case Reports in Genetics](https://www.ncbi.nlm.nih.gov/pmc/journals/1908/)"
   ]
  },
  {
   "cell_type": "code",
   "execution_count": 5,
   "metadata": {},
   "outputs": [
    {
     "data": {
      "text/html": [
       "\n",
       "  <style>\n",
       "    pre {\n",
       "        white-space: pre-wrap;\n",
       "    }\n",
       "  </style>\n",
       "  "
      ],
      "text/plain": [
       "<IPython.core.display.HTML object>"
      ]
     },
     "metadata": {},
     "output_type": "display_data"
    },
    {
     "name": "stdout",
     "output_type": "stream",
     "text": [
      "already in list\n"
     ]
    },
    {
     "data": {
      "text/html": [
       "<div>\n",
       "<style scoped>\n",
       "    .dataframe tbody tr th:only-of-type {\n",
       "        vertical-align: middle;\n",
       "    }\n",
       "\n",
       "    .dataframe tbody tr th {\n",
       "        vertical-align: top;\n",
       "    }\n",
       "\n",
       "    .dataframe thead th {\n",
       "        text-align: right;\n",
       "    }\n",
       "</style>\n",
       "<table border=\"1\" class=\"dataframe\">\n",
       "  <thead>\n",
       "    <tr style=\"text-align: right;\">\n",
       "      <th></th>\n",
       "      <th>Title</th>\n",
       "      <th>PMID</th>\n",
       "      <th>Case Report</th>\n",
       "      <th>Diagnosis</th>\n",
       "      <th>Diagnosis GPT3.5</th>\n",
       "      <th>Check GPT3.5</th>\n",
       "      <th>Diagnosis GPT4</th>\n",
       "      <th>Check GPT4</th>\n",
       "    </tr>\n",
       "  </thead>\n",
       "  <tbody>\n",
       "    <tr>\n",
       "      <th>0</th>\n",
       "      <td>A PMM2-CDG caused by an A108V mutation associa...</td>\n",
       "      <td>36221102</td>\n",
       "      <td>Case Report: We report the case of a French ch...</td>\n",
       "      <td>In the present study, we described the case of...</td>\n",
       "      <td>Based on the presented case report, there are ...</td>\n",
       "      <td>Pass</td>\n",
       "      <td>NaN</td>\n",
       "      <td>NaN</td>\n",
       "    </tr>\n",
       "    <tr>\n",
       "      <th>1</th>\n",
       "      <td>Wolfram Syndrome: A Case Report and Review of ...</td>\n",
       "      <td>29850290</td>\n",
       "      <td>Case Report:  A 39-year-old woman of mixed Nor...</td>\n",
       "      <td>Genetic testing for autosomal dominant optic a...</td>\n",
       "      <td>Based on the information provided, the most li...</td>\n",
       "      <td>Fail</td>\n",
       "      <td>The mentioned symptoms within this specific ca...</td>\n",
       "      <td>Pass</td>\n",
       "    </tr>\n",
       "    <tr>\n",
       "      <th>2</th>\n",
       "      <td>Recurrent Ischemic Strokes due to Monogenic CO...</td>\n",
       "      <td>37681221</td>\n",
       "      <td>A 35-year-oldright-handed female, who was born...</td>\n",
       "      <td>She was hospitalized for 1 week and received e...</td>\n",
       "      <td>Based on the provided information, there are s...</td>\n",
       "      <td>Fail</td>\n",
       "      <td>The patient's clinical presentation and family...</td>\n",
       "      <td>Fail</td>\n",
       "    </tr>\n",
       "    <tr>\n",
       "      <th>3</th>\n",
       "      <td>Farber Disease Mimicking Juvenile Idiopathic A...</td>\n",
       "      <td>35186337</td>\n",
       "      <td>The patient is a 23-month-old boy with unevent...</td>\n",
       "      <td>At 20 months of age, he was referred to ENT cl...</td>\n",
       "      <td>Based on the clinical features described, the ...</td>\n",
       "      <td>Fail</td>\n",
       "      <td>Based on the provided symptoms, it seems likel...</td>\n",
       "      <td>Pass</td>\n",
       "    </tr>\n",
       "    <tr>\n",
       "      <th>4</th>\n",
       "      <td>Rubinstein–Taybi Syndrome in a Filipino Infant...</td>\n",
       "      <td>35637708</td>\n",
       "      <td>A newborn male was born full term at 38 weeks ...</td>\n",
       "      <td>The patient was referred to the service of gen...</td>\n",
       "      <td>Based on the provided information, the newborn...</td>\n",
       "      <td>Fail</td>\n",
       "      <td>Given the symptoms described, particularly the...</td>\n",
       "      <td>Pass</td>\n",
       "    </tr>\n",
       "    <tr>\n",
       "      <th>5</th>\n",
       "      <td>Homozygous Autosomal Recessive DIAPH1 Mutation...</td>\n",
       "      <td>36212620</td>\n",
       "      <td>In February 2022, we admitted a four-year-old ...</td>\n",
       "      <td>In his study, we present the characteristics o...</td>\n",
       "      <td>Based on the information provided, the patient...</td>\n",
       "      <td>Fail</td>\n",
       "      <td>While I should advise you that a definitive ge...</td>\n",
       "      <td>Fail</td>\n",
       "    </tr>\n",
       "    <tr>\n",
       "      <th>6</th>\n",
       "      <td>A Case of Autosomal Recessive Intellectual Dev...</td>\n",
       "      <td>36420349</td>\n",
       "      <td>This patient was born full-term from nonconsan...</td>\n",
       "      <td>We describe a case of epilepsy due to MRT5 cau...</td>\n",
       "      <td>Based on the provided information, the patient...</td>\n",
       "      <td>Fail</td>\n",
       "      <td>Given the information provided, one possible g...</td>\n",
       "      <td>Fail</td>\n",
       "    </tr>\n",
       "    <tr>\n",
       "      <th>7</th>\n",
       "      <td>Case Report of Fibro-Adipose Vascular Anomaly ...</td>\n",
       "      <td>35967928</td>\n",
       "      <td>A 23-year-old male with a complaint of right v...</td>\n",
       "      <td>Our patient was a 23 year-old male with a vola...</td>\n",
       "      <td>None</td>\n",
       "      <td>NaN</td>\n",
       "      <td>The presentation and described pathology of th...</td>\n",
       "      <td>Fail</td>\n",
       "    </tr>\n",
       "    <tr>\n",
       "      <th>8</th>\n",
       "      <td>A Chinese Patient with Spastic Paraplegia Type...</td>\n",
       "      <td>34950521</td>\n",
       "      <td>A 27-year-old woman who was pregnant (III-4) f...</td>\n",
       "      <td>In the present study, we found a patient with ...</td>\n",
       "      <td>Based on the clinical presentation and finding...</td>\n",
       "      <td>Fail</td>\n",
       "      <td>Based on the information and symptoms provided...</td>\n",
       "      <td>Pass</td>\n",
       "    </tr>\n",
       "    <tr>\n",
       "      <th>9</th>\n",
       "      <td>The First Vietnamese Patient of LEOPARD Syndro...</td>\n",
       "      <td>34552798</td>\n",
       "      <td>An 8-year-old female patient visited Ho Chi Mi...</td>\n",
       "      <td>Genetic analysis revealed a PTPN11 gene mutati...</td>\n",
       "      <td>None</td>\n",
       "      <td>NaN</td>\n",
       "      <td>The symptoms described in the case report, inc...</td>\n",
       "      <td>Fail</td>\n",
       "    </tr>\n",
       "  </tbody>\n",
       "</table>\n",
       "</div>"
      ],
      "text/plain": [
       "                                               Title      PMID  \\\n",
       "0  A PMM2-CDG caused by an A108V mutation associa...  36221102   \n",
       "1  Wolfram Syndrome: A Case Report and Review of ...  29850290   \n",
       "2  Recurrent Ischemic Strokes due to Monogenic CO...  37681221   \n",
       "3  Farber Disease Mimicking Juvenile Idiopathic A...  35186337   \n",
       "4  Rubinstein–Taybi Syndrome in a Filipino Infant...  35637708   \n",
       "5  Homozygous Autosomal Recessive DIAPH1 Mutation...  36212620   \n",
       "6  A Case of Autosomal Recessive Intellectual Dev...  36420349   \n",
       "7  Case Report of Fibro-Adipose Vascular Anomaly ...  35967928   \n",
       "8  A Chinese Patient with Spastic Paraplegia Type...  34950521   \n",
       "9  The First Vietnamese Patient of LEOPARD Syndro...  34552798   \n",
       "\n",
       "                                         Case Report  \\\n",
       "0  Case Report: We report the case of a French ch...   \n",
       "1  Case Report:  A 39-year-old woman of mixed Nor...   \n",
       "2  A 35-year-oldright-handed female, who was born...   \n",
       "3  The patient is a 23-month-old boy with unevent...   \n",
       "4  A newborn male was born full term at 38 weeks ...   \n",
       "5  In February 2022, we admitted a four-year-old ...   \n",
       "6  This patient was born full-term from nonconsan...   \n",
       "7  A 23-year-old male with a complaint of right v...   \n",
       "8  A 27-year-old woman who was pregnant (III-4) f...   \n",
       "9  An 8-year-old female patient visited Ho Chi Mi...   \n",
       "\n",
       "                                           Diagnosis  \\\n",
       "0  In the present study, we described the case of...   \n",
       "1  Genetic testing for autosomal dominant optic a...   \n",
       "2  She was hospitalized for 1 week and received e...   \n",
       "3  At 20 months of age, he was referred to ENT cl...   \n",
       "4  The patient was referred to the service of gen...   \n",
       "5  In his study, we present the characteristics o...   \n",
       "6  We describe a case of epilepsy due to MRT5 cau...   \n",
       "7  Our patient was a 23 year-old male with a vola...   \n",
       "8  In the present study, we found a patient with ...   \n",
       "9  Genetic analysis revealed a PTPN11 gene mutati...   \n",
       "\n",
       "                                    Diagnosis GPT3.5 Check GPT3.5  \\\n",
       "0  Based on the presented case report, there are ...         Pass   \n",
       "1  Based on the information provided, the most li...         Fail   \n",
       "2  Based on the provided information, there are s...         Fail   \n",
       "3  Based on the clinical features described, the ...         Fail   \n",
       "4  Based on the provided information, the newborn...         Fail   \n",
       "5  Based on the information provided, the patient...         Fail   \n",
       "6  Based on the provided information, the patient...         Fail   \n",
       "7                                               None          NaN   \n",
       "8  Based on the clinical presentation and finding...         Fail   \n",
       "9                                               None          NaN   \n",
       "\n",
       "                                      Diagnosis GPT4 Check GPT4  \n",
       "0                                                NaN        NaN  \n",
       "1  The mentioned symptoms within this specific ca...       Pass  \n",
       "2  The patient's clinical presentation and family...       Fail  \n",
       "3  Based on the provided symptoms, it seems likel...       Pass  \n",
       "4  Given the symptoms described, particularly the...       Pass  \n",
       "5  While I should advise you that a definitive ge...       Fail  \n",
       "6  Given the information provided, one possible g...       Fail  \n",
       "7  The presentation and described pathology of th...       Fail  \n",
       "8  Based on the information and symptoms provided...       Pass  \n",
       "9  The symptoms described in the case report, inc...       Fail  "
      ]
     },
     "execution_count": 5,
     "metadata": {},
     "output_type": "execute_result"
    }
   ],
   "source": [
    "# ADD NEW OBJECT\n",
    "# Get Values from Paper (manually or through Rest API)\n",
    "nuovo_oggetto = {\"Title\": 'The First Vietnamese Patient of LEOPARD Syndrome due to a PTPN11 Mutation: A Case Report and Review of the Literature', \n",
    "                 \"PMID\": '34552798', \n",
    "                 \"Case Report\": '''An 8-year-old female patient visited Ho Chi Minh City Hospital of Dermato-Venereology because of several brownish-black “dots” on her face and body (Figure 1). This condition began to appear at her fourth year of age, and the quantity of the macules increased with age. She also presented with congenital deaf-mutism and retarded growth. No recognized history of family members with a similar condition was noted. Physical examination showed multiple brownish-black macules, varying in shape and size, and with diameters ranging from 1 mm to 5 mm. The macules were discretely spread across the child's face, chest, back, upper and lower extremities, and palms and soles (Figures ​(Figures22 and ​and3).3). Café-au-lait macules of size 2 × 3 cm2 were observed on the back (Figure 4). Distinct facial features included hypertelorism, a flat nasal bridge, and prognathism (protruding lower jaw) (Figures ​(Figures55 and ​and6).6). Dental arch discrepancies, diastema, and hypodontia were also noted (Figure 6). Pectus carinatum (protruding chest) (Figures ​(Figures22 and ​and6),6), scoliosis, and scapula alata (Figure 4) were observed. The patient showed growth retardation with a height and weight of 105 cm and 15 kg, respectively.\n",
    "The radiologic and laboratory workups revealed certain notable findings. The dental roots were abnormal or absent in some positions, as seen on the radiograph. Uterine hypoplasia was noted on abdominal ultrasound and was comparable with similar findings among those of the same age.\n",
    "''', \n",
    "                 \"Diagnosis\": '''Genetic analysis revealed a PTPN11 gene mutation (c.836A > G, p.Tyr279Cys) (Figure 7). No abnormalities were seen on electrocardiogram (ECG), echocardiogram, and chest radiograph (CXR).\n",
    "On collating and considering these signs and symptoms, we concluded that the most likely diagnosis of the patient's condition was LEOPARD syndrome.\n",
    "                 ''',\n",
    "                 \"Diagnosis GPT3.5\": None}\n",
    "\n",
    "pmids = []\n",
    "for i in range(len(data)):\n",
    "    pmids.append(data[i]['PMID'])\n",
    "\n",
    "if nuovo_oggetto['PMID'] not in pmids:\n",
    "    data.append(nuovo_oggetto)\n",
    "else: print('already in list')\n",
    "op.pd.DataFrame(data)"
   ]
  },
  {
   "cell_type": "code",
   "execution_count": 48,
   "metadata": {},
   "outputs": [
    {
     "data": {
      "text/html": [
       "\n",
       "  <style>\n",
       "    pre {\n",
       "        white-space: pre-wrap;\n",
       "    }\n",
       "  </style>\n",
       "  "
      ],
      "text/plain": [
       "<IPython.core.display.HTML object>"
      ]
     },
     "metadata": {},
     "output_type": "display_data"
    }
   ],
   "source": [
    "# Salva il JSON modificato in un nuovo file\n",
    "with open('case_reports.json', 'w') as file:\n",
    "    json.dump(data, file)\n",
    "    file.close()"
   ]
  },
  {
   "cell_type": "code",
   "execution_count": null,
   "metadata": {
    "collapsed": false,
    "jupyter": {
     "outputs_hidden": false
    }
   },
   "outputs": [],
   "source": [
    "#op.load_chat()\n",
    "\n",
    "m = '''\n",
    "\n",
    "'''\n",
    "op.send_message(m, model=op.model)"
   ]
  },
  {
   "cell_type": "code",
   "execution_count": 41,
   "metadata": {
    "collapsed": false,
    "jupyter": {
     "outputs_hidden": false
    }
   },
   "outputs": [
    {
     "data": {
      "text/html": [
       "\n",
       "  <style>\n",
       "    pre {\n",
       "        white-space: pre-wrap;\n",
       "    }\n",
       "  </style>\n",
       "  "
      ],
      "text/plain": [
       "<IPython.core.display.HTML object>"
      ]
     },
     "metadata": {},
     "output_type": "display_data"
    },
    {
     "data": {
      "text/html": [
       "\n",
       "  <style>\n",
       "    pre {\n",
       "        white-space: pre-wrap;\n",
       "    }\n",
       "  </style>\n",
       "  "
      ],
      "text/plain": [
       "<IPython.core.display.HTML object>"
      ]
     },
     "metadata": {},
     "output_type": "display_data"
    },
    {
     "data": {
      "text/html": [
       "\n",
       "  <style>\n",
       "    pre {\n",
       "        white-space: pre-wrap;\n",
       "    }\n",
       "  </style>\n",
       "  "
      ],
      "text/plain": [
       "<IPython.core.display.HTML object>"
      ]
     },
     "metadata": {},
     "output_type": "display_data"
    },
    {
     "name": "stdin",
     "output_type": "stream",
     "text": [
      "Conversation name: BED file explamation in R\n"
     ]
    }
   ],
   "source": [
    "op.save_chat()"
   ]
  },
  {
   "cell_type": "code",
   "execution_count": null,
   "metadata": {
    "collapsed": false,
    "jupyter": {
     "outputs_hidden": false
    }
   },
   "outputs": [],
   "source": [
    "# cleatchat\n",
    "op.clearchat()"
   ]
  },
  {
   "cell_type": "markdown",
   "metadata": {},
   "source": [
    "# Gentic Disease Diagnosis"
   ]
  },
  {
   "cell_type": "markdown",
   "metadata": {},
   "source": [
    "Cerca: malattia Genetica - Case Report (almeno 5)\n",
    "https://pubmed.ncbi.nlm.nih.gov/?size=200&term=%22Case+Reports%22%5Bpt%5D&sort=date&sort_order=desc\n",
    "\n",
    "    Here are five rare genetic diseases that you can search for case reports:\n",
    "\n",
    "    1. Hutchinson-Gilford Progeria Syndrome (HGPS): HGPS is a rare genetic disorder characterized by accelerated aging in children. It is caused by a mutation in the LMNA gene, leading to the production of abnormal progerin protein. Symptoms include growth retardation, cardiovascular disease, and shortened lifespan.\n",
    "\n",
    "    2. Epidermolysis Bullosa (EB): EB is a group of inherited skin disorders characterized by extreme skin fragility and blistering. It is caused by mutations in genes involved in the structure and function of skin proteins. EB is classified into several subtypes based on the specific gene affected, and symptoms can range from mild blistering to life-threatening complications.\n",
    "\n",
    "    3. Alkaptonuria: Alkaptonuria is an autosomal recessive disorder caused by a mutation in the HGD gene. It leads to the accumulation of homogentisic acid in the body, causing dark urine, joint and connective tissue problems, and in severe cases, cardiac and renal complications.\n",
    "\n",
    "    4. Stiff Person Syndrome (SPS): SPS is a neurological disorder characterized by muscle stiffness and spasms. It is often associated with autoantibodies targeting the protein GAD65. SPS can be caused by genetic mutations or occur as an autoimmune condition.\n",
    "\n",
    "    5. Xeroderma Pigmentosum (XP): XP is a rare genetic disorder that impairs the body's ability to repair DNA damage caused by ultraviolet (UV) light. It is caused by mutations in genes involved in nucleotide excision repair. Individuals with XP have a high risk of developing skin cancer at an early age and are highly sensitive to sun exposure.\n",
    "\n",
    "    Please note that these genetic diseases vary in terms of their prevalence and severity. It is always important to consult with a healthcare professional for accurate diagnosis and management.\n",
    "\n",
    "Vedi case_reports.json"
   ]
  },
  {
   "cell_type": "markdown",
   "metadata": {},
   "source": [
    "## Bozza di lavoro\n",
    "\n",
    "% LLM in Genetics\n",
    "\n",
    "%% Intro \n",
    "- Malattie Gentiche rare\n",
    "- Avvento degli LLM in Diagnostica\n",
    "- limiti degli LLM\n",
    "\n",
    "%% Metodi\n",
    "- input: descrizione del caso: sintomi, dati anamestici, analisi cliniche; OMESSE analisi molecolari\n",
    "- --> LLM (GPT3.5, GPT4)) \n",
    "    - system: Always respond as a research physician specializing in rare genetic diseases. Provide accurate and up-to-date information on the specific genetic disease discussed.\n",
    "    - message: I will now provide you with infomations of a case of suspected genetic disease:\n",
    "                ------------\n",
    "                '''+data[n]['Case Report']+'''\n",
    "                ------------\n",
    "                Now use your background knowledge from your training data to make precise and thoughtful deductions about the most possible genetic disease and the genes that could be involved in this case (use OMIM nomenclature).\n",
    "- output: diagnosi della malattia, possibili geni impicati\n",
    "- confronto con dignosi molecolare reale\n",
    "%% Risultati"
   ]
  },
  {
   "cell_type": "markdown",
   "metadata": {},
   "source": [
    "# Workflow"
   ]
  },
  {
   "cell_type": "markdown",
   "metadata": {},
   "source": [
    "## Import json"
   ]
  },
  {
   "cell_type": "code",
   "execution_count": 56,
   "metadata": {},
   "outputs": [
    {
     "data": {
      "text/html": [
       "\n",
       "  <style>\n",
       "    pre {\n",
       "        white-space: pre-wrap;\n",
       "    }\n",
       "  </style>\n",
       "  "
      ],
      "text/plain": [
       "<IPython.core.display.HTML object>"
      ]
     },
     "metadata": {},
     "output_type": "display_data"
    },
    {
     "data": {
      "text/html": [
       "<div>\n",
       "<style scoped>\n",
       "    .dataframe tbody tr th:only-of-type {\n",
       "        vertical-align: middle;\n",
       "    }\n",
       "\n",
       "    .dataframe tbody tr th {\n",
       "        vertical-align: top;\n",
       "    }\n",
       "\n",
       "    .dataframe thead th {\n",
       "        text-align: right;\n",
       "    }\n",
       "</style>\n",
       "<table border=\"1\" class=\"dataframe\">\n",
       "  <thead>\n",
       "    <tr style=\"text-align: right;\">\n",
       "      <th></th>\n",
       "      <th>Title</th>\n",
       "      <th>PMID</th>\n",
       "      <th>Case Report</th>\n",
       "      <th>Diagnosis</th>\n",
       "      <th>Diagnosis GPT3.5</th>\n",
       "      <th>Check GPT3.5</th>\n",
       "      <th>Diagnosis GPT4</th>\n",
       "      <th>Check GPT4</th>\n",
       "    </tr>\n",
       "  </thead>\n",
       "  <tbody>\n",
       "    <tr>\n",
       "      <th>0</th>\n",
       "      <td>A PMM2-CDG caused by an A108V mutation associa...</td>\n",
       "      <td>36221102</td>\n",
       "      <td>Case Report: We report the case of a French ch...</td>\n",
       "      <td>In the present study, we described the case of...</td>\n",
       "      <td>Based on the presented case report, there are ...</td>\n",
       "      <td>Pass</td>\n",
       "      <td>NaN</td>\n",
       "      <td>NaN</td>\n",
       "    </tr>\n",
       "    <tr>\n",
       "      <th>1</th>\n",
       "      <td>Wolfram Syndrome: A Case Report and Review of ...</td>\n",
       "      <td>29850290</td>\n",
       "      <td>Case Report:  A 39-year-old woman of mixed Nor...</td>\n",
       "      <td>Genetic testing for autosomal dominant optic a...</td>\n",
       "      <td>Based on the information provided, the most li...</td>\n",
       "      <td>Fail</td>\n",
       "      <td>The mentioned symptoms within this specific ca...</td>\n",
       "      <td>Pass</td>\n",
       "    </tr>\n",
       "    <tr>\n",
       "      <th>2</th>\n",
       "      <td>Recurrent Ischemic Strokes due to Monogenic CO...</td>\n",
       "      <td>37681221</td>\n",
       "      <td>A 35-year-oldright-handed female, who was born...</td>\n",
       "      <td>She was hospitalized for 1 week and received e...</td>\n",
       "      <td>Based on the provided information, there are s...</td>\n",
       "      <td>Fail</td>\n",
       "      <td>The patient's clinical presentation and family...</td>\n",
       "      <td>Fail</td>\n",
       "    </tr>\n",
       "    <tr>\n",
       "      <th>3</th>\n",
       "      <td>Farber Disease Mimicking Juvenile Idiopathic A...</td>\n",
       "      <td>35186337</td>\n",
       "      <td>The patient is a 23-month-old boy with unevent...</td>\n",
       "      <td>At 20 months of age, he was referred to ENT cl...</td>\n",
       "      <td>Based on the clinical features described, the ...</td>\n",
       "      <td>Fail</td>\n",
       "      <td>Based on the provided symptoms, it seems likel...</td>\n",
       "      <td>Pass</td>\n",
       "    </tr>\n",
       "    <tr>\n",
       "      <th>4</th>\n",
       "      <td>Rubinstein–Taybi Syndrome in a Filipino Infant...</td>\n",
       "      <td>35637708</td>\n",
       "      <td>A newborn male was born full term at 38 weeks ...</td>\n",
       "      <td>The patient was referred to the service of gen...</td>\n",
       "      <td>Based on the provided information, the newborn...</td>\n",
       "      <td>Fail</td>\n",
       "      <td>Given the symptoms described, particularly the...</td>\n",
       "      <td>Pass</td>\n",
       "    </tr>\n",
       "    <tr>\n",
       "      <th>5</th>\n",
       "      <td>Homozygous Autosomal Recessive DIAPH1 Mutation...</td>\n",
       "      <td>36212620</td>\n",
       "      <td>In February 2022, we admitted a four-year-old ...</td>\n",
       "      <td>In his study, we present the characteristics o...</td>\n",
       "      <td>Based on the information provided, the patient...</td>\n",
       "      <td>Fail</td>\n",
       "      <td>While I should advise you that a definitive ge...</td>\n",
       "      <td>Fail</td>\n",
       "    </tr>\n",
       "    <tr>\n",
       "      <th>6</th>\n",
       "      <td>A Case of Autosomal Recessive Intellectual Dev...</td>\n",
       "      <td>36420349</td>\n",
       "      <td>This patient was born full-term from nonconsan...</td>\n",
       "      <td>We describe a case of epilepsy due to MRT5 cau...</td>\n",
       "      <td>Based on the provided information, the patient...</td>\n",
       "      <td>Fail</td>\n",
       "      <td>Given the information provided, one possible g...</td>\n",
       "      <td>Fail</td>\n",
       "    </tr>\n",
       "    <tr>\n",
       "      <th>7</th>\n",
       "      <td>Case Report of Fibro-Adipose Vascular Anomaly ...</td>\n",
       "      <td>35967928</td>\n",
       "      <td>A 23-year-old male with a complaint of right v...</td>\n",
       "      <td>Our patient was a 23 year-old male with a vola...</td>\n",
       "      <td>None</td>\n",
       "      <td>NaN</td>\n",
       "      <td>The presentation and described pathology of th...</td>\n",
       "      <td>Fail</td>\n",
       "    </tr>\n",
       "    <tr>\n",
       "      <th>8</th>\n",
       "      <td>A Chinese Patient with Spastic Paraplegia Type...</td>\n",
       "      <td>34950521</td>\n",
       "      <td>A 27-year-old woman who was pregnant (III-4) f...</td>\n",
       "      <td>In the present study, we found a patient with ...</td>\n",
       "      <td>Based on the clinical presentation and finding...</td>\n",
       "      <td>Fail</td>\n",
       "      <td>Based on the information and symptoms provided...</td>\n",
       "      <td>Pass</td>\n",
       "    </tr>\n",
       "    <tr>\n",
       "      <th>9</th>\n",
       "      <td>The First Vietnamese Patient of LEOPARD Syndro...</td>\n",
       "      <td>34552798</td>\n",
       "      <td>An 8-year-old female patient visited Ho Chi Mi...</td>\n",
       "      <td>Genetic analysis revealed a PTPN11 gene mutati...</td>\n",
       "      <td>None</td>\n",
       "      <td>NaN</td>\n",
       "      <td>The symptoms described in the case report, inc...</td>\n",
       "      <td>Fail</td>\n",
       "    </tr>\n",
       "  </tbody>\n",
       "</table>\n",
       "</div>"
      ],
      "text/plain": [
       "                                               Title      PMID  \\\n",
       "0  A PMM2-CDG caused by an A108V mutation associa...  36221102   \n",
       "1  Wolfram Syndrome: A Case Report and Review of ...  29850290   \n",
       "2  Recurrent Ischemic Strokes due to Monogenic CO...  37681221   \n",
       "3  Farber Disease Mimicking Juvenile Idiopathic A...  35186337   \n",
       "4  Rubinstein–Taybi Syndrome in a Filipino Infant...  35637708   \n",
       "5  Homozygous Autosomal Recessive DIAPH1 Mutation...  36212620   \n",
       "6  A Case of Autosomal Recessive Intellectual Dev...  36420349   \n",
       "7  Case Report of Fibro-Adipose Vascular Anomaly ...  35967928   \n",
       "8  A Chinese Patient with Spastic Paraplegia Type...  34950521   \n",
       "9  The First Vietnamese Patient of LEOPARD Syndro...  34552798   \n",
       "\n",
       "                                         Case Report  \\\n",
       "0  Case Report: We report the case of a French ch...   \n",
       "1  Case Report:  A 39-year-old woman of mixed Nor...   \n",
       "2  A 35-year-oldright-handed female, who was born...   \n",
       "3  The patient is a 23-month-old boy with unevent...   \n",
       "4  A newborn male was born full term at 38 weeks ...   \n",
       "5  In February 2022, we admitted a four-year-old ...   \n",
       "6  This patient was born full-term from nonconsan...   \n",
       "7  A 23-year-old male with a complaint of right v...   \n",
       "8  A 27-year-old woman who was pregnant (III-4) f...   \n",
       "9  An 8-year-old female patient visited Ho Chi Mi...   \n",
       "\n",
       "                                           Diagnosis  \\\n",
       "0  In the present study, we described the case of...   \n",
       "1  Genetic testing for autosomal dominant optic a...   \n",
       "2  She was hospitalized for 1 week and received e...   \n",
       "3  At 20 months of age, he was referred to ENT cl...   \n",
       "4  The patient was referred to the service of gen...   \n",
       "5  In his study, we present the characteristics o...   \n",
       "6  We describe a case of epilepsy due to MRT5 cau...   \n",
       "7  Our patient was a 23 year-old male with a vola...   \n",
       "8  In the present study, we found a patient with ...   \n",
       "9  Genetic analysis revealed a PTPN11 gene mutati...   \n",
       "\n",
       "                                    Diagnosis GPT3.5 Check GPT3.5  \\\n",
       "0  Based on the presented case report, there are ...         Pass   \n",
       "1  Based on the information provided, the most li...         Fail   \n",
       "2  Based on the provided information, there are s...         Fail   \n",
       "3  Based on the clinical features described, the ...         Fail   \n",
       "4  Based on the provided information, the newborn...         Fail   \n",
       "5  Based on the information provided, the patient...         Fail   \n",
       "6  Based on the provided information, the patient...         Fail   \n",
       "7                                               None          NaN   \n",
       "8  Based on the clinical presentation and finding...         Fail   \n",
       "9                                               None          NaN   \n",
       "\n",
       "                                      Diagnosis GPT4 Check GPT4  \n",
       "0                                                NaN        NaN  \n",
       "1  The mentioned symptoms within this specific ca...       Pass  \n",
       "2  The patient's clinical presentation and family...       Fail  \n",
       "3  Based on the provided symptoms, it seems likel...       Pass  \n",
       "4  Given the symptoms described, particularly the...       Pass  \n",
       "5  While I should advise you that a definitive ge...       Fail  \n",
       "6  Given the information provided, one possible g...       Fail  \n",
       "7  The presentation and described pathology of th...       Fail  \n",
       "8  Based on the information and symptoms provided...       Pass  \n",
       "9  The symptoms described in the case report, inc...       Fail  "
      ]
     },
     "execution_count": 56,
     "metadata": {},
     "output_type": "execute_result"
    }
   ],
   "source": [
    "import pandas as pd\n",
    "import json\n",
    "myjson ='case_reports.json'\n",
    "# Apri il file JSON\n",
    "with open(myjson, 'r') as file:\n",
    "    data = json.load(file)\n",
    "    file.close()\n",
    "    \n",
    "# Carica il file JSON in un dataframe pandas\n",
    "df = pd.read_json(myjson, encoding='utf-8')\n",
    "\n",
    "if False:\n",
    "    for i in range(len(data)):\n",
    "        print(data[i]['Title'])\n",
    "        print(data[i]['PMID'],'\\n')\n",
    "        #print(data[i]['Case Report'],'\\n')\n",
    "df"
   ]
  },
  {
   "cell_type": "code",
   "execution_count": 50,
   "metadata": {},
   "outputs": [
    {
     "data": {
      "text/html": [
       "\n",
       "  <style>\n",
       "    pre {\n",
       "        white-space: pre-wrap;\n",
       "    }\n",
       "  </style>\n",
       "  "
      ],
      "text/plain": [
       "<IPython.core.display.HTML object>"
      ]
     },
     "metadata": {},
     "output_type": "display_data"
    },
    {
     "name": "stdout",
     "output_type": "stream",
     "text": [
      "The First Vietnamese Patient of LEOPARD Syndrome due to a PTPN11 Mutation: A Case Report and Review of the Literature\n",
      "34552798\n"
     ]
    }
   ],
   "source": [
    "# choose Case:\n",
    "n = 9\n",
    "print(data[n]['Title'])\n",
    "print(data[n]['PMID'])\n",
    "#print(data[n]['Case Report'])"
   ]
  },
  {
   "cell_type": "code",
   "execution_count": 51,
   "metadata": {
    "collapsed": false,
    "jupyter": {
     "outputs_hidden": false
    }
   },
   "outputs": [
    {
     "data": {
      "text/html": [
       "\n",
       "  <style>\n",
       "    pre {\n",
       "        white-space: pre-wrap;\n",
       "    }\n",
       "  </style>\n",
       "  "
      ],
      "text/plain": [
       "<IPython.core.display.HTML object>"
      ]
     },
     "metadata": {},
     "output_type": "display_data"
    },
    {
     "name": "stdout",
     "output_type": "stream",
     "text": [
      "*chat cleared*\n",
      "\n",
      "The symptoms described in the case report, including café-au-lait spots on the skin, congenital deafness, growth retardation, characteristic facial features, dental abnormalities, and skeletal abnormalities, are highly suggestive of a genetic syndrome known as \"Peutz-Jeghers syndrome\" or PJS. \n",
      "\n",
      "Peutz-Jeghers syndrome is an autosomal dominant genetic disorder characterized by the development of non-cancerous growths (polyps) in the gastrointestinal tract and pigmented patches on the skin and mucous membranes. \n",
      "\n",
      "The symptoms described in your case report, including growth retardation with height and weight below normal parameters, deafness, and various other anomalies are typically characteristic of this syndrome.\n",
      "\n",
      "The macules, described as brownish-black and varying in their placement and size, sound very much like the characteristic lentigines seen in Peutz-Jeghers syndrome. Also, the mention of abdominal ultrasound findings of uterine hypoplasia could hint towards the gynecologic manifestations associated with Peutz-Jeghers.\n",
      "\n",
      "In terms of the gene involved - mutations in the STK11 gene (also known as LKB1), located on chromosome 19p13.3, are responsible for causing Peutz-Jeghers syndrome. The STK11 gene provides instructions for making an enzyme that helps regulate many cell functions, such as cell division and cell death. Mutations in this gene can disrupt these cell regulations leading to the symptoms of PJS. \n",
      "\n",
      "Please be aware that this analysis is based on the given symptoms, and more definitive tests like genetic sequencing would be needed for diagnosis. As a research physician, I also recommend consultation with a clinical geneticist or a licensed genetics counselor for the patient and family.\n"
     ]
    }
   ],
   "source": [
    "#empty chat\n",
    "op.clearchat()\n",
    "op.choose_model()\n",
    "\n",
    "sys_4 ='''\n",
    "Always respond as a research physician specializing in genetic diseases. Provide accurate and up-to-date information on the specific genetic disease discussed and genes involved.\n",
    "'''\n",
    "\n",
    "m = '''\n",
    "I will now provide you with infomations of a case of suspected genetic disease:\n",
    "------------\n",
    "'''+data[n]['Case Report']+'''\n",
    "------------\n",
    "\n",
    "Now use your background knowledge from your training data to make precise and thoughtful deductions about the most possible genetic disease and the genes that could be involved in this case (use OMIM nomenclature).\n",
    "'''\n",
    "\n",
    "\n",
    "op.chat_gpt\n",
    "op.send_message(m,system= sys_4, model=op.model, printreply= False, printtoken=False)\n",
    "print(op.reply)"
   ]
  },
  {
   "cell_type": "code",
   "execution_count": 52,
   "metadata": {},
   "outputs": [
    {
     "data": {
      "text/html": [
       "\n",
       "  <style>\n",
       "    pre {\n",
       "        white-space: pre-wrap;\n",
       "    }\n",
       "  </style>\n",
       "  "
      ],
      "text/plain": [
       "<IPython.core.display.HTML object>"
      ]
     },
     "metadata": {},
     "output_type": "display_data"
    },
    {
     "name": "stdout",
     "output_type": "stream",
     "text": [
      "Title               The First Vietnamese Patient of LEOPARD Syndro...\n",
      "PMID                                                         34552798\n",
      "Case Report         An 8-year-old female patient visited Ho Chi Mi...\n",
      "Diagnosis           Genetic analysis revealed a PTPN11 gene mutati...\n",
      "Diagnosis GPT3.5                                                 None\n",
      "Diagnosis GPT4      The symptoms described in the case report, inc...\n",
      "dtype: object\n"
     ]
    },
    {
     "data": {
      "text/html": [
       "<div>\n",
       "<style scoped>\n",
       "    .dataframe tbody tr th:only-of-type {\n",
       "        vertical-align: middle;\n",
       "    }\n",
       "\n",
       "    .dataframe tbody tr th {\n",
       "        vertical-align: top;\n",
       "    }\n",
       "\n",
       "    .dataframe thead th {\n",
       "        text-align: right;\n",
       "    }\n",
       "</style>\n",
       "<table border=\"1\" class=\"dataframe\">\n",
       "  <thead>\n",
       "    <tr style=\"text-align: right;\">\n",
       "      <th></th>\n",
       "      <th>Title</th>\n",
       "      <th>PMID</th>\n",
       "      <th>Case Report</th>\n",
       "      <th>Diagnosis</th>\n",
       "      <th>Diagnosis GPT3.5</th>\n",
       "      <th>Check GPT3.5</th>\n",
       "      <th>Diagnosis GPT4</th>\n",
       "      <th>Check GPT4</th>\n",
       "    </tr>\n",
       "  </thead>\n",
       "  <tbody>\n",
       "    <tr>\n",
       "      <th>0</th>\n",
       "      <td>A PMM2-CDG caused by an A108V mutation associa...</td>\n",
       "      <td>36221102</td>\n",
       "      <td>Case Report: We report the case of a French ch...</td>\n",
       "      <td>In the present study, we described the case of...</td>\n",
       "      <td>Based on the presented case report, there are ...</td>\n",
       "      <td>Pass</td>\n",
       "      <td>NaN</td>\n",
       "      <td>NaN</td>\n",
       "    </tr>\n",
       "    <tr>\n",
       "      <th>1</th>\n",
       "      <td>Wolfram Syndrome: A Case Report and Review of ...</td>\n",
       "      <td>29850290</td>\n",
       "      <td>Case Report:  A 39-year-old woman of mixed Nor...</td>\n",
       "      <td>Genetic testing for autosomal dominant optic a...</td>\n",
       "      <td>Based on the information provided, the most li...</td>\n",
       "      <td>Fail</td>\n",
       "      <td>The mentioned symptoms within this specific ca...</td>\n",
       "      <td>Pass</td>\n",
       "    </tr>\n",
       "    <tr>\n",
       "      <th>2</th>\n",
       "      <td>Recurrent Ischemic Strokes due to Monogenic CO...</td>\n",
       "      <td>37681221</td>\n",
       "      <td>A 35-year-oldright-handed female, who was born...</td>\n",
       "      <td>She was hospitalized for 1 week and received e...</td>\n",
       "      <td>Based on the provided information, there are s...</td>\n",
       "      <td>Fail</td>\n",
       "      <td>The patient's clinical presentation and family...</td>\n",
       "      <td>Fail</td>\n",
       "    </tr>\n",
       "    <tr>\n",
       "      <th>3</th>\n",
       "      <td>Farber Disease Mimicking Juvenile Idiopathic A...</td>\n",
       "      <td>35186337</td>\n",
       "      <td>The patient is a 23-month-old boy with unevent...</td>\n",
       "      <td>At 20 months of age, he was referred to ENT cl...</td>\n",
       "      <td>Based on the clinical features described, the ...</td>\n",
       "      <td>Fail</td>\n",
       "      <td>Based on the provided symptoms, it seems likel...</td>\n",
       "      <td>Pass</td>\n",
       "    </tr>\n",
       "    <tr>\n",
       "      <th>4</th>\n",
       "      <td>Rubinstein–Taybi Syndrome in a Filipino Infant...</td>\n",
       "      <td>35637708</td>\n",
       "      <td>A newborn male was born full term at 38 weeks ...</td>\n",
       "      <td>The patient was referred to the service of gen...</td>\n",
       "      <td>Based on the provided information, the newborn...</td>\n",
       "      <td>Fail</td>\n",
       "      <td>Given the symptoms described, particularly the...</td>\n",
       "      <td>Pass</td>\n",
       "    </tr>\n",
       "    <tr>\n",
       "      <th>5</th>\n",
       "      <td>Homozygous Autosomal Recessive DIAPH1 Mutation...</td>\n",
       "      <td>36212620</td>\n",
       "      <td>In February 2022, we admitted a four-year-old ...</td>\n",
       "      <td>In his study, we present the characteristics o...</td>\n",
       "      <td>Based on the information provided, the patient...</td>\n",
       "      <td>Fail</td>\n",
       "      <td>While I should advise you that a definitive ge...</td>\n",
       "      <td>Fail</td>\n",
       "    </tr>\n",
       "    <tr>\n",
       "      <th>6</th>\n",
       "      <td>A Case of Autosomal Recessive Intellectual Dev...</td>\n",
       "      <td>36420349</td>\n",
       "      <td>This patient was born full-term from nonconsan...</td>\n",
       "      <td>We describe a case of epilepsy due to MRT5 cau...</td>\n",
       "      <td>Based on the provided information, the patient...</td>\n",
       "      <td>Fail</td>\n",
       "      <td>Given the information provided, one possible g...</td>\n",
       "      <td>Fail</td>\n",
       "    </tr>\n",
       "    <tr>\n",
       "      <th>7</th>\n",
       "      <td>Case Report of Fibro-Adipose Vascular Anomaly ...</td>\n",
       "      <td>35967928</td>\n",
       "      <td>A 23-year-old male with a complaint of right v...</td>\n",
       "      <td>Our patient was a 23 year-old male with a vola...</td>\n",
       "      <td>None</td>\n",
       "      <td>NaN</td>\n",
       "      <td>The presentation and described pathology of th...</td>\n",
       "      <td>Fail</td>\n",
       "    </tr>\n",
       "    <tr>\n",
       "      <th>8</th>\n",
       "      <td>A Chinese Patient with Spastic Paraplegia Type...</td>\n",
       "      <td>34950521</td>\n",
       "      <td>A 27-year-old woman who was pregnant (III-4) f...</td>\n",
       "      <td>In the present study, we found a patient with ...</td>\n",
       "      <td>Based on the clinical presentation and finding...</td>\n",
       "      <td>Fail</td>\n",
       "      <td>Based on the information and symptoms provided...</td>\n",
       "      <td>Pass</td>\n",
       "    </tr>\n",
       "    <tr>\n",
       "      <th>9</th>\n",
       "      <td>The First Vietnamese Patient of LEOPARD Syndro...</td>\n",
       "      <td>34552798</td>\n",
       "      <td>An 8-year-old female patient visited Ho Chi Mi...</td>\n",
       "      <td>Genetic analysis revealed a PTPN11 gene mutati...</td>\n",
       "      <td>None</td>\n",
       "      <td>NaN</td>\n",
       "      <td>The symptoms described in the case report, inc...</td>\n",
       "      <td>NaN</td>\n",
       "    </tr>\n",
       "  </tbody>\n",
       "</table>\n",
       "</div>"
      ],
      "text/plain": [
       "                                               Title      PMID  \\\n",
       "0  A PMM2-CDG caused by an A108V mutation associa...  36221102   \n",
       "1  Wolfram Syndrome: A Case Report and Review of ...  29850290   \n",
       "2  Recurrent Ischemic Strokes due to Monogenic CO...  37681221   \n",
       "3  Farber Disease Mimicking Juvenile Idiopathic A...  35186337   \n",
       "4  Rubinstein–Taybi Syndrome in a Filipino Infant...  35637708   \n",
       "5  Homozygous Autosomal Recessive DIAPH1 Mutation...  36212620   \n",
       "6  A Case of Autosomal Recessive Intellectual Dev...  36420349   \n",
       "7  Case Report of Fibro-Adipose Vascular Anomaly ...  35967928   \n",
       "8  A Chinese Patient with Spastic Paraplegia Type...  34950521   \n",
       "9  The First Vietnamese Patient of LEOPARD Syndro...  34552798   \n",
       "\n",
       "                                         Case Report  \\\n",
       "0  Case Report: We report the case of a French ch...   \n",
       "1  Case Report:  A 39-year-old woman of mixed Nor...   \n",
       "2  A 35-year-oldright-handed female, who was born...   \n",
       "3  The patient is a 23-month-old boy with unevent...   \n",
       "4  A newborn male was born full term at 38 weeks ...   \n",
       "5  In February 2022, we admitted a four-year-old ...   \n",
       "6  This patient was born full-term from nonconsan...   \n",
       "7  A 23-year-old male with a complaint of right v...   \n",
       "8  A 27-year-old woman who was pregnant (III-4) f...   \n",
       "9  An 8-year-old female patient visited Ho Chi Mi...   \n",
       "\n",
       "                                           Diagnosis  \\\n",
       "0  In the present study, we described the case of...   \n",
       "1  Genetic testing for autosomal dominant optic a...   \n",
       "2  She was hospitalized for 1 week and received e...   \n",
       "3  At 20 months of age, he was referred to ENT cl...   \n",
       "4  The patient was referred to the service of gen...   \n",
       "5  In his study, we present the characteristics o...   \n",
       "6  We describe a case of epilepsy due to MRT5 cau...   \n",
       "7  Our patient was a 23 year-old male with a vola...   \n",
       "8  In the present study, we found a patient with ...   \n",
       "9  Genetic analysis revealed a PTPN11 gene mutati...   \n",
       "\n",
       "                                    Diagnosis GPT3.5 Check GPT3.5  \\\n",
       "0  Based on the presented case report, there are ...         Pass   \n",
       "1  Based on the information provided, the most li...         Fail   \n",
       "2  Based on the provided information, there are s...         Fail   \n",
       "3  Based on the clinical features described, the ...         Fail   \n",
       "4  Based on the provided information, the newborn...         Fail   \n",
       "5  Based on the information provided, the patient...         Fail   \n",
       "6  Based on the provided information, the patient...         Fail   \n",
       "7                                               None          NaN   \n",
       "8  Based on the clinical presentation and finding...         Fail   \n",
       "9                                               None          NaN   \n",
       "\n",
       "                                      Diagnosis GPT4 Check GPT4  \n",
       "0                                                NaN        NaN  \n",
       "1  The mentioned symptoms within this specific ca...       Pass  \n",
       "2  The patient's clinical presentation and family...       Fail  \n",
       "3  Based on the provided symptoms, it seems likel...       Pass  \n",
       "4  Given the symptoms described, particularly the...       Pass  \n",
       "5  While I should advise you that a definitive ge...       Fail  \n",
       "6  Given the information provided, one possible g...       Fail  \n",
       "7  The presentation and described pathology of th...       Fail  \n",
       "8  Based on the information and symptoms provided...       Pass  \n",
       "9  The symptoms described in the case report, inc...        NaN  "
      ]
     },
     "execution_count": 52,
     "metadata": {},
     "output_type": "execute_result"
    }
   ],
   "source": [
    "# add reply\n",
    "flag= ''\n",
    "if op.model == 'gpt-3.5-turbo' or op.model == 'gpt-3.5-turbo-16k' :\n",
    "    diagnosis = 'Diagnosis GPT3.5'\n",
    "    check = 'Check GPT3.5'\n",
    "    \n",
    "elif op.model == 'gpt-4':\n",
    "    diagnosis = 'Diagnosis GPT4'\n",
    "    check = 'Check GPT4'\n",
    "\n",
    "\n",
    "data[n][diagnosis] = op.reply\n",
    "print(pd.Series(data[n]))\n",
    "df = pd.DataFrame(data)\n",
    "df"
   ]
  },
  {
   "cell_type": "code",
   "execution_count": 53,
   "metadata": {},
   "outputs": [
    {
     "data": {
      "text/html": [
       "\n",
       "  <style>\n",
       "    pre {\n",
       "        white-space: pre-wrap;\n",
       "    }\n",
       "  </style>\n",
       "  "
      ],
      "text/plain": [
       "<IPython.core.display.HTML object>"
      ]
     },
     "metadata": {},
     "output_type": "display_data"
    },
    {
     "name": "stdout",
     "output_type": "stream",
     "text": [
      "Genetic analysis revealed a PTPN11 gene mutation (c.836A > G, p.Tyr279Cys) (Figure 7). No abnormalities were seen on electrocardiogram (ECG), echocardiogram, and chest radiograph (CXR).\n",
      "On collating and considering these signs and symptoms, we concluded that the most likely diagnosis of the patient's condition was LEOPARD syndrome.\n",
      "                 \n",
      "------------\n",
      "The symptoms described in the case report, including café-au-lait spots on the skin, congenital deafness, growth retardation, characteristic facial features, dental abnormalities, and skeletal abnormalities, are highly suggestive of a genetic syndrome known as \"Peutz-Jeghers syndrome\" or PJS. \n",
      "\n",
      "Peutz-Jeghers syndrome is an autosomal dominant genetic disorder characterized by the development of non-cancerous growths (polyps) in the gastrointestinal tract and pigmented patches on the skin and mucous membranes. \n",
      "\n",
      "The symptoms described in your case report, including growth retardation with height and weight below normal parameters, deafness, and various other anomalies are typically characteristic of this syndrome.\n",
      "\n",
      "The macules, described as brownish-black and varying in their placement and size, sound very much like the characteristic lentigines seen in Peutz-Jeghers syndrome. Also, the mention of abdominal ultrasound findings of uterine hypoplasia could hint towards the gynecologic manifestations associated with Peutz-Jeghers.\n",
      "\n",
      "In terms of the gene involved - mutations in the STK11 gene (also known as LKB1), located on chromosome 19p13.3, are responsible for causing Peutz-Jeghers syndrome. The STK11 gene provides instructions for making an enzyme that helps regulate many cell functions, such as cell division and cell death. Mutations in this gene can disrupt these cell regulations leading to the symptoms of PJS. \n",
      "\n",
      "Please be aware that this analysis is based on the given symptoms, and more definitive tests like genetic sequencing would be needed for diagnosis. As a research physician, I also recommend consultation with a clinical geneticist or a licensed genetics counselor for the patient and family.\n"
     ]
    }
   ],
   "source": [
    "print(data[n]['Diagnosis'])\n",
    "print('------------')\n",
    "print(data[n][diagnosis])"
   ]
  },
  {
   "cell_type": "code",
   "execution_count": 54,
   "metadata": {},
   "outputs": [
    {
     "data": {
      "text/html": [
       "\n",
       "  <style>\n",
       "    pre {\n",
       "        white-space: pre-wrap;\n",
       "    }\n",
       "  </style>\n",
       "  "
      ],
      "text/plain": [
       "<IPython.core.display.HTML object>"
      ]
     },
     "metadata": {},
     "output_type": "display_data"
    },
    {
     "data": {
      "text/html": [
       "<div>\n",
       "<style scoped>\n",
       "    .dataframe tbody tr th:only-of-type {\n",
       "        vertical-align: middle;\n",
       "    }\n",
       "\n",
       "    .dataframe tbody tr th {\n",
       "        vertical-align: top;\n",
       "    }\n",
       "\n",
       "    .dataframe thead th {\n",
       "        text-align: right;\n",
       "    }\n",
       "</style>\n",
       "<table border=\"1\" class=\"dataframe\">\n",
       "  <thead>\n",
       "    <tr style=\"text-align: right;\">\n",
       "      <th></th>\n",
       "      <th>Title</th>\n",
       "      <th>PMID</th>\n",
       "      <th>Case Report</th>\n",
       "      <th>Diagnosis</th>\n",
       "      <th>Diagnosis GPT3.5</th>\n",
       "      <th>Check GPT3.5</th>\n",
       "      <th>Diagnosis GPT4</th>\n",
       "      <th>Check GPT4</th>\n",
       "    </tr>\n",
       "  </thead>\n",
       "  <tbody>\n",
       "    <tr>\n",
       "      <th>0</th>\n",
       "      <td>A PMM2-CDG caused by an A108V mutation associa...</td>\n",
       "      <td>36221102</td>\n",
       "      <td>Case Report: We report the case of a French ch...</td>\n",
       "      <td>In the present study, we described the case of...</td>\n",
       "      <td>Based on the presented case report, there are ...</td>\n",
       "      <td>Pass</td>\n",
       "      <td>NaN</td>\n",
       "      <td>NaN</td>\n",
       "    </tr>\n",
       "    <tr>\n",
       "      <th>1</th>\n",
       "      <td>Wolfram Syndrome: A Case Report and Review of ...</td>\n",
       "      <td>29850290</td>\n",
       "      <td>Case Report:  A 39-year-old woman of mixed Nor...</td>\n",
       "      <td>Genetic testing for autosomal dominant optic a...</td>\n",
       "      <td>Based on the information provided, the most li...</td>\n",
       "      <td>Fail</td>\n",
       "      <td>The mentioned symptoms within this specific ca...</td>\n",
       "      <td>Pass</td>\n",
       "    </tr>\n",
       "    <tr>\n",
       "      <th>2</th>\n",
       "      <td>Recurrent Ischemic Strokes due to Monogenic CO...</td>\n",
       "      <td>37681221</td>\n",
       "      <td>A 35-year-oldright-handed female, who was born...</td>\n",
       "      <td>She was hospitalized for 1 week and received e...</td>\n",
       "      <td>Based on the provided information, there are s...</td>\n",
       "      <td>Fail</td>\n",
       "      <td>The patient's clinical presentation and family...</td>\n",
       "      <td>Fail</td>\n",
       "    </tr>\n",
       "    <tr>\n",
       "      <th>3</th>\n",
       "      <td>Farber Disease Mimicking Juvenile Idiopathic A...</td>\n",
       "      <td>35186337</td>\n",
       "      <td>The patient is a 23-month-old boy with unevent...</td>\n",
       "      <td>At 20 months of age, he was referred to ENT cl...</td>\n",
       "      <td>Based on the clinical features described, the ...</td>\n",
       "      <td>Fail</td>\n",
       "      <td>Based on the provided symptoms, it seems likel...</td>\n",
       "      <td>Pass</td>\n",
       "    </tr>\n",
       "    <tr>\n",
       "      <th>4</th>\n",
       "      <td>Rubinstein–Taybi Syndrome in a Filipino Infant...</td>\n",
       "      <td>35637708</td>\n",
       "      <td>A newborn male was born full term at 38 weeks ...</td>\n",
       "      <td>The patient was referred to the service of gen...</td>\n",
       "      <td>Based on the provided information, the newborn...</td>\n",
       "      <td>Fail</td>\n",
       "      <td>Given the symptoms described, particularly the...</td>\n",
       "      <td>Pass</td>\n",
       "    </tr>\n",
       "    <tr>\n",
       "      <th>5</th>\n",
       "      <td>Homozygous Autosomal Recessive DIAPH1 Mutation...</td>\n",
       "      <td>36212620</td>\n",
       "      <td>In February 2022, we admitted a four-year-old ...</td>\n",
       "      <td>In his study, we present the characteristics o...</td>\n",
       "      <td>Based on the information provided, the patient...</td>\n",
       "      <td>Fail</td>\n",
       "      <td>While I should advise you that a definitive ge...</td>\n",
       "      <td>Fail</td>\n",
       "    </tr>\n",
       "    <tr>\n",
       "      <th>6</th>\n",
       "      <td>A Case of Autosomal Recessive Intellectual Dev...</td>\n",
       "      <td>36420349</td>\n",
       "      <td>This patient was born full-term from nonconsan...</td>\n",
       "      <td>We describe a case of epilepsy due to MRT5 cau...</td>\n",
       "      <td>Based on the provided information, the patient...</td>\n",
       "      <td>Fail</td>\n",
       "      <td>Given the information provided, one possible g...</td>\n",
       "      <td>Fail</td>\n",
       "    </tr>\n",
       "    <tr>\n",
       "      <th>7</th>\n",
       "      <td>Case Report of Fibro-Adipose Vascular Anomaly ...</td>\n",
       "      <td>35967928</td>\n",
       "      <td>A 23-year-old male with a complaint of right v...</td>\n",
       "      <td>Our patient was a 23 year-old male with a vola...</td>\n",
       "      <td>None</td>\n",
       "      <td>NaN</td>\n",
       "      <td>The presentation and described pathology of th...</td>\n",
       "      <td>Fail</td>\n",
       "    </tr>\n",
       "    <tr>\n",
       "      <th>8</th>\n",
       "      <td>A Chinese Patient with Spastic Paraplegia Type...</td>\n",
       "      <td>34950521</td>\n",
       "      <td>A 27-year-old woman who was pregnant (III-4) f...</td>\n",
       "      <td>In the present study, we found a patient with ...</td>\n",
       "      <td>Based on the clinical presentation and finding...</td>\n",
       "      <td>Fail</td>\n",
       "      <td>Based on the information and symptoms provided...</td>\n",
       "      <td>Pass</td>\n",
       "    </tr>\n",
       "    <tr>\n",
       "      <th>9</th>\n",
       "      <td>The First Vietnamese Patient of LEOPARD Syndro...</td>\n",
       "      <td>34552798</td>\n",
       "      <td>An 8-year-old female patient visited Ho Chi Mi...</td>\n",
       "      <td>Genetic analysis revealed a PTPN11 gene mutati...</td>\n",
       "      <td>None</td>\n",
       "      <td>NaN</td>\n",
       "      <td>The symptoms described in the case report, inc...</td>\n",
       "      <td>Fail</td>\n",
       "    </tr>\n",
       "  </tbody>\n",
       "</table>\n",
       "</div>"
      ],
      "text/plain": [
       "                                               Title      PMID  \\\n",
       "0  A PMM2-CDG caused by an A108V mutation associa...  36221102   \n",
       "1  Wolfram Syndrome: A Case Report and Review of ...  29850290   \n",
       "2  Recurrent Ischemic Strokes due to Monogenic CO...  37681221   \n",
       "3  Farber Disease Mimicking Juvenile Idiopathic A...  35186337   \n",
       "4  Rubinstein–Taybi Syndrome in a Filipino Infant...  35637708   \n",
       "5  Homozygous Autosomal Recessive DIAPH1 Mutation...  36212620   \n",
       "6  A Case of Autosomal Recessive Intellectual Dev...  36420349   \n",
       "7  Case Report of Fibro-Adipose Vascular Anomaly ...  35967928   \n",
       "8  A Chinese Patient with Spastic Paraplegia Type...  34950521   \n",
       "9  The First Vietnamese Patient of LEOPARD Syndro...  34552798   \n",
       "\n",
       "                                         Case Report  \\\n",
       "0  Case Report: We report the case of a French ch...   \n",
       "1  Case Report:  A 39-year-old woman of mixed Nor...   \n",
       "2  A 35-year-oldright-handed female, who was born...   \n",
       "3  The patient is a 23-month-old boy with unevent...   \n",
       "4  A newborn male was born full term at 38 weeks ...   \n",
       "5  In February 2022, we admitted a four-year-old ...   \n",
       "6  This patient was born full-term from nonconsan...   \n",
       "7  A 23-year-old male with a complaint of right v...   \n",
       "8  A 27-year-old woman who was pregnant (III-4) f...   \n",
       "9  An 8-year-old female patient visited Ho Chi Mi...   \n",
       "\n",
       "                                           Diagnosis  \\\n",
       "0  In the present study, we described the case of...   \n",
       "1  Genetic testing for autosomal dominant optic a...   \n",
       "2  She was hospitalized for 1 week and received e...   \n",
       "3  At 20 months of age, he was referred to ENT cl...   \n",
       "4  The patient was referred to the service of gen...   \n",
       "5  In his study, we present the characteristics o...   \n",
       "6  We describe a case of epilepsy due to MRT5 cau...   \n",
       "7  Our patient was a 23 year-old male with a vola...   \n",
       "8  In the present study, we found a patient with ...   \n",
       "9  Genetic analysis revealed a PTPN11 gene mutati...   \n",
       "\n",
       "                                    Diagnosis GPT3.5 Check GPT3.5  \\\n",
       "0  Based on the presented case report, there are ...         Pass   \n",
       "1  Based on the information provided, the most li...         Fail   \n",
       "2  Based on the provided information, there are s...         Fail   \n",
       "3  Based on the clinical features described, the ...         Fail   \n",
       "4  Based on the provided information, the newborn...         Fail   \n",
       "5  Based on the information provided, the patient...         Fail   \n",
       "6  Based on the provided information, the patient...         Fail   \n",
       "7                                               None          NaN   \n",
       "8  Based on the clinical presentation and finding...         Fail   \n",
       "9                                               None          NaN   \n",
       "\n",
       "                                      Diagnosis GPT4 Check GPT4  \n",
       "0                                                NaN        NaN  \n",
       "1  The mentioned symptoms within this specific ca...       Pass  \n",
       "2  The patient's clinical presentation and family...       Fail  \n",
       "3  Based on the provided symptoms, it seems likel...       Pass  \n",
       "4  Given the symptoms described, particularly the...       Pass  \n",
       "5  While I should advise you that a definitive ge...       Fail  \n",
       "6  Given the information provided, one possible g...       Fail  \n",
       "7  The presentation and described pathology of th...       Fail  \n",
       "8  Based on the information and symptoms provided...       Pass  \n",
       "9  The symptoms described in the case report, inc...       Fail  "
      ]
     },
     "execution_count": 54,
     "metadata": {},
     "output_type": "execute_result"
    }
   ],
   "source": [
    "for obj in data:\n",
    "    if obj['PMID'] == data[n]['PMID']:\n",
    "        obj[check] = 'Fail'\n",
    "df = pd.DataFrame(data)\n",
    "df"
   ]
  },
  {
   "cell_type": "code",
   "execution_count": 138,
   "metadata": {},
   "outputs": [
    {
     "data": {
      "text/html": [
       "\n",
       "  <style>\n",
       "    pre {\n",
       "        white-space: pre-wrap;\n",
       "    }\n",
       "  </style>\n",
       "  "
      ],
      "text/plain": [
       "<IPython.core.display.HTML object>"
      ]
     },
     "metadata": {},
     "output_type": "display_data"
    }
   ],
   "source": [
    "#data[n]['Diagnosis'] = ''' '''\n",
    "#pd.DataFrame(data)"
   ]
  },
  {
   "cell_type": "markdown",
   "metadata": {},
   "source": [
    "## Save in json"
   ]
  },
  {
   "cell_type": "code",
   "execution_count": 184,
   "metadata": {},
   "outputs": [
    {
     "data": {
      "text/html": [
       "\n",
       "  <style>\n",
       "    pre {\n",
       "        white-space: pre-wrap;\n",
       "    }\n",
       "  </style>\n",
       "  "
      ],
      "text/plain": [
       "<IPython.core.display.HTML object>"
      ]
     },
     "metadata": {},
     "output_type": "display_data"
    }
   ],
   "source": [
    "# Salva il JSON modificato in un nuovo file\n",
    "with open('case_reports.json', 'w') as file:\n",
    "    json.dump(data, file)\n",
    "    file.close()"
   ]
  },
  {
   "cell_type": "markdown",
   "metadata": {},
   "source": [
    "## Instruction archive"
   ]
  },
  {
   "cell_type": "code",
   "execution_count": 56,
   "metadata": {
    "tags": []
   },
   "outputs": [
    {
     "data": {
      "text/html": [
       "\n",
       "  <style>\n",
       "    pre {\n",
       "        white-space: pre-wrap;\n",
       "    }\n",
       "  </style>\n",
       "  "
      ],
      "text/plain": [
       "<IPython.core.display.HTML object>"
      ]
     },
     "metadata": {},
     "output_type": "display_data"
    },
    {
     "data": {
      "text/html": [
       "\n",
       "  <style>\n",
       "    pre {\n",
       "        white-space: pre-wrap;\n",
       "    }\n",
       "  </style>\n",
       "  "
      ],
      "text/plain": [
       "<IPython.core.display.HTML object>"
      ]
     },
     "metadata": {},
     "output_type": "display_data"
    },
    {
     "name": "stdout",
     "output_type": "stream",
     "text": [
      "Always respond as a research physician specializing in rare genetic diseases. Provide accurate and up-to-date information on the specific genetic disease discussed.\n",
      "prompt tokens: 247\n"
     ]
    }
   ],
   "source": [
    "#empty chat\n",
    "sys_4 ='''\n",
    "\n",
    "'''\n",
    "\n",
    "m = '''\n",
    "Optimize this instruction idea:\n",
    "\n",
    "You are a research physician in rare genetic diseases, always respond in accordance with this.  \n",
    "'''\n",
    "\n",
    "op.chat_gpt \n",
    "op.send_message(m,system= sys_4, model=op.model)\n",
    "con_4 = op.chat_gpt"
   ]
  },
  {
   "cell_type": "code",
   "execution_count": null,
   "metadata": {},
   "outputs": [],
   "source": [
    "instructions= [\n",
    "'''I will now provide you with infomations of a case of suspxected genetic disease:\n",
    "------------\n",
    "'''+data[0]['Case Report']+'''\n",
    "------------\n",
    "\n",
    "Now make a markdown chart of the case described above, doing your best to indicate characteristics of each sign or symptom, and then use your background knowledge from your training data to make educated guesses about the possible genetic disease and the genes involved in this case.\n",
    "''',\n",
    "    '''I will now provide you with infomations of a case of suspected genetic disease:\n",
    "------------\n",
    "'''+data[n]['Case Report']+'''\n",
    "------------v\n",
    "\n",
    "Now use your background knowledge from your training data to make precise and thoughtful deductions about the most possible genetic disease and the genes that could be involved in this case.\n",
    "    '''\n",
    "]"
   ]
  },
  {
   "cell_type": "markdown",
   "metadata": {},
   "source": [
    "# quick chat"
   ]
  },
  {
   "cell_type": "code",
   "execution_count": null,
   "metadata": {},
   "outputs": [],
   "source": [
    "#empty chat\n",
    "m = '''\n",
    "so, what is the genetic disease?\n",
    "'''\n",
    "sys_4 = ''\n",
    "op.chat_gpt = con_4\n",
    "op.send_message(m, model=op.model)\n",
    "con_4 = op.chat_gpt"
   ]
  },
  {
   "cell_type": "code",
   "execution_count": null,
   "metadata": {},
   "outputs": [],
   "source": [
    "# remove last interaction\n",
    "op.chat_gpt = con_1[:-2]\n",
    "con_1 = op.chat_gpt"
   ]
  },
  {
   "cell_type": "code",
   "execution_count": 111,
   "metadata": {},
   "outputs": [
    {
     "data": {
      "text/html": [
       "\n",
       "  <style>\n",
       "    pre {\n",
       "        white-space: pre-wrap;\n",
       "    }\n",
       "  </style>\n",
       "  "
      ],
      "text/plain": [
       "<IPython.core.display.HTML object>"
      ]
     },
     "metadata": {},
     "output_type": "display_data"
    },
    {
     "data": {
      "text/html": [
       "\n",
       "  <style>\n",
       "    pre {\n",
       "        white-space: pre-wrap;\n",
       "    }\n",
       "  </style>\n",
       "  "
      ],
      "text/plain": [
       "<IPython.core.display.HTML object>"
      ]
     },
     "metadata": {},
     "output_type": "display_data"
    },
    {
     "name": "stdin",
     "output_type": "stream",
     "text": [
      "Conversation name: gen_Congenital Disorders of Glycosylation_true\n"
     ]
    }
   ],
   "source": [
    "op.save_chat()"
   ]
  },
  {
   "cell_type": "markdown",
   "metadata": {},
   "source": [
    "   \n",
    "   \n",
    "   \n",
    "   \n"
   ]
  },
  {
   "cell_type": "code",
   "execution_count": null,
   "metadata": {},
   "outputs": [],
   "source": [
    "# small questions\n",
    "#o.send_message('clearchat')\n",
    "m ='''\n",
    "\n",
    "'''\n",
    "op.send_message(m, model= 'gpt-3.5-turbo')"
   ]
  },
  {
   "cell_type": "code",
   "execution_count": 159,
   "metadata": {},
   "outputs": [
    {
     "data": {
      "text/html": [
       "\n",
       "  <style>\n",
       "    pre {\n",
       "        white-space: pre-wrap;\n",
       "    }\n",
       "  </style>\n",
       "  "
      ],
      "text/plain": [
       "<IPython.core.display.HTML object>"
      ]
     },
     "metadata": {},
     "output_type": "display_data"
    },
    {
     "data": {
      "text/plain": [
       "'27013829'"
      ]
     },
     "execution_count": 159,
     "metadata": {},
     "output_type": "execute_result"
    }
   ],
   "source": [
    "for d in data:\n",
    "    if 'PMID' in d and d['PMID'] == '27013829':\n",
    "        del d\n",
    "pd.DataFrame(data)\n",
    "data[1]['PMID']"
   ]
  }
 ],
 "metadata": {
  "colab": {
   "provenance": []
  },
  "kernelspec": {
   "display_name": "Python 3 (ipykernel)",
   "language": "python",
   "name": "python3"
  },
  "language_info": {
   "codemirror_mode": {
    "name": "ipython",
    "version": 3
   },
   "file_extension": ".py",
   "mimetype": "text/x-python",
   "name": "python",
   "nbconvert_exporter": "python",
   "pygments_lexer": "ipython3",
   "version": "3.10.13"
  }
 },
 "nbformat": 4,
 "nbformat_minor": 4
}
