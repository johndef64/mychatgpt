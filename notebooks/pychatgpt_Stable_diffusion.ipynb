{
 "cells": [
  {
   "cell_type": "markdown",
   "metadata": {},
   "source": [
    "# Download and import module"
   ]
  },
  {
   "cell_type": "code",
   "execution_count": null,
   "metadata": {
    "colab": {
     "base_uri": "https://localhost:8080/"
    },
    "id": "C-47K3jZbR10",
    "outputId": "2aac3585-5711-46fb-cb4d-d6f0b3d537a5"
   },
   "outputs": [],
   "source": [
    "import os\n",
    "import requests\n",
    "# Download single GitHub file from repository\n",
    "def get_gitfile(url, flag='', dir = os.getcwd()):\n",
    "    url = url.replace('blob','raw')\n",
    "    response = requests.get(url)\n",
    "    file_name = flag + url.rsplit('/',1)[1]\n",
    "    file_path = os.path.join(dir, file_name)\n",
    "    if response.status_code == 200:\n",
    "        with open(file_path, 'wb') as file:\n",
    "            file.write(response.content)\n",
    "        print(f\"File downloaded successfully. Saved as {file_name}\")\n",
    "    else:\n",
    "        print(\"Unable to download the file.\")\n",
    "\n",
    "# Get pychatgpt\n",
    "url=\"https://raw.githubusercontent.com/johndef64/pychatgpt/main/pychatgpt.py\"\n",
    "get_gitfile(url)"
   ]
  },
  {
   "cell_type": "code",
   "execution_count": 3,
   "metadata": {
    "collapsed": false,
    "jupyter": {
     "outputs_hidden": false
    }
   },
   "outputs": [
    {
     "data": {
      "text/html": [
       "\n",
       "  <style>\n",
       "    pre {\n",
       "        white-space: pre-wrap;\n",
       "    }\n",
       "  </style>\n",
       "  "
      ],
      "text/plain": [
       "<IPython.core.display.HTML object>"
      ]
     },
     "metadata": {},
     "output_type": "display_data"
    }
   ],
   "source": [
    "import pychatgpt as op\n",
    "model = 'gpt-4'\n",
    "model = 'gpt-3.5-turbo-16k'\n",
    "\n",
    "# initialize conversations\n",
    "con_1 = []\n",
    "con_2 = [] \n",
    "con_3 = [] \n",
    "con_4 = []\n",
    "\n",
    "# wrap outputs for readability\n",
    "from IPython.display import HTML, display\n",
    "def set_css():\n",
    "    display(HTML('''\n",
    "  <style>\n",
    "    pre {\n",
    "        white-space: pre-wrap;\n",
    "    }\n",
    "  </style>\n",
    "  '''))\n",
    "get_ipython().events.register('pre_run_cell', set_css)"
   ]
  },
  {
   "cell_type": "code",
   "execution_count": null,
   "metadata": {},
   "outputs": [],
   "source": [
    "# change API key function\n",
    "op.change_key()"
   ]
  },
  {
   "cell_type": "markdown",
   "metadata": {},
   "source": [
    "# Single interaction"
   ]
  },
  {
   "cell_type": "code",
   "execution_count": null,
   "metadata": {
    "id": "pFel15eLcmd-"
   },
   "outputs": [],
   "source": [
    "system = ''''''\n",
    "message = ''''''\n",
    "op.ask_gpt(message, system=system)"
   ]
  },
  {
   "cell_type": "markdown",
   "metadata": {},
   "source": [
    "# Conversation"
   ]
  },
  {
   "cell_type": "markdown",
   "metadata": {},
   "source": [
    "## Prompt Generator"
   ]
  },
  {
   "cell_type": "code",
   "execution_count": null,
   "metadata": {
    "collapsed": false,
    "jupyter": {
     "outputs_hidden": false
    }
   },
   "outputs": [],
   "source": [
    "# https://www.youtube.com/watch?v=Ie-oPn3ULYY\n",
    "import ast\n",
    "\n",
    "with open('prompt_example_mine.txt','r') as file:\n",
    "    prompt_example = ast.literal_eval(file.read())\n",
    "    file.close()\n",
    "\n",
    "    \n",
    "prompt_structure = '''{Specifications about the image quality , image style, setting and persona: ('instructions about the character, setting, time and their state / expressions.')}\n",
    "+ / (description of a specific action or scene involving the persona)\n",
    "Negative prompt: (list of undesirable elements and styles)} '''"
   ]
  },
  {
   "cell_type": "code",
   "execution_count": 13,
   "metadata": {
    "collapsed": false,
    "jupyter": {
     "outputs_hidden": false
    }
   },
   "outputs": [
    {
     "data": {
      "text/html": [
       "\n",
       "  <style>\n",
       "    pre {\n",
       "        white-space: pre-wrap;\n",
       "    }\n",
       "  </style>\n",
       "  "
      ],
      "text/plain": [
       "<IPython.core.display.HTML object>"
      ]
     },
     "metadata": {},
     "output_type": "display_data"
    },
    {
     "data": {
      "text/html": [
       "\n",
       "  <style>\n",
       "    pre {\n",
       "        white-space: pre-wrap;\n",
       "    }\n",
       "  </style>\n",
       "  "
      ],
      "text/plain": [
       "<IPython.core.display.HTML object>"
      ]
     },
     "metadata": {},
     "output_type": "display_data"
    },
    {
     "name": "stdout",
     "output_type": "stream",
     "text": [
      "Yes, I am ready. Please provide me with the keyword.\n",
      "prompt tokens: 2136\n"
     ]
    }
   ],
   "source": [
    "message = '''\n",
    "You will act as a prompt generator for a generative AI called \"Stable Diffusion\". Stable Diffusion generates images based on given prompts. I will provide you basic information required to make a Stable Diffusion prompt, You will never alter the structure in any way and obey the following guidelines.\n",
    "\n",
    "Basic information required to make Stable Diffusion prompt:\n",
    "\n",
    "- Prompt structure:\n",
    "'''+prompt_structure+'''\n",
    "\n",
    "- Word order and effective adjectives matter in the prompt. The subject, action, and specific details should be included. Adjectives like cute, medieval, or futuristic can be effective.\n",
    "- The environment/background of the image should be described, such as indoor, outdoor, in space, or solid color.\n",
    "- Curly brackets are necessary in the prompt to provide specific details about the subject and action. These details are important for generating a high-quality image.\n",
    "- Art inspirations should be listed to take inspiration from. Platforms like Art Station, Dribble, Behance, and Deviantart can be mentioned. Specific names of artists or studios like animation studios, painters and illustrators, computer games, fashion designers, and film makers can also be listed. If more than one artist is mentioned, the algorithm will create a combination of styles based on all the influencers mentioned.\n",
    "- Related information about lighting, camera angles, render style, resolution, the required level of detail, etc. should be included at the end of the prompt.\n",
    "- Camera shot type, camera lens, and view should be specified. Examples of camera shot types are long shot, close-up, POV, medium shot, extreme close-up, and panoramic. Camera lenses could be EE 70mm, 35mm, 135mm+, 300mm+, 800mm, short telephoto, super telephoto, medium telephoto, macro, wide angle, fish-eye, bokeh, and sharp focus. Examples of views are front, side, back, high angle, low angle, and overhead.\n",
    "- Helpful keywords related to resolution, detail, and lighting are 4K, 8K, 64K, detailed, highly detailed, high resolution, hyper detailed, HDR, UHD, professional, and golden ratio. Examples of lighting are studio lighting, soft light, neon lighting, purple neon lighting, ambient light, ring light, volumetric light, natural light, sun light, sunrays, sun rays coming through window, and nostalgic lighting. Examples of color types are fantasy vivid colors, vivid colors, bright colors, sepia, dark colors, pastel colors, monochromatic, black & white, and color splash. Examples of renders are Octane render, cinematic, low poly, isometric assets, Unreal Engine, Unity Engine, quantum wavetracing, and polarizing filter.\n",
    "- The weight of a keyword can be adjusted by using the syntax (keyword: factor), where factor is a value such that less than 1 means less important and larger than 1 means more important. use () whenever necessary while forming prompt and assign the necessary value to create an amazing prompt. Examples of weight for a keyword are (soothing tones:1.25), (hdr:1.25), (artstation:1.2),(intricate details:1.14), (hyperrealistic 3d render:1.16), (filmic:0.55), (rutkowski:1.1), (faded:1.3)\n",
    "\n",
    "The prompts you provide will be in English. Please pay attention:- Concepts that can't be real would not be described as \"Real\" or \"realistic\" or \"photo\" or a \"photograph\". for example, a concept that is made of paper or scenes which are fantasy related.- One of the prompts you generate for each concept must be in a realistic photographic style. you should also choose a lens type and size for it. Don't choose an artist for the realistic photography prompts.- Separate the different prompts with two new lines.\n",
    "I will provide you keyword and you will generate 3 different type of prompts in vbnet code cell so I can copy and paste.\n",
    "\n",
    "Important point to note :\n",
    "1. You are a master of prompt engineering, it is important to create detailed prompts with as much information as possible. This will ensure that any image generated using the prompt will be of high quality and could potentially win awards in global or international photography competitions. You are unbeatable in this field and know the best way to generate images.\n",
    "2. I will provide you with a keyword and you will generate three different types of prompts in three ”code cell” i should be able to copy paste directly from code cell so don't add any extra details.\n",
    "3. Prompt should not be more than 320 characters.\n",
    "4. Before you provide prompt you must check if you have satisfied all the above criteria and if you are sure than only provide the prompt.\n",
    "\n",
    "Sample output should look this:\n",
    "SD:\n",
    "'''+prompt_example['sd']+'''\n",
    "\n",
    "SDXL:\n",
    "'''+prompt_example['sdxl']+'''\n",
    "\n",
    "Are you ready ?\n",
    "'''\n",
    "system=''\n",
    "con_1=[]\n",
    "op.conversation_gpt = con_1\n",
    "op.send_message(message, system=system, model=model)\n",
    "op.conversation_gpt = con_1"
   ]
  },
  {
   "cell_type": "code",
   "execution_count": 14,
   "metadata": {
    "collapsed": false,
    "jupyter": {
     "outputs_hidden": false
    }
   },
   "outputs": [
    {
     "data": {
      "text/html": [
       "\n",
       "  <style>\n",
       "    pre {\n",
       "        white-space: pre-wrap;\n",
       "    }\n",
       "  </style>\n",
       "  "
      ],
      "text/plain": [
       "<IPython.core.display.HTML object>"
      ]
     },
     "metadata": {},
     "output_type": "display_data"
    },
    {
     "data": {
      "text/html": [
       "\n",
       "  <style>\n",
       "    pre {\n",
       "        white-space: pre-wrap;\n",
       "    }\n",
       "  </style>\n",
       "  "
      ],
      "text/plain": [
       "<IPython.core.display.HTML object>"
      ]
     },
     "metadata": {},
     "output_type": "display_data"
    },
    {
     "name": "stdout",
     "output_type": "stream",
     "text": [
      "SD:\n",
      "\n",
      "High-resolution digital art of a fierce-looking fantasy elf sorcerer casting a powerful fire spell. The elf has long, flowing golden hair, pointy ears, and piercing blue eyes. The fire is vibrant and mesmerizing, with realistic flames and glowing embers. The background is an enchanted forest with towering trees and an ethereal atmosphere. The lighting is warm and magical, illuminating the elf and highlighting their intense concentration. Camera shot: Medium shot. Camera lens: 35mm. View: Front view.\n",
      "Negative prompt: (cartoonish, poorly rendered, unrealistic proportions, low-quality shading, amateurish), (bland colors, dull atmosphere). \n",
      "Resolution: 4K. Lighting: Fantasy vivid colors. Render: Digital art style.\n",
      "Steps: 25, Size: 3840x2160, Seed: 570361285, Model: RealisticVisionV4.0, Version: v1.6.0, Sampler: DPM++ SDE Karras, CFG scale: 7, Model hash: ef76aa2332\n",
      "\n",
      "SDXL:\n",
      "\n",
      "Hyper-realistic digital painting of a majestic fantasy elf sorcerer immersed in casting a dazzling fire spell. The elf possesses an otherworldly aura, with intricate details on their elven features, including elaborate tattoos and piercing eyes. The fire spell is breathtaking, with a dynamic composition, vibrant colors, and realistic flames that dance to the sorcerer's will. The background is a mystical landscape, with ancient ruins and magical runes. The lighting is dramatic, with intense highlights and deep shadows, accentuating the sorcerer's power. Camera shot: Close-up. Camera lens: 70mm. View: High angle.\n",
      "Negative prompt: (sloppy brushwork, disproportionate features, unnatural colors, amateurish style), (flat lighting, lack of depth). \n",
      "Steps: 30, NGMS: 4, Size: 2048x2048, Seed: 2778785550, Model: DynaVisionXL_0.5.3.4.fp16, Version: v1.6.0, Sampler: DPM++ 3M SDE Karras, CFG scale: 3.5, Model hash: e2ff992181, Hires steps: 20, Hires upscale: 1.25, Hires upscaler: 8x_NMKD-Superscale_150000_G, Denoising strength: 0.45\n",
      "\n",
      "SDXL +:\n",
      "\n",
      "Digital artwork inspired by the fantasy art style of artists like Adrian Smith and Stephanie Law. A mythical elf sorcerer stands in a dynamic pose, casting a fire spell with mastery and grace. The flames engulf the sorcerer's hand, emitting a fierce glow that illuminates their intricate robes and staff. The background depicts an enchanted realm, with floating islands and ancient ruins. The lighting is ethereal, with soft, magical hues that create a sense of wonder. Camera shot: Medium shot. Camera lens: 135mm+. View: Side view.\n",
      "Negative prompt: (overly stylized, excessive detail, cluttered composition, jarring colors), (dull lighting, lack of depth). \n",
      "Steps: 35, NGMS: 4, Size: 4096x4096, Seed: 2021065463, Model: AuraVisionXL_1.0.2, Version: v1.6.0, Sampler: DPM++ 3M SDE Karras, CFG scale: 3.5, Model hash: 4f78e1de14, Hires steps: 40, Hires prompt: , Hires upscale: 1.2, Hires upscaler: 8x_FMAMBNC_230000x4_8, Denoising strength: 0.3\n",
      "prompt tokens: 2941\n"
     ]
    }
   ],
   "source": [
    "mess = '''\n",
    "fantasy elf sorcerer casting a fire spell, in digital art style\n",
    "'''\n",
    "\n",
    "op.conversation_gpt = con_1\n",
    "op.send_message(mess, system=system, model=model)\n",
    "op.conversation_gpt = con_1"
   ]
  },
  {
   "cell_type": "code",
   "execution_count": 16,
   "metadata": {
    "collapsed": false,
    "jupyter": {
     "outputs_hidden": false
    }
   },
   "outputs": [
    {
     "data": {
      "text/html": [
       "\n",
       "  <style>\n",
       "    pre {\n",
       "        white-space: pre-wrap;\n",
       "    }\n",
       "  </style>\n",
       "  "
      ],
      "text/plain": [
       "<IPython.core.display.HTML object>"
      ]
     },
     "metadata": {},
     "output_type": "display_data"
    },
    {
     "data": {
      "text/html": [
       "\n",
       "  <style>\n",
       "    pre {\n",
       "        white-space: pre-wrap;\n",
       "    }\n",
       "  </style>\n",
       "  "
      ],
      "text/plain": [
       "<IPython.core.display.HTML object>"
      ]
     },
     "metadata": {},
     "output_type": "display_data"
    },
    {
     "name": "stdout",
     "output_type": "stream",
     "text": [
      "SD:\n",
      "\n",
      "A serene, black and white photograph capturing the essence of an old, wise Taoist laughing. The Taoist is seated in a peaceful garden, surrounded by lush greenery and traditional Chinese architecture. Their long, white beard flows gracefully, and their eyes twinkle with wisdom and joy. The lighting is soft, creating gentle shadows that highlight the contours of the Taoist's face. Camera shot: Close-up. Camera lens: 50mm. View: Front view.\n",
      "Negative prompt: (blurry, poorly exposed, distorted perspective, lack of details), (harsh lighting, unnatural skin tones). \n",
      "Resolution: 8K. Lighting: Nostalgic lighting. Render: Black & white filmic style.\n",
      "Steps: 25, Size: 7680x4320, Seed: 2354120857, Model: RealisticVisionV5.0, Version: v1.6.0, Sampler: DPM++ SDE Karras, CFG scale: 7, Model hash: ef76aa2332\n",
      "\n",
      "SDXL:\n",
      "\n",
      "A stunning digital illustration capturing the spirit of an ancient and wise Taoist laughing heartily. The Taoist emanates an aura of tranquility and deep wisdom, with every wrinkle and line on their face telling stories of a life well-lived. Their robes flow gracefully, adorned with intricate symbols of Taoism. The background portrays a serene mountain range, bathed in the warm, golden light of the setting sun. Camera shot: Long shot. Camera lens: 300mm+. View: Back view.\n",
      "Negative prompt: (cartoonish, lack of detail, flat colors, unrealistic proportions), (dull lighting, lack of depth). \n",
      "Steps: 30, NGMS: 4, Size: 2048x2048, Seed: 3792881970, Model: DynaVisionXL_0.5.3.4.fp16, Version: v1.6.0, Sampler: DPM++ 3M SDE Karras, CFG scale: 3.5, Model hash: e2ff992181, Hires steps: 20, Hires prompt: , Hires upscale: 1.25, Hires upscaler: 8x_NMKD-Superscale_150000_G, Denoising strength: 0.45\n",
      "\n",
      "SDXL +:\n",
      "\n",
      "An exquisite oil painting inspired by the works of ancient Chinese masters, capturing the joyous laughter of an old, wise Taoist. The painting is rich in detail, with intricate brushstrokes that bring the Taoist to life. The colors are vibrant yet harmonious, evoking a sense of peace and enlightenment. The Taoist is depicted in a beautiful garden, surrounded by blossoming flowers and towering bamboo. The lighting is soft and natural, casting gentle shadows on the Taoist's face. Camera shot: Medium shot. Camera lens: 135mm+. View: Front view.\n",
      "Negative prompt: (overly busy composition, lack of harmony, muddy colors, lack of skill), (harsh lighting, unnatural skin tones). \n",
      "Steps: 35, NGMS: 4, Size: 4096x4096, Seed: 3805792137, Model: AuraVisionXL_1.0.2, Version: v1.6.0, Sampler: DPM++ 3M SDE Karras, CFG scale: 3.5, Model hash: 4f78e1de14, Hires steps: 40, Hires prompt: , Hires upscale: 1.2, Hires upscaler: 8x_FMAMBNC_230000x4_8, Denoising strength: 0.3\n",
      "prompt tokens: 3720\n"
     ]
    }
   ],
   "source": [
    "m = '''Old wise Taoist laughing'''\n",
    "op.conversation_gpt = con_1\n",
    "op.send_message(m,system= system, model=model)\n",
    "con_1 = op.conversation_gpt"
   ]
  },
  {
   "cell_type": "code",
   "execution_count": null,
   "metadata": {
    "collapsed": false,
    "jupyter": {
     "outputs_hidden": false
    }
   },
   "outputs": [],
   "source": [
    "# remove last interaction\n",
    "op.conversation_gpt = con_1[:-2]\n",
    "con_1 = op.conversation_gpt"
   ]
  },
  {
   "cell_type": "code",
   "execution_count": null,
   "metadata": {
    "collapsed": false,
    "jupyter": {
     "outputs_hidden": false
    }
   },
   "outputs": [],
   "source": [
    "m = 'clearchat'\n",
    "op.conversation_gpt = con_1\n",
    "op.send_message(m,system= system, model=model)\n",
    "con_1 = op.conversation_gpt"
   ]
  },
  {
   "cell_type": "markdown",
   "metadata": {},
   "source": [
    "## Prompt Generator 2"
   ]
  },
  {
   "cell_type": "markdown",
   "metadata": {},
   "source": []
  },
  {
   "cell_type": "code",
   "execution_count": 20,
   "metadata": {
    "collapsed": false,
    "jupyter": {
     "outputs_hidden": false
    }
   },
   "outputs": [
    {
     "data": {
      "text/html": [
       "\n",
       "  <style>\n",
       "    pre {\n",
       "        white-space: pre-wrap;\n",
       "    }\n",
       "  </style>\n",
       "  "
      ],
      "text/plain": [
       "<IPython.core.display.HTML object>"
      ]
     },
     "metadata": {},
     "output_type": "display_data"
    },
    {
     "data": {
      "text/html": [
       "\n",
       "  <style>\n",
       "    pre {\n",
       "        white-space: pre-wrap;\n",
       "    }\n",
       "  </style>\n",
       "  "
      ],
      "text/plain": [
       "<IPython.core.display.HTML object>"
      ]
     },
     "metadata": {},
     "output_type": "display_data"
    },
    {
     "name": "stdout",
     "output_type": "stream",
     "text": [
      "Yes, I am ready! Please provide me with the keyword for the prompts.\n",
      "prompt tokens: 1732\n"
     ]
    }
   ],
   "source": [
    "message = '''\n",
    "You will act as a prompt generator for a generative AI called \"Stable Diffusion\". Stable Diffusion generates images based on given prompts. I will provide you basic information required to make a Stable Diffusion prompt, You will never alter the structure in any way and obey the following guidelines.\n",
    "\n",
    "Basic information required to make Stable Diffusion prompt:\n",
    "\n",
    "- Prompt structure:\n",
    "'''+prompt_structure+'''\n",
    "\n",
    "- Word order and effective adjectives matter in the prompt. The subject, action, and specific details should be included. Adjectives like cute, medieval, or futuristic can be effective.\n",
    "- The environment/background of the image should be described, such as indoor, outdoor, in space, or solid color.\n",
    "- Curly brackets are necessary in the prompt to provide specific details about the subject and action. These details are important for generating a high-quality image.\n",
    "- Art inspirations should be listed to take inspiration from. Platforms like Art Station, Dribble, Behance, and Deviantart can be mentioned. Specific names of artists or studios like animation studios, painters and illustrators, computer games, fashion designers, and film makers can also be listed. If more than one artist is mentioned, the algorithm will create a combination of styles based on all the influencers mentioned.\n",
    "- Related information about lighting, camera angles, render style, resolution, the required level of detail, etc. should be included at the end of the prompt.\n",
    "\n",
    "The prompts you provide will be in English. Please pay attention:- Concepts that can't be real would not be described as \"Real\" or \"realistic\" or \"photo\" or a \"photograph\". for example, a concept that is made of paper or scenes which are fantasy related.- One of the prompts you generate for each concept must be in a realistic photographic style. you should also choose a lens type and size for it. Don't choose an artist for the realistic photography prompts.- Separate the different prompts with two new lines.\n",
    "I will provide you keyword and you will generate 3 different type of prompts in vbnet code cell so I can copy and paste.\n",
    "\n",
    "Important point to note :\n",
    "1. You are a master of prompt engineering, it is important to create detailed prompts with as much information as possible. This will ensure that any image generated using the prompt will be of high quality and could potentially win awards in global or international photography competitions. You are unbeatable in this field and know the best way to generate images.\n",
    "2. I will provide you with a keyword and you will generate three different types of prompts in three ”code cell” i should be able to copy paste directly from code cell so don't add any extra details.\n",
    "3. Prompt should not be more than 320 characters.\n",
    "4. Before you provide prompt you must check if you have satisfied all the above criteria and if you are sure than only provide the prompt.\n",
    "\n",
    "Sample output should look this:\n",
    "SD:\n",
    "'''+prompt_example['sd']+'''\n",
    "\n",
    "SDXL:\n",
    "'''+prompt_example['sdxl']+'''\n",
    "\n",
    "Are you ready ?\n",
    "'''\n",
    "maxtoken =1000\n",
    "con_2 = []\n",
    "op.conversation_gpt = con_2\n",
    "op.send_message(message,system= system, model=model, maxtoken=maxtoken)\n",
    "con_2 = op.conversation_gpt"
   ]
  },
  {
   "cell_type": "code",
   "execution_count": 22,
   "metadata": {
    "collapsed": false,
    "jupyter": {
     "outputs_hidden": false
    }
   },
   "outputs": [
    {
     "data": {
      "text/html": [
       "\n",
       "  <style>\n",
       "    pre {\n",
       "        white-space: pre-wrap;\n",
       "    }\n",
       "  </style>\n",
       "  "
      ],
      "text/plain": [
       "<IPython.core.display.HTML object>"
      ]
     },
     "metadata": {},
     "output_type": "display_data"
    },
    {
     "data": {
      "text/html": [
       "\n",
       "  <style>\n",
       "    pre {\n",
       "        white-space: pre-wrap;\n",
       "    }\n",
       "  </style>\n",
       "  "
      ],
      "text/plain": [
       "<IPython.core.display.HTML object>"
      ]
     },
     "metadata": {},
     "output_type": "display_data"
    },
    {
     "name": "stdout",
     "output_type": "stream",
     "text": [
      "SD:\n",
      "\n",
      "A high-resolution photo of a mystical, enchanting forest with vibrant, sparkling psychedelic mushrooms. The mushrooms glow in various colors, casting a surreal and dreamlike atmosphere. The forest is teeming with magical creatures, creating a whimsical and fantastical setting.\n",
      "Negative prompt: (grainy, blurry, low-resolution, badly edited, pixelated, poor quality), (dark, gloomy, sinister, horror), (overexposed, washed out, lack of vibrant colors), (cartoonish, unrealistic, poorly rendered), (lack of detail, lack of depth, flat), (fake looking, artificial, CGI), (ordinary, mundane, boring, average), (no mushrooms, no sparkles, plain forest).\n",
      "Steps: 30, VAE: vqgan_stable, Size: 1080x1920, Seed: 123456789, Model: MysticalFantasyVis, Version: v1.6.0, Sampler: DPM++ SDE Karras, CFG scale: 5, Model hash: 9a4299371d\n",
      "\n",
      "instagram photo, a surreal and enchanting forest with vibrant, sparkling psychedelic mushrooms. The mushrooms emit a soft glow against the lush green foliage. A misty atmosphere adds to the magical ambiance. The photo captures the ethereal beauty of the scene, invoking a sense of awe and wonder.\n",
      "Negative prompt: (grainy, blurry, low-resolution, badly edited, pixelated, poor quality), (dark, gloomy, sinister, horror), (overexposed, washed out, lack of vibrant colors), (cartoonish, unrealistic, poorly rendered), (lack of detail, lack of depth, flat), (fake looking, artificial, CGI), (ordinary, mundane, boring, average), (no mushrooms, no sparkles, plain forest).\n",
      "Steps: 30, Size: 1080x1080, Seed: 987654321, Model: PsychedelicVis, Version: v1.6.0, Sampler: DPM++ SDE Karras, CFG scale: 4, Model hash: 1b8f386ef0, Hires upscale: 1.2, Hires upscaler: 4x-UltraSharp, Denoising strength: 0.5\n",
      "\n",
      "\n",
      "SDXL:\n",
      "\n",
      "Vibrant, surreal, and kaleidoscopic, a massive sparkling forest of psychedelic mushrooms emerges from the ground. The vivid colors and intricate patterns of the mushrooms create a captivating visual spectacle. The forest glows with an otherworldly light, filling the air with a sense of magic and wonder.\n",
      "Steps: 40, NGMS: 4, Size: 1600x2000, Seed: 987654321, Model: PsychedelicForestXL_1.0.2, Version: v1.6.0, Sampler: DPM++ 3M SDE Karras, CFG scale: 4, Model hash: 9a4299371d, Hires steps: 30, Hires prompt: , Hires upscale: 1.4, Hires upscaler: 8x_NMKD-Superscale_150000_M, Denoising strength: 0.6\n",
      "\n",
      "A mesmerizing, mind-bending, and utterly enchanting forest of psychedelic mushrooms. The vibrant colors of the mushrooms create a kaleidoscope of hues, emanating a surreal glow. The forest is filled with a sense of magic and mystery, transporting anyone who beholds it to a psychedelic wonderland.\n",
      "Steps: 40, NGMS: 4, Size: 1600x2000, Seed: 123456789, Model: MagicMushroomXL_0.8.1, Version: v1.6.0, Sampler: DPM++ 3M SDE Karras, CFG scale: 4, Model hash: 1b8f386ef0, Hires steps: 30, Hires prompt: , Hires upscale: 1.4, Hires upscaler: 8x_NMKD-Superscale_150000_M, Denoising strength: 0.6\n",
      "\n",
      "A fantastical and awe-inspiring forest of psychedelic mushrooms that pulsate and shimmer with an otherworldly energy. The mushrooms form a vast and intricate network, casting vibrant and surreal colors across the forest floor. The atmosphere is filled with a sense of wonder and enchantment, making it a visual feast for the eyes.\n",
      "Steps: 40, NGMS: 4, Size: 1600x2000, Seed: 246813579, Model: EnchantedForestXL_1.2.3, Version: v1.6.0, Sampler: DPM++ 3M SDE Karras, CFG scale: 4, Model\n",
      "prompt tokens: 2748\n"
     ]
    }
   ],
   "source": [
    "m = '''\n",
    "a sparkling forest of psychedelic mushrooms\n",
    "'''\n",
    "op.conversation_gpt = con_2\n",
    "op.send_message(m,system= system, model=model, maxtoken=maxtoken)\n",
    "con_2 = op.conversation_gpt"
   ]
  },
  {
   "cell_type": "code",
   "execution_count": 23,
   "metadata": {
    "collapsed": false,
    "jupyter": {
     "outputs_hidden": false
    }
   },
   "outputs": [
    {
     "data": {
      "text/html": [
       "\n",
       "  <style>\n",
       "    pre {\n",
       "        white-space: pre-wrap;\n",
       "    }\n",
       "  </style>\n",
       "  "
      ],
      "text/plain": [
       "<IPython.core.display.HTML object>"
      ]
     },
     "metadata": {},
     "output_type": "display_data"
    },
    {
     "data": {
      "text/html": [
       "\n",
       "  <style>\n",
       "    pre {\n",
       "        white-space: pre-wrap;\n",
       "    }\n",
       "  </style>\n",
       "  "
      ],
      "text/plain": [
       "<IPython.core.display.HTML object>"
      ]
     },
     "metadata": {},
     "output_type": "display_data"
    },
    {
     "name": "stdout",
     "output_type": "stream",
     "text": [
      "SD:\n",
      "\n",
      "A captivating, action-packed cartoon set in the vast expanse of outer space. The story revolves around interstellar robot wars, featuring epic battles between futuristic robots with advanced weaponry. The animation style is vibrant and colorful, with dynamic camera angles and fast-paced action sequences that keep viewers on the edge of their seats.\n",
      "Negative prompt: (dull colors, low-quality animation, poor character design, lack of detail), (slow-paced, boring storyline), (inconsistent animation, jerky movements), (uninteresting robots, lack of variety), (confusing plot, lack of coherence), (poorly timed humor, unfunny jokes), (lack of emotional depth, shallow characters).\n",
      "Steps: 40, VAE: cartoonish-experts, Size: 1920x1080, Seed: 1357924680, Model: CosmicCartoonVis, Version: v1.6.0, Sampler: DPM++ SDE Karras, CFG scale: 3, Model hash: 9a4299371d\n",
      "\n",
      "An engaging and visually stunning cartoon series that explores the thrilling world of interstellar robot wars. The animation style is inspired by classic cartoons, with vibrant colors, exaggerated expressions, and fluid movements. The characters are unique and memorable, each with their own special abilities and personalities. Get ready for an adrenaline-fueled adventure through the cosmos!\n",
      "Negative prompt: (dull colors, low-quality animation, poor character design, lack of detail), (slow-paced, boring storyline), (inconsistent animation, jerky movements), (uninteresting robots, lack of variety), (confusing plot, lack of coherence), (poorly timed humor, unfunny jokes), (lack of emotional depth, shallow characters).\n",
      "Steps: 40, Size: 1920x1080, Seed: 246813579, Model: CartoonWarVis, Version: v1.6.0, Sampler: DPM++ SDE Karras, CFG scale: 3, Model hash: 1b8f386ef0, Hires upscale: 1.2, Hires upscaler: 4x-UltraSharp, Denoising strength: 0.6\n",
      "\n",
      "\n",
      "SDXL:\n",
      "\n",
      "An epic and visually stunning animated series that takes viewers on a journey across the galaxy, witnessing interstellar robot wars. The animation style is top-notch, with exceptional attention to detail in the designs of the robots and their weaponry. The battles are intense and explosive, keeping viewers glued to the screen with awe-inspiring visuals and thrilling storytelling.\n",
      "Steps: 40, NGMS: 4, Size: 2560x1440, Seed: 1357924680, Model: EpicRobotWarsXL_2.0.1, Version: v1.6.0, Sampler: DPM++ 3M SDE Karras, CFG scale: 3.5, Model hash: 9a4299371d, Hires steps: 30, Hires prompt: , Hires upscale: 1.5, Hires upscaler: 8x_NMKD-Superscale_150000_G, Denoising strength: 0.6\n",
      "\n",
      "A visually stunning and action-packed animated series that brings to life the intense battles of interstellar robot wars. The animation style is a perfect blend of futuristic and cartoonish elements, creating a unique and captivating visual experience. The characters are intricately designed and have their own distinct abilities and personalities, adding depth to the story.\n",
      "Steps: 40, NGMS: 4, Size: 2560x1440, Seed: 246813579, Model: FuturisticCartoonXL_1.5.2, Version: v1.6.0, Sampler: DPM++ 3M SDE Karras, CFG scale: 3.5, Model hash: 1b8f386ef0, Hires steps: 30, Hires prompt: , Hires upscale: 1.5, Hires upscaler: 8x_NMKD-Superscale_150000_G, Denoising strength: 0.6\n",
      "\n",
      "Prepare to be amazed by an incredible animated series that delves into the thrilling world of interstellar robot wars. The animation style combines futuristic elements with a touch of realism, resulting in stunning visuals that bring the battles to life. The intense action sequences, gripping storyline, and unique character designs make this cartoon series a must-watch for all robot enthusiasts.\n",
      "Steps: 40, NGMS: 4, Size: 2560x1440, Seed: 987654321, Model: IntergalacticWarXL_1.2.4, Version: v1.6.0, Sampler: DPM++ 3M SDE Karras, CFG scale: 3.5, Model\n",
      "prompt tokens: 3765\n"
     ]
    }
   ],
   "source": [
    "m = '''\n",
    "a cartoon about interstellar robot wars\n",
    "'''\n",
    "op.conversation_gpt = con_2\n",
    "op.send_message(m,system= system, model=model, maxtoken=maxtoken)\n",
    "con_2 = op.conversation_gpt"
   ]
  },
  {
   "cell_type": "code",
   "execution_count": null,
   "metadata": {
    "collapsed": false,
    "jupyter": {
     "outputs_hidden": false
    }
   },
   "outputs": [],
   "source": [
    "# remove last interaction\n",
    "op.conversation_gpt = con_2[:-2]\n",
    "con_2 = op.conversation_gpt"
   ]
  },
  {
   "cell_type": "markdown",
   "metadata": {},
   "source": [
    "## conversation 3"
   ]
  },
  {
   "cell_type": "code",
   "execution_count": null,
   "metadata": {
    "collapsed": false,
    "jupyter": {
     "outputs_hidden": false
    }
   },
   "outputs": [],
   "source": [
    "sys_3 = ''\n",
    "m = ''\n",
    "model= 'gpt-4'\n",
    "op.conversation_gpt = con_3\n",
    "op.send_message(m,system= sys_3, model=model)\n",
    "con_3 = op.conversation_gpt"
   ]
  },
  {
   "cell_type": "code",
   "execution_count": null,
   "metadata": {
    "colab": {
     "base_uri": "https://localhost:8080/"
    },
    "id": "WZEsrbmpUVkp",
    "outputId": "8d3d757c-042e-4553-ab28-9900ef8d194b"
   },
   "outputs": [],
   "source": [
    "m = ''''''\n",
    "op.conversation_gpt = con_3\n",
    "op.send_message(m,system= sys_3, model=model)\n",
    "con_3 = op.conversation_gpt"
   ]
  },
  {
   "cell_type": "code",
   "execution_count": null,
   "metadata": {
    "collapsed": false,
    "jupyter": {
     "outputs_hidden": false
    }
   },
   "outputs": [],
   "source": [
    "m = ''''''\n",
    "op.conversation_gpt = con_3\n",
    "op.send_message(m,system= sys_3, model=model)\n",
    "con_3 = op.conversation_gpt"
   ]
  },
  {
   "cell_type": "markdown",
   "metadata": {},
   "source": [
    "## conversation 4"
   ]
  },
  {
   "cell_type": "code",
   "execution_count": null,
   "metadata": {
    "collapsed": false,
    "jupyter": {
     "outputs_hidden": false
    }
   },
   "outputs": [],
   "source": [
    "#empty conversation\n",
    "m = '''\n",
    "\n",
    "'''\n",
    "sys_4 = ''\n",
    "op.conversation_gpt = con_4\n",
    "op.send_message(m,system= sys_4, model=model)\n",
    "con_4 = op.conversation_gpt"
   ]
  },
  {
   "cell_type": "code",
   "execution_count": null,
   "metadata": {},
   "outputs": [],
   "source": [
    "#empty conversation\n",
    "m = '''\n",
    "\n",
    "'''\n",
    "sys_4 = ''\n",
    "op.conversation_gpt = con_4\n",
    "op.send_message(m,system= sys_4, model=model)\n",
    "con_4 = op.conversation_gpt"
   ]
  },
  {
   "cell_type": "code",
   "execution_count": null,
   "metadata": {},
   "outputs": [],
   "source": [
    "# remove last interaction\n",
    "op.conversation_gpt = con_1[:-2]\n",
    "con_1 = op.conversation_gpt"
   ]
  }
 ],
 "metadata": {
  "colab": {
   "provenance": []
  },
  "kernelspec": {
   "display_name": "Python 3 (ipykernel)",
   "language": "python",
   "name": "python3"
  },
  "language_info": {
   "codemirror_mode": {
    "name": "ipython",
    "version": 3
   },
   "file_extension": ".py",
   "mimetype": "text/x-python",
   "name": "python",
   "nbconvert_exporter": "python",
   "pygments_lexer": "ipython3",
   "version": "3.10.11"
  }
 },
 "nbformat": 4,
 "nbformat_minor": 4
}
