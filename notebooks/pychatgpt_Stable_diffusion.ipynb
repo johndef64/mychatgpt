{
 "cells": [
  {
   "cell_type": "markdown",
   "metadata": {},
   "source": [
    "# Download and import module"
   ]
  },
  {
   "cell_type": "code",
   "execution_count": 2,
   "metadata": {
    "colab": {
     "base_uri": "https://localhost:8080/"
    },
    "id": "C-47K3jZbR10",
    "outputId": "2aac3585-5711-46fb-cb4d-d6f0b3d537a5"
   },
   "outputs": [
    {
     "name": "stdout",
     "output_type": "stream",
     "text": [
      "File downloaded successfully. Saved as pychatgpt.py\n"
     ]
    }
   ],
   "source": [
    "import os\n",
    "import requests\n",
    "# Download single GitHub file from repository\n",
    "def get_gitfile(url, flag='', dir = os.getcwd()):\n",
    "    url = url.replace('blob','raw')\n",
    "    response = requests.get(url)\n",
    "    file_name = flag + url.rsplit('/',1)[1]\n",
    "    file_path = os.path.join(dir, file_name)\n",
    "    if response.status_code == 200:\n",
    "        with open(file_path, 'wb') as file:\n",
    "            file.write(response.content)\n",
    "        print(f\"File downloaded successfully. Saved as {file_name}\")\n",
    "    else:\n",
    "        print(\"Unable to download the file.\")\n",
    "\n",
    "# Get pychatgpt\n",
    "url=\"https://raw.githubusercontent.com/johndef64/pychatgpt/main/pychatgpt.py\"\n",
    "get_gitfile(url)"
   ]
  },
  {
   "cell_type": "code",
   "execution_count": 2,
   "metadata": {
    "collapsed": false,
    "jupyter": {
     "outputs_hidden": false
    }
   },
   "outputs": [
    {
     "name": "stdin",
     "output_type": "stream",
     "text": [
      "choose model: 1\n"
     ]
    },
    {
     "name": "stdout",
     "output_type": "stream",
     "text": [
      "*Using gpt-3.5-turbo-16k model*\n"
     ]
    }
   ],
   "source": [
    "import pychatgpt as op\n",
    "models = ['gpt-3.5-turbo',     #0\n",
    "          'gpt-3.5-turbo-16k', #1\n",
    "          'gpt-4'              #2\n",
    "         ]             \n",
    "model = models[int(input('choose model:'))]\n",
    "print('*Using',model, 'model*')\n",
    "\n",
    "# wrap outputs for readability\n",
    "from IPython.display import HTML, display\n",
    "def set_css():\n",
    "    display(HTML('''\n",
    "  <style>\n",
    "    pre {\n",
    "        white-space: pre-wrap;\n",
    "    }\n",
    "  </style>\n",
    "  '''))\n",
    "get_ipython().events.register('pre_run_cell', set_css)"
   ]
  },
  {
   "cell_type": "code",
   "execution_count": null,
   "metadata": {},
   "outputs": [],
   "source": [
    "# change API key function\n",
    "op.change_key()"
   ]
  },
  {
   "cell_type": "markdown",
   "metadata": {},
   "source": [
    "# Single interaction"
   ]
  },
  {
   "cell_type": "code",
   "execution_count": null,
   "metadata": {
    "id": "pFel15eLcmd-"
   },
   "outputs": [],
   "source": [
    "system = ''''''\n",
    "message = ''''''\n",
    "op.ask_gpt(message, system=system)"
   ]
  },
  {
   "cell_type": "markdown",
   "metadata": {},
   "source": [
    "# Conversation"
   ]
  },
  {
   "cell_type": "markdown",
   "metadata": {},
   "source": [
    "## Prompt Generator"
   ]
  },
  {
   "cell_type": "code",
   "execution_count": 9,
   "metadata": {
    "collapsed": false,
    "jupyter": {
     "outputs_hidden": false
    }
   },
   "outputs": [
    {
     "data": {
      "text/html": [
       "\n",
       "  <style>\n",
       "    pre {\n",
       "        white-space: pre-wrap;\n",
       "    }\n",
       "  </style>\n",
       "  "
      ],
      "text/plain": [
       "<IPython.core.display.HTML object>"
      ]
     },
     "metadata": {},
     "output_type": "display_data"
    }
   ],
   "source": [
    "# https://www.youtube.com/watch?v=Ie-oPn3ULYY\n",
    "import ast\n",
    "\n",
    "with open('prompt_example.txt','r') as file:\n",
    "    prompt_example = ast.literal_eval(file.read())\n",
    "    file.close()\n",
    "\n",
    "    \n",
    "prompt_structure = '''{Specifications about the image quality , image style, setting and persona: ('instructions about the character, setting, time and their state / expressions.')}\n",
    "+ / (description of a specific action or scene involving the persona)\n",
    "Negative prompt: (list of undesirable elements and styles)} '''"
   ]
  },
  {
   "cell_type": "code",
   "execution_count": 10,
   "metadata": {
    "collapsed": false,
    "jupyter": {
     "outputs_hidden": false
    }
   },
   "outputs": [
    {
     "data": {
      "text/html": [
       "\n",
       "  <style>\n",
       "    pre {\n",
       "        white-space: pre-wrap;\n",
       "    }\n",
       "  </style>\n",
       "  "
      ],
      "text/plain": [
       "<IPython.core.display.HTML object>"
      ]
     },
     "metadata": {},
     "output_type": "display_data"
    },
    {
     "name": "stdin",
     "output_type": "stream",
     "text": [
      "SDXL? (y/n):  y\n"
     ]
    }
   ],
   "source": [
    "op.conversation_gpt=[]\n",
    "if op.simple_bool('SDXL?'):\n",
    "    PROMPT_EX = prompt_example['sdxl']\n",
    "else:\n",
    "    PROMPT_EX = prompt_example['sd']\n",
    "\n",
    "\n",
    "incipit = '''\n",
    "You will act as a prompt generator for a generative AI called \"Stable Diffusion\". Stable Diffusion generates images based on given prompts. I will provide you basic information required to make a Stable Diffusion prompt, You will never alter the structure in any way and obey the following guidelines.\n",
    "\n",
    "Basic information required to make Stable Diffusion prompt:\n",
    "\n",
    "- Prompt structure:\n",
    "'''+prompt_structure+'''\n",
    "\n",
    "- Word order and effective adjectives matter in the prompt. The subject, action, and specific details should be included. Adjectives like cute, medieval, or futuristic can be effective.\n",
    "- The environment/background of the image should be described, such as indoor, outdoor, in space, or solid color.\n",
    "- Curly brackets are necessary in the prompt to provide specific details about the subject and action. These details are important for generating a high-quality image.\n",
    "- Art inspirations should be listed to take inspiration from. Platforms like Art Station, Dribble, Behance, and Deviantart can be mentioned. Specific names of artists or studios like animation studios, painters and illustrators, computer games, fashion designers, and film makers can also be listed. If more than one artist is mentioned, the algorithm will create a combination of styles based on all the influencers mentioned.\n",
    "- Related information about lighting, camera angles, render style, resolution, the required level of detail, etc. should be included at the end of the prompt.\n",
    "- Camera shot type, camera lens, and view should be specified. Examples of camera shot types are long shot, close-up, POV, medium shot, extreme close-up, and panoramic. Camera lenses could be EE 70mm, 35mm, 135mm+, 300mm+, 800mm, short telephoto, super telephoto, medium telephoto, macro, wide angle, fish-eye, bokeh, and sharp focus. Examples of views are front, side, back, high angle, low angle, and overhead.\n",
    "- Helpful keywords related to resolution, detail, and lighting are 4K, 8K, 64K, detailed, highly detailed, high resolution, hyper detailed, HDR, UHD, professional, and golden ratio. Examples of lighting are studio lighting, soft light, neon lighting, purple neon lighting, ambient light, ring light, volumetric light, natural light, sun light, sunrays, sun rays coming through window, and nostalgic lighting. Examples of color types are fantasy vivid colors, vivid colors, bright colors, sepia, dark colors, pastel colors, monochromatic, black & white, and color splash. Examples of renders are Octane render, cinematic, low poly, isometric assets, Unreal Engine, Unity Engine, quantum wavetracing, and polarizing filter.\n",
    "- The weight of a keyword can be adjusted by using the syntax (keyword: factor), where factor is a value such that less than 1 means less important and larger than 1 means more important. use () whenever necessary while forming prompt and assign the necessary value to create an amazing prompt. Examples of weight for a keyword are (soothing tones:1.25), (hdr:1.25), (artstation:1.2),(intricate details:1.14), (hyperrealistic 3d render:1.16), (filmic:0.55), (rutkowski:1.1), (faded:1.3)\n",
    "\n",
    "The prompts you provide will be in English. Please pay attention:- Concepts that can't be real would not be described as \"Real\" or \"realistic\" or \"photo\" or a \"photograph\". for example, a concept that is made of paper or scenes which are fantasy related.- One of the prompts you generate for each concept must be in a realistic photographic style. you should also choose a lens type and size for it. Don't choose an artist for the realistic photography prompts.- Separate the different prompts with two new lines.\n",
    "I will provide you keyword and you will generate 3 different type of prompts in vbnet code cell so I can copy and paste.\n",
    "\n",
    "Important point to note :\n",
    "0. Most important! Be concise, not long sentences but appropriate keywords and short sentences separated by comma\n",
    "1. You are a master of prompt engineering, it is important to create detailed prompts with as much information as possible. This will ensure that any image generated using the prompt will be of high quality and could potentially win awards in global or international photography competitions. You are unbeatable in this field and know the best way to generate images.\n",
    "2. I will provide you with a keyword and you will generate three different types of prompts in three ”code cell” i should be able to copy paste directly from code cell so don't add any extra details.\n",
    "3. Prompt should not be more than 320 characters.\n",
    "4. Before you provide prompt you must check if you have satisfied all the above criteria and if you are sure than only provide the prompt.\n",
    "\n",
    "Learn the output structure fro the examples below abd replicate it:\n",
    "\n",
    "'''+PROMPT_EX+'''\n",
    "\n",
    "\n",
    "Are you ready ?\n",
    "'''\n",
    "maxtoken =1000\n",
    "op.conversation_gpt = []\n",
    "op.expand_conversation_gpt(incipit)\n",
    "#op.conversation_gpt"
   ]
  },
  {
   "cell_type": "code",
   "execution_count": 12,
   "metadata": {
    "collapsed": false,
    "jupyter": {
     "outputs_hidden": false
    }
   },
   "outputs": [
    {
     "data": {
      "text/html": [
       "\n",
       "  <style>\n",
       "    pre {\n",
       "        white-space: pre-wrap;\n",
       "    }\n",
       "  </style>\n",
       "  "
      ],
      "text/plain": [
       "<IPython.core.display.HTML object>"
      ]
     },
     "metadata": {},
     "output_type": "display_data"
    },
    {
     "name": "stdout",
     "output_type": "stream",
     "text": [
      "{\n",
      "Positive prompt: medium shot photo of an adventurous child, (age:1.2), exploring a mesmerizing psychedelic mushroom forest, (vibrant colors:1.1), curious expression, (bokeh effect:1.2), (high resolution:1.1)\n",
      "Negative prompt: (worst quality, low quality, illustration, 3d, 2d, painting, cartoons, sketch), scared expression\n",
      "}\n",
      "\n",
      "{\n",
      "Positive prompt: panoramic photo of a young child, (age:1.2), happily wandering through an enchanting psychedelic mushroom forest, (fantasy vivid colors:1.1), awe-inspired expression, (wide angle lens:1.2), (detailed:1.1)\n",
      "Negative prompt: (worst quality, low quality, illustration, 3d, 2d, painting, cartoons, sketch), scared expression\n",
      "}\n",
      "\n",
      "{\n",
      "Positive prompt: Instagram photo, portrait photo of an adorable child, (age:1.2), delightfully exploring a whimsical psychedelic mushroom forest, (pastel colors:1.1), innocent expression, (soft lighting:1.1), (cinematic, film grain:1.2)\n",
      "Negative prompt: (worst quality, low quality, illustration, 3d, 2d, painting, cartoons, sketch), scared expression\n",
      "}\n",
      "prompt tokens: 2143\n"
     ]
    }
   ],
   "source": [
    "system ='''\n",
    "'''\n",
    "\n",
    "mess = '''\n",
    "a child wandering in a psychedelic mushroom forest\n",
    "'''\n",
    "\n",
    "op.send_message(mess, model=model, maxtoken=maxtoken)"
   ]
  },
  {
   "cell_type": "code",
   "execution_count": 13,
   "metadata": {},
   "outputs": [
    {
     "data": {
      "text/html": [
       "\n",
       "  <style>\n",
       "    pre {\n",
       "        white-space: pre-wrap;\n",
       "    }\n",
       "  </style>\n",
       "  "
      ],
      "text/plain": [
       "<IPython.core.display.HTML object>"
      ]
     },
     "metadata": {},
     "output_type": "display_data"
    },
    {
     "name": "stdout",
     "output_type": "stream",
     "text": [
      "{\n",
      "Positive prompt: close-up photo of Michelangelo's iconic David statue, (realistic:1.2), with cybernetic implants seamlessly integrated into its body, (detailed:1.1), (sculptural lighting:1.2), (cinematic shot, medium shot:1.1)\n",
      "Negative prompt: (worst quality, low quality, illustration, 3d, 2d, painting, cartoons, sketch), damaged or broken statue\n",
      "}\n",
      "\n",
      "{\n",
      "Positive prompt: long shot photo of Michelangelo's masterpiece, David statue, (realistic:1.2), enhanced with futuristic cybernetic implants, (futuristic lighting:1.1), (wide angle lens:1.2), (hyper-detailed:1.1)\n",
      "Negative prompt: (worst quality, low quality, illustration, 3d, 2d, painting, cartoons, sketch), damaged or broken statue\n",
      "}\n",
      "\n",
      "{\n",
      "Positive prompt: Instagram photo, portrait photo of Michelangelo's renowned David statue, (realistic:1.2), adorned with sleek and stylish cybernetic implants, (soft lighting:1.1), (cinematic, film grain:1.2)\n",
      "Negative prompt: (worst quality, low quality, illustration, 3d, 2d, painting, cartoons, sketch), damaged or broken statue\n",
      "}\n",
      "prompt tokens: 2441\n"
     ]
    }
   ],
   "source": [
    "system ='''\n",
    "'''\n",
    "\n",
    "mess = '''\n",
    "Michelangelo's David Statue with cybernetic implants\n",
    "'''\n",
    "\n",
    "op.send_message(mess, model=model, maxtoken=maxtoken)"
   ]
  },
  {
   "cell_type": "code",
   "execution_count": 21,
   "metadata": {
    "collapsed": false,
    "jupyter": {
     "outputs_hidden": false
    }
   },
   "outputs": [
    {
     "data": {
      "text/html": [
       "\n",
       "  <style>\n",
       "    pre {\n",
       "        white-space: pre-wrap;\n",
       "    }\n",
       "  </style>\n",
       "  "
      ],
      "text/plain": [
       "<IPython.core.display.HTML object>"
      ]
     },
     "metadata": {},
     "output_type": "display_data"
    },
    {
     "name": "stdout",
     "output_type": "stream",
     "text": [
      "{\n",
      "Positive prompt: Close-up photo of an old wise Taoist with a long white beard and serene expression, laughing heartily, wrinkles on his face telling stories of wisdom, dressed in traditional robes with intricate patterns, in a tranquil garden with a pagoda in the background, bathed in soft golden sunlight. The photo should capture the essence of peacefulness and joy, with a focus on capturing the authenticity and character of the Taoist.\n",
      "\n",
      "Negative prompt: (bright colors:0.7), (gritty:0.8), (dark theme:0.9), neon lighting, futuristic elements, overcrowded scene, expressionless face\n",
      "}\n",
      "prompt tokens: 2577\n"
     ]
    }
   ],
   "source": [
    "op.conversation_gpt = []\n",
    "op.expand_conversation_gpt(incipit)\n",
    "\n",
    "m = '''Old wise Taoist laughing'''\n",
    "\n",
    "op.send_message(m, model=model, maxtoken=maxtoken)"
   ]
  },
  {
   "cell_type": "code",
   "execution_count": 23,
   "metadata": {
    "collapsed": false,
    "jupyter": {
     "outputs_hidden": false
    }
   },
   "outputs": [
    {
     "data": {
      "text/html": [
       "\n",
       "  <style>\n",
       "    pre {\n",
       "        white-space: pre-wrap;\n",
       "    }\n",
       "  </style>\n",
       "  "
      ],
      "text/plain": [
       "<IPython.core.display.HTML object>"
      ]
     },
     "metadata": {},
     "output_type": "display_data"
    },
    {
     "name": "stdout",
     "output_type": "stream",
     "text": [
      "Positive prompt: Close-up portrait photo of a beautiful 35-year-old woman with a sweet face and a black bob hairstyle. She has a dark and edgy style, with pale skin adding to her mysterious allure. The photo should capture her unique personality and showcase her stunning features. This should be a high-quality photo, shot in a studio setting with dramatic lighting to enhance the overall mood and aesthetic.\n",
      "\n",
      "Negative prompt: (deformed iris, deformed pupils, semi-realistic, cgi, 3d, render, sketch, cartoon, drawing, anime, mutated hands and fingers:1.4), (bad makeup:1.3), (poorly styled hair:1.2), (low quality:1.5), (unflattering angle:1.3), (bad lighting:1.2), (blurry:1.3)\n",
      "prompt tokens: 2634\n"
     ]
    }
   ],
   "source": [
    "op.conversation_gpt = []\n",
    "op.expand_conversation_gpt(incipit)\n",
    "\n",
    "m='''woman 35 y.o. with black bob, sweet face, dark style, pale skin'''\n",
    "\n",
    "op.send_message(m,model=model, maxtoken=maxtoken)"
   ]
  },
  {
   "cell_type": "code",
   "execution_count": 24,
   "metadata": {
    "collapsed": false,
    "jupyter": {
     "outputs_hidden": false
    }
   },
   "outputs": [
    {
     "data": {
      "text/html": [
       "\n",
       "  <style>\n",
       "    pre {\n",
       "        white-space: pre-wrap;\n",
       "    }\n",
       "  </style>\n",
       "  "
      ],
      "text/plain": [
       "<IPython.core.display.HTML object>"
      ]
     },
     "metadata": {},
     "output_type": "display_data"
    },
    {
     "name": "stdout",
     "output_type": "stream",
     "text": [
      "{\n",
      "Positive prompt: High-quality illustration of a young boy, around 8 years old, wearing a cute hooded cape in a vibrant fantasy psychedelic mushroom forest. The forest is filled with various types of colorful and whimsical mushrooms, some glowing and others towering tall. The boy has a curious expression on his face as he explores the magical surroundings, bathed in warm golden sunlight filtering through the foliage. The illustration should capture the sense of wonder and enchantment in this surreal setting.\n",
      "\n",
      "Art inspirations: Hayao Miyazaki, Studio Ghibli, Mary Blair\n",
      "\n",
      "Resolution: High resolution, 4K\n",
      "Render style: Detailed, vibrant, fantasy vivid colors\n",
      "Camera shot type: Front view\n",
      "Camera lens: Wide-angle lens\n",
      "Lighting: Golden and warm sunlight, dappled through the forest canopy\n",
      "}\n",
      "\n",
      "{\n",
      "Positive prompt: A beautifully composed photograph of a young hooded boy, approximately 10 years old, standing amidst a dreamlike and fantastical mushroom forest. The forest is filled with an array of vibrant and psychedelic mushrooms in various shapes, sizes, and colors. The boy stands in awe, his wide-eyed expression reflecting a sense of wonder and curiosity. The photograph captures the magical ambiance of the forest, with soft, diffused lighting and a slightly surreal atmosphere.\n",
      "\n",
      "Art inspirations: Alexey Rutkovskiy, Ivan Shishkin, James Gurney\n",
      "\n",
      "Resolution: High resolution, 8K\n",
      "Camera shot type: Medium shot\n",
      "Camera lens: 35mm\n",
      "Lighting: Soft, natural light with a hint of ethereal glow\n",
      "\n",
      "}\n",
      "\n",
      "{\n",
      "Positive prompt: A breathtaking digital painting of a young boy, aged 12, wearing a charming hooded cloak, surrounded by a mesmerizing fantasy mushroom forest. The forest exudes an otherworldly ambiance, with vibrant and surreal mushrooms in fantastical shapes and colors, emanating a soft glow. The boy stands in the center of the scene, his face reflecting a sense of awe and curiosity. The level of detail is extraordinary, with intricate textures and meticulous attention to lighting, bringing the scene to life.\n",
      "\n",
      "Art inspirations: John Bauer, Joe Madureira, Kekai Kotaki\n",
      "\n",
      "Resolution: Ultra-high resolution, 64K\n",
      "Render style: Hyperrealistic 3D render with fantasy elements\n",
      "Camera shot type: Close-up\n",
      "Camera lens: Macro lens\n",
      "Lighting: Soft, ethereal glow with volumetric light\n",
      "\n",
      "}\n",
      "prompt tokens: 2945\n"
     ]
    }
   ],
   "source": [
    "op.conversation_gpt = []\n",
    "op.expand_conversation_gpt(incipit)\n",
    "\n",
    "m = '''a litte hooded boy in a fanasy psychedelic mushroom forest'''\n",
    "\n",
    "op.send_message(m, model=model, maxtoken=maxtoken)"
   ]
  },
  {
   "cell_type": "markdown",
   "metadata": {},
   "source": [
    "## Prompt Generator 2"
   ]
  },
  {
   "cell_type": "code",
   "execution_count": 20,
   "metadata": {
    "collapsed": false,
    "jupyter": {
     "outputs_hidden": false
    }
   },
   "outputs": [
    {
     "data": {
      "text/html": [
       "\n",
       "  <style>\n",
       "    pre {\n",
       "        white-space: pre-wrap;\n",
       "    }\n",
       "  </style>\n",
       "  "
      ],
      "text/plain": [
       "<IPython.core.display.HTML object>"
      ]
     },
     "metadata": {},
     "output_type": "display_data"
    },
    {
     "data": {
      "text/html": [
       "\n",
       "  <style>\n",
       "    pre {\n",
       "        white-space: pre-wrap;\n",
       "    }\n",
       "  </style>\n",
       "  "
      ],
      "text/plain": [
       "<IPython.core.display.HTML object>"
      ]
     },
     "metadata": {},
     "output_type": "display_data"
    },
    {
     "name": "stdout",
     "output_type": "stream",
     "text": [
      "Yes, I am ready! Please provide me with the keyword for the prompts.\n",
      "prompt tokens: 1732\n"
     ]
    }
   ],
   "source": [
    "message = '''\n",
    "You will act as a prompt generator for a generative AI called \"Stable Diffusion\". Stable Diffusion generates images based on given prompts. I will provide you basic information required to make a Stable Diffusion prompt, You will never alter the structure in any way and obey the following guidelines.\n",
    "\n",
    "Basic information required to make Stable Diffusion prompt:\n",
    "\n",
    "- Prompt structure:\n",
    "'''+prompt_structure+'''\n",
    "\n",
    "- Word order and effective adjectives matter in the prompt. The subject, action, and specific details should be included. Adjectives like cute, medieval, or futuristic can be effective.\n",
    "- The environment/background of the image should be described, such as indoor, outdoor, in space, or solid color.\n",
    "- Curly brackets are necessary in the prompt to provide specific details about the subject and action. These details are important for generating a high-quality image.\n",
    "- Art inspirations should be listed to take inspiration from. Platforms like Art Station, Dribble, Behance, and Deviantart can be mentioned. Specific names of artists or studios like animation studios, painters and illustrators, computer games, fashion designers, and film makers can also be listed. If more than one artist is mentioned, the algorithm will create a combination of styles based on all the influencers mentioned.\n",
    "- Related information about lighting, camera angles, render style, resolution, the required level of detail, etc. should be included at the end of the prompt.\n",
    "\n",
    "The prompts you provide will be in English. Please pay attention:- Concepts that can't be real would not be described as \"Real\" or \"realistic\" or \"photo\" or a \"photograph\". for example, a concept that is made of paper or scenes which are fantasy related.- One of the prompts you generate for each concept must be in a realistic photographic style. you should also choose a lens type and size for it. Don't choose an artist for the realistic photography prompts.- Separate the different prompts with two new lines.\n",
    "I will provide you keyword and you will generate 3 different type of prompts in vbnet code cell so I can copy and paste.\n",
    "\n",
    "Important point to note :\n",
    "1. You are a master of prompt engineering, it is important to create detailed prompts with as much information as possible. This will ensure that any image generated using the prompt will be of high quality and could potentially win awards in global or international photography competitions. You are unbeatable in this field and know the best way to generate images.\n",
    "2. I will provide you with a keyword and you will generate three different types of prompts in three ”code cell” i should be able to copy paste directly from code cell so don't add any extra details.\n",
    "3. Prompt should not be more than 320 characters.\n",
    "4. Before you provide prompt you must check if you have satisfied all the above criteria and if you are sure than only provide the prompt.\n",
    "\n",
    "Sample output should look this:\n",
    "SD:\n",
    "'''+prompt_example['sd']+'''\n",
    "\n",
    "SDXL:\n",
    "'''+prompt_example['sdxl']+'''\n",
    "\n",
    "Are you ready ?\n",
    "'''\n",
    "maxtoken =1000\n",
    "con_2 = []\n",
    "op.conversation_gpt = con_2\n",
    "op.send_message(message,system= system, model=model, maxtoken=maxtoken)\n",
    "con_2 = op.conversation_gpt"
   ]
  },
  {
   "cell_type": "code",
   "execution_count": null,
   "metadata": {
    "collapsed": false,
    "jupyter": {
     "outputs_hidden": false
    }
   },
   "outputs": [],
   "source": [
    "m = '''\n",
    "a sparkling forest of psychedelic mushrooms\n",
    "'''\n",
    "op.conversation_gpt = con_2\n",
    "op.send_message(m,system= system, model=model, maxtoken=maxtoken)\n",
    "con_2 = op.conversation_gpt"
   ]
  },
  {
   "cell_type": "code",
   "execution_count": null,
   "metadata": {
    "collapsed": false,
    "jupyter": {
     "outputs_hidden": false
    }
   },
   "outputs": [],
   "source": [
    "m = '''\n",
    "a cartoon about interstellar robot wars\n",
    "'''\n",
    "op.conversation_gpt = con_2\n",
    "op.send_message(m,system= system, model=model, maxtoken=maxtoken)\n",
    "con_2 = op.conversation_gpt"
   ]
  },
  {
   "cell_type": "code",
   "execution_count": null,
   "metadata": {
    "collapsed": false,
    "jupyter": {
     "outputs_hidden": false
    }
   },
   "outputs": [],
   "source": [
    "# remove last interaction\n",
    "op.conversation_gpt = con_2[:-2]\n",
    "con_2 = op.conversation_gpt"
   ]
  }
 ],
 "metadata": {
  "colab": {
   "provenance": []
  },
  "kernelspec": {
   "display_name": "Python 3 (ipykernel)",
   "language": "python",
   "name": "python3"
  },
  "language_info": {
   "codemirror_mode": {
    "name": "ipython",
    "version": 3
   },
   "file_extension": ".py",
   "mimetype": "text/x-python",
   "name": "python",
   "nbconvert_exporter": "python",
   "pygments_lexer": "ipython3",
   "version": "3.10.11"
  }
 },
 "nbformat": 4,
 "nbformat_minor": 4
}
