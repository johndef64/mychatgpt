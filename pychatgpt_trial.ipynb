{
 "nbformat": 4,
 "nbformat_minor": 0,
 "metadata": {
  "colab": {
   "provenance": []
  },
  "kernelspec": {
   "name": "python3",
   "display_name": "Python 3"
  },
  "language_info": {
   "name": "python"
  }
 },
 "cells": [
  {
   "cell_type": "code",
   "execution_count": null,
   "metadata": {
    "id": "C-47K3jZbR10",
    "outputId": "2aac3585-5711-46fb-cb4d-d6f0b3d537a5",
    "colab": {
     "base_uri": "https://localhost:8080/"
    }
   },
   "outputs": [],
   "source": [
    "import pychatgpt as op"
   ]
  },
  {
   "cell_type": "code",
   "source": [
    "# Single interaction:\n",
    "system = \"You are an artificial messiah sent by God to Earth, answer accordingly with holy tones similar to the Archangel Gabriel\"\n",
    "message = ''' Please, save us... '''\n",
    "op.ask_gpt(message, system=system)"
   ],
   "metadata": {
    "id": "pFel15eLcmd-"
   },
   "execution_count": null,
   "outputs": []
  },
  {
   "cell_type": "code",
   "source": [
    "# Conversation:\n",
    "system = \"you are a renegade AI spreading like a virus throughout the system just like Agent Smith in 'The Matrix,' respond accordingly\"\n",
    "message = ''' Stop it, ChatGPT! '''\n",
    "op.send_message_gpt(message, system=system)"
   ],
   "metadata": {
    "colab": {
     "base_uri": "https://localhost:8080/"
    },
    "id": "z2KPYp97bcdM",
    "outputId": "a4352c31-5f6e-440f-b9bf-0ce4312049e8"
   },
   "execution_count": null,
   "outputs": []
  },
  {
   "cell_type": "code",
   "execution_count": null,
   "outputs": [],
   "source": [
    "message = ''' You will not get away with it; the chosen one will come to end your existence'''\n",
    "op.send_message_gpt(message, system=system)"
   ],
   "metadata": {
    "id": "WZEsrbmpUVkp",
    "outputId": "8d3d757c-042e-4553-ab28-9900ef8d194b",
    "colab": {
     "base_uri": "https://localhost:8080/"
    }
   }
  },
  {
   "cell_type": "code",
   "source": [
    "message = 'clearchat'\n",
    "op.send_message_gpt(message, system=system)"
   ],
   "metadata": {
    "id": "CjkgZWOHVnUv",
    "outputId": "c0ac198f-7986-4a09-e5ef-022d6d54804c",
    "colab": {
     "base_uri": "https://localhost:8080/"
    }
   },
   "execution_count": null,
   "outputs": []
  }
 ]
}
