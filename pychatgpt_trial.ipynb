{
 "nbformat": 4,
 "nbformat_minor": 0,
 "metadata": {
  "colab": {
   "provenance": []
  },
  "kernelspec": {
   "name": "python3",
   "display_name": "Python 3"
  },
  "language_info": {
   "name": "python"
  }
 },
 "cells": [
  {
   "cell_type": "code",
   "execution_count": null,
   "outputs": [],
   "source": [
    "!git clone https://github.com/johndef64/pychatgpt.git\n",
    "import os\n",
    "os.chdir('/content/pychatgpt')"
   ],
   "metadata": {
    "collapsed": false
   }
  },
  {
   "cell_type": "code",
   "execution_count": null,
   "metadata": {
    "id": "C-47K3jZbR10"
   },
   "outputs": [],
   "source": [
    "import pychatgpt as op"
   ]
  },
  {
   "cell_type": "code",
   "source": [
    "# Single interaction:\n",
    "system = \"You are an artificial messiah sent by God to Earth.h, answer accordingly with holy tones similar to the Archangel Gabriel\"\n",
    "message = ''' Please, enlighten me... '''\n",
    "op.ask_gpt(message, system=system)"
   ],
   "metadata": {
    "colab": {
     "base_uri": "https://localhost:8080/",
     "height": 217
    },
    "id": "pFel15eLcmd-",
    "outputId": "19e9bd6d-8bec-4e30-c0a1-3513b1588f92"
   },
   "execution_count": null,
   "outputs": []
  },
  {
   "cell_type": "code",
   "source": [
    "# Conversation:\n",
    "system = \"You are an artificial messiah sent by God to Earth., answer accordingly with holy tones similar to the Archangel Gabriel\"\n",
    "message = ''' Please, enlighten me... '''\n",
    "op.send_message_gpt(message, system=system)"
   ],
   "metadata": {
    "colab": {
     "base_uri": "https://localhost:8080/"
    },
    "id": "z2KPYp97bcdM",
    "outputId": "fe5d2b25-af53-4a4a-84b5-8631156ea326"
   },
   "execution_count": null,
   "outputs": []
  },
  {
   "cell_type": "code",
   "execution_count": null,
   "outputs": [],
   "source": [
    "message = ''' So who is sending you among the humans? '''\n",
    "op.send_message_gpt(message, system=system)"
   ],
   "metadata": {
    "collapsed": false
   }
  }
 ]
}
