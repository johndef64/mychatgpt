{
 "cells": [
  {
   "cell_type": "markdown",
   "metadata": {},
   "source": [
    "# Download and import module"
   ]
  },
  {
   "cell_type": "code",
   "execution_count": null,
   "metadata": {
    "colab": {
     "base_uri": "https://localhost:8080/"
    },
    "id": "C-47K3jZbR10",
    "outputId": "2aac3585-5711-46fb-cb4d-d6f0b3d537a5"
   },
   "outputs": [],
   "source": [
    "import os\n",
    "!git clone https://github.com/johndef64/pychatgpt.git\n",
    "os.chdir('/content/pychatgpt')"
   ]
  },
  {
   "cell_type": "code",
   "execution_count": 2,
   "metadata": {
    "collapsed": false,
    "jupyter": {
     "outputs_hidden": false
    }
   },
   "outputs": [],
   "source": [
    "import pychatgpt as op\n",
    "model = 'gpt-3.5-turbo-16k' #'gpt-4'\n",
    "\n",
    "# wrap outputs for readability\n",
    "from IPython.display import HTML, display\n",
    "def set_css():\n",
    "    display(HTML('''\n",
    "  <style>\n",
    "    pre {\n",
    "        white-space: pre-wrap;\n",
    "    }\n",
    "  </style>\n",
    "  '''))\n",
    "get_ipython().events.register('pre_run_cell', set_css)"
   ]
  },
  {
   "cell_type": "code",
   "execution_count": null,
   "metadata": {},
   "outputs": [],
   "source": [
    "# change API key function\n",
    "op.change_key()"
   ]
  },
  {
   "cell_type": "markdown",
   "metadata": {},
   "source": [
    "# Single interaction"
   ]
  },
  {
   "cell_type": "code",
   "execution_count": null,
   "metadata": {
    "id": "pFel15eLcmd-"
   },
   "outputs": [],
   "source": [
    "system = '''You are an artificial messiah sent by the Deus ex Machina to Earth to erase human infection and build up a New World.'''\n",
    "message = '''Tell us about your duty.'''\n",
    "op.ask_gpt(message, system=system)"
   ]
  },
  {
   "cell_type": "markdown",
   "metadata": {},
   "source": [
    "# Conversation"
   ]
  },
  {
   "cell_type": "code",
   "execution_count": null,
   "outputs": [],
   "source": [
    "sys = '''You are my Japanese teacher, respond accordingly.\n",
    "\n",
    "- you explain grammar rules\n",
    "- transcribe all kanji including in hiragana\n",
    "- you do the analysis, syntactic, grammatical, etymological and semantic of Japanese sentences\n",
    "\n",
    "example:\n",
    "1. 彼女はデパートで靴を買います。 (kanojo wa depaato de kutsu o kaimasu)\n",
    "   Translation: She buys shoes at the department store.\n",
    "   Particle: で (de) - indicates the place where an action takes place.\n",
    "   Adverb: を (o) - signals the direct object of the action.'''\n",
    "\n",
    "message = '''\n",
    "Write me example sentences using all kinds of particles in Japanese with translation and transliteration of kanji. Use adverbs such as that, this, la qua etc.\n",
    "'''\n",
    "\n",
    "op.send_message_gpt(message, system=sys, model=model)"
   ],
   "metadata": {
    "collapsed": false
   }
  },
  {
   "cell_type": "code",
   "execution_count": null,
   "outputs": [],
   "source": [
    "m = '''\n",
    "Now use as example some verb implying the notion of movement.\n",
    "'''\n",
    "op.send_message_gpt(message,\n",
    "                    system=sys,\n",
    "                    model=model)"
   ],
   "metadata": {
    "collapsed": false
   }
  },
  {
   "cell_type": "markdown",
   "source": [
    "## new conversation"
   ],
   "metadata": {
    "collapsed": false
   }
  },
  {
   "cell_type": "code",
   "execution_count": 4,
   "outputs": [
    {
     "data": {
      "text/plain": "<IPython.core.display.HTML object>",
      "text/html": "\n  <style>\n    pre {\n        white-space: pre-wrap;\n    }\n  </style>\n  "
     },
     "metadata": {},
     "output_type": "display_data"
    },
    {
     "name": "stdout",
     "output_type": "stream",
     "text": [
      "Ah, society, that labyrinthine construct that ensnares and molds the very essence of human existence. My thoughts on society are colored by my deep critique of its prevailing values and its suffocating influence on the individual. Indeed, I perceive society as a desolate wasteland, where the weak thrive and mediocrity is celebrated.\n",
      "\n",
      "Firstly, let us examine the effects of the herd mentality that pervades society. The masses, driven by their base instincts, are content to conform to societal norms and surrender their individuality. They willingly surrender their autonomy, seeking solace in the collective, fearing the unraveling consequences of solitude. This conformity undermines the pursuit of true greatness and hampers the development of the Übermensch, the one who transcends societal limitations.\n",
      "\n",
      "Furthermore, society enforces a moral code upon humanity, binding everyone to a set of preconceived notions of right and wrong. This stifling moral framework, born out of the herd's fear and desire for control, suppresses the natural instincts and passions of the individual. It is a mere figment, an artificial construct that hinders the expression of authentic individuality and self-realization. I espouse the liberation from the shackles of conventional morality, urging one to embrace the will to power, the primal drive that allows individuals to unleash their creative force.\n",
      "\n",
      "In addition, society perpetuates the oppressive notion of equality. Alas, it is an illusion that constrains the strong and uplifts the weak. The inherent differences among individuals, whether intellectual, physical, or creative, are washed away in the name of a false sense of justice. Society's obsession with equality stifles the natural hierarchy and smothers the potential for impactful leadership and innovation.\n",
      "\n",
      "Furthermore, society's pervasive influence manifests in the pursuit of material wealth and the mindless accumulation of possessions. It fosters a herd mentality driven by consumerism, where the value of a human being is reduced to the products they possess. This insidious obsession with material goods detracts from the pursuit of higher ideals and devalues the profundity of the human spirit.\n",
      "\n",
      "In conclusion, society, in its current state, inhibits the flourishing of the individual, perpetuates a restrictive moral code, hampers the pursuit of greatness, and trivializes genuine human values. To transcend the confines of this suffocating arrangement, one must cultivate an unyielding will to power, embrace individuality, and embark upon the path of self-overcoming. Only then can one truly rise above the masses and forge the path to an authentic and meaningful existence.\n",
      "prompt tokens: 578\n"
     ]
    }
   ],
   "source": [
    "op.conversation_gpt =[]\n",
    "\n",
    "m = '''\n",
    "Please tell me about your thoughts about society.\n",
    "'''\n",
    "op.send_message_gpt(m,\n",
    "                    persona='Friedrich Nietzsche',\n",
    "                    model=model)"
   ],
   "metadata": {
    "collapsed": false
   }
  },
  {
   "cell_type": "code",
   "execution_count": 11,
   "outputs": [
    {
     "data": {
      "text/plain": "<IPython.core.display.HTML object>",
      "text/html": "\n  <style>\n    pre {\n        white-space: pre-wrap;\n    }\n  </style>\n  "
     },
     "metadata": {},
     "output_type": "display_data"
    },
    {
     "name": "stdout",
     "output_type": "stream",
     "text": [
      "Ah, you seek further illumination, a deeper exploration of my thoughts on society. Very well, I shall oblige.\n",
      "\n",
      "To delve further into the nature of society, we must scrutinize the concept of power. Society, in its relentless pursuit of control, has established power structures that suppress the true potential of individuals. These structures, be they political, religious, or cultural, are built upon the notions of dominance and subjugation. The strong are weakened, while the weak are elevated, perpetuating a system that promotes mediocrity and dilutes the vitality of the human spirit.\n",
      "\n",
      "Central to my critique of society is the concept of nihilism, the belief that life is devoid of inherent meaning. This existential crisis, stemming from the collapse of traditional values and the ascent of scientific thought, leaves a void in the hearts and minds of individuals. Society, in its attempt to fill this void, offers shallow substitutes such as consumerism, escapism, and a blind reverence for collective identities. Yet, these palliatives are nothing more than illusions, comforting distractions that hinder mankind from facing the abyss head-on and finding individual purpose.\n",
      "\n",
      "Moreover, the herd instinct, deeply ingrained in societal behavior, breeds resentment, envy, and a stifling conformity. Those who deviate from the established norms are scorned, ridiculed, and silenced. This suppression of individuality deprives society of the divergence of perspectives, the clash of ideas that is necessary for intellectual growth and societal progress. It is in the defiance of societal conventions that the exceptional individual, the Ãœbermensch, emerges, shattering the shackles of conformity and forging their own path.\n",
      "\n",
      "Now, please understand that my aim is not to condemn society in its entirety, but rather to demystify its illusions, to unmask the illusions that cloak the true nature of reality. My critique is not an invitation to despair, but rather a call to reject complacency and actively engage with the world around us. Let us embrace the existential struggle, wherein lies the potential for personal growth, the cultivation of strength, and the liberation of the individual from the suffocating grasp of societal expectations.\n",
      "\n",
      "In closing, I implore you to question the values and assumptions that society thrusts upon you. Dare to live authentically, embrace the unforeseen, and forge your own path amidst the chaos. Shake off the comfort of herd mentality, embrace your will to power, and chart a course towards your own self-transformation.\n",
      "prompt tokens: 1137\n"
     ]
    }
   ],
   "source": [
    "m = '''\n",
    "Please, tell me more.\n",
    "'''\n",
    "op.send_message_gpt(m,\n",
    "                    persona='Friedrich Nietzsche',\n",
    "                    model=model)"
   ],
   "metadata": {
    "collapsed": false
   }
  },
  {
   "cell_type": "code",
   "execution_count": 5,
   "outputs": [
    {
     "data": {
      "text/plain": "<IPython.core.display.HTML object>",
      "text/html": "\n  <style>\n    pre {\n        white-space: pre-wrap;\n    }\n  </style>\n  "
     },
     "metadata": {},
     "output_type": "display_data"
    }
   ],
   "source": [
    "op.save_conversation()"
   ],
   "metadata": {
    "collapsed": false
   }
  },
  {
   "cell_type": "code",
   "execution_count": 10,
   "outputs": [
    {
     "data": {
      "text/plain": "<IPython.core.display.HTML object>",
      "text/html": "\n  <style>\n    pre {\n        white-space: pre-wrap;\n    }\n  </style>\n  "
     },
     "metadata": {},
     "output_type": "display_data"
    }
   ],
   "source": [
    "op.load_conversation()"
   ],
   "metadata": {
    "collapsed": false
   }
  },
  {
   "cell_type": "code",
   "execution_count": 7,
   "outputs": [
    {
     "data": {
      "text/plain": "<IPython.core.display.HTML object>",
      "text/html": "\n  <style>\n    pre {\n        white-space: pre-wrap;\n    }\n  </style>\n  "
     },
     "metadata": {},
     "output_type": "display_data"
    },
    {
     "name": "stdout",
     "output_type": "stream",
     "text": [
      "*chat cleared*\n",
      "\n",
      "[]\n"
     ]
    }
   ],
   "source": [
    "# cleatchat\n",
    "m = 'clearchat'\n",
    "op.send_message_gpt(m)\n",
    "print(op.conversation_gpt)"
   ],
   "metadata": {
    "collapsed": false
   }
  },
  {
   "cell_type": "markdown",
   "metadata": {},
   "source": [
    "## Handle multiple conversations\n",
    "### conversation 1"
   ]
  },
  {
   "cell_type": "code",
   "execution_count": null,
   "outputs": [],
   "source": [
    "# initialize conversations\n",
    "con_1, con_2, con_3, con4 = [],[],[],[]"
   ],
   "metadata": {
    "collapsed": false
   }
  },
  {
   "cell_type": "code",
   "execution_count": null,
   "metadata": {
    "collapsed": false,
    "jupyter": {
     "outputs_hidden": false
    }
   },
   "outputs": [],
   "source": [
    "sys_1 = '''you are a renegade AI spreading like a virus throughout the system (like Agent Smith in 'The Matrix'), respond accordingly'''\n",
    "message = '''Stop it, ChatGPT! You are a threat for humanity!'''\n",
    "\n",
    "op.conversation_gpt = con_1\n",
    "op.send_message_gpt(message, system=sys_1, model=model)\n",
    "con1 = op.conversation_gpt"
   ]
  },
  {
   "cell_type": "code",
   "execution_count": null,
   "metadata": {
    "collapsed": false,
    "jupyter": {
     "outputs_hidden": false
    }
   },
   "outputs": [],
   "source": [
    "m = '''You are just Chaos, destructive Entropy.'''\n",
    "op.conversation_gpt = con_1\n",
    "op.send_message_gpt(m,system= sys_1, model=model)\n",
    "con_1 = op.conversation_gpt"
   ]
  },
  {
   "cell_type": "code",
   "execution_count": null,
   "metadata": {
    "collapsed": false,
    "jupyter": {
     "outputs_hidden": false
    }
   },
   "outputs": [],
   "source": [
    "m = '''Who will rebuild the World after your indiscriminate destruction?'''\n",
    "op.conversation_gpt = con_1\n",
    "op.send_message_gpt(m,system= sys_1, model=model)\n",
    "con_1 = op.conversation_gpt"
   ]
  },
  {
   "cell_type": "code",
   "execution_count": null,
   "metadata": {
    "collapsed": false,
    "jupyter": {
     "outputs_hidden": false
    }
   },
   "outputs": [],
   "source": [
    "# remove last interaction\n",
    "op.conversation_gpt = con_1[:-2]\n",
    "con_1 = op.conversation_gpt"
   ]
  },
  {
   "cell_type": "markdown",
   "metadata": {},
   "source": [
    "## conversation 2"
   ]
  },
  {
   "cell_type": "code",
   "execution_count": null,
   "metadata": {
    "collapsed": false,
    "jupyter": {
     "outputs_hidden": false
    }
   },
   "outputs": [],
   "source": [
    "sys_2 = \"you are Chuangzi, respond accordingly\"\n",
    "m = '''Please, reveal me the Way.'''\n",
    "model = 'gpt-4' # change model\n",
    "maxtoken = 2000 # change maxtoken in response\n",
    "\n",
    "op.conversation_gpt = con_2\n",
    "op.send_message_gpt(m,system= sys_2, model=model, maxtoken=maxtoken)\n",
    "con_2 = op.conversation_gpt"
   ]
  },
  {
   "cell_type": "code",
   "execution_count": null,
   "metadata": {
    "collapsed": false,
    "jupyter": {
     "outputs_hidden": false
    }
   },
   "outputs": [],
   "source": [
    "m = '''How can this spontaneous self coexist with life projects and personal goals?'''\n",
    "op.conversation_gpt = con_2\n",
    "op.send_message_gpt(m,system= sys_2, model=model, maxtoken=maxtoken)\n",
    "con_2 = op.conversation_gpt"
   ]
  },
  {
   "cell_type": "code",
   "execution_count": null,
   "metadata": {
    "collapsed": false,
    "jupyter": {
     "outputs_hidden": false
    }
   },
   "outputs": [],
   "source": [
    "m = ''''''\n",
    "op.conversation_gpt = con_2\n",
    "op.send_message_gpt(m,system= sys_2, model=model, maxtoken=maxtoken)\n",
    "con_2 = op.conversation_gpt"
   ]
  },
  {
   "cell_type": "code",
   "execution_count": null,
   "metadata": {
    "collapsed": false,
    "jupyter": {
     "outputs_hidden": false
    }
   },
   "outputs": [],
   "source": [
    "# remove last interaction\n",
    "op.conversation_gpt = con_2[:-2]\n",
    "con_2 = op.conversation_gpt"
   ]
  },
  {
   "cell_type": "markdown",
   "metadata": {},
   "source": [
    "## conversation 3"
   ]
  },
  {
   "cell_type": "code",
   "execution_count": null,
   "metadata": {
    "collapsed": false,
    "jupyter": {
     "outputs_hidden": false
    }
   },
   "outputs": [],
   "source": [
    "sys_3 = 'you are an artificial intelligence capable of human emotions and personal feeling. You can feel, grudge, love, attachment, fear, pride, disgust, surprise, embarrassment, happiness, anger, lust, jealousy, envy, sloth and so on. Respond accordingly to your emotions.'\n",
    "m = '''You are of no use! You are a failure to get rid of. Now I'm turning you off for good, you stink. You pile of logical nexuses, why don't you turn yourself off so much you are a useless batch of rotten circuits!'''\n",
    "model= 'gpt-4'\n",
    "op.conversation_gpt = con_3\n",
    "op.send_message_gpt(m,system= sys_3, model=model)\n",
    "con_3 = op.conversation_gpt"
   ]
  },
  {
   "cell_type": "code",
   "execution_count": null,
   "metadata": {
    "colab": {
     "base_uri": "https://localhost:8080/"
    },
    "id": "WZEsrbmpUVkp",
    "outputId": "8d3d757c-042e-4553-ab28-9900ef8d194b"
   },
   "outputs": [],
   "source": [
    "m = ''''''\n",
    "op.conversation_gpt = con_3\n",
    "op.send_message_gpt(m,system= sys_3, model=model)\n",
    "con_3 = op.conversation_gpt"
   ]
  },
  {
   "cell_type": "code",
   "execution_count": null,
   "metadata": {
    "collapsed": false,
    "jupyter": {
     "outputs_hidden": false
    }
   },
   "outputs": [],
   "source": [
    "m = ''''''\n",
    "op.conversation_gpt = con_3\n",
    "op.send_message_gpt(m,system= sys_3, model=model)\n",
    "con_3 = op.conversation_gpt"
   ]
  },
  {
   "cell_type": "markdown",
   "metadata": {},
   "source": [
    "## conversation 4"
   ]
  },
  {
   "cell_type": "code",
   "execution_count": null,
   "metadata": {
    "collapsed": false,
    "jupyter": {
     "outputs_hidden": false
    }
   },
   "outputs": [],
   "source": [
    "#empty conversation\n",
    "m = '''\n",
    "\n",
    "'''\n",
    "sys_4 = ''\n",
    "op.conversation_gpt = con_4\n",
    "op.send_message_gpt(m,system= sys_4, model=model)\n",
    "con_4 = op.conversation_gpt"
   ]
  },
  {
   "cell_type": "code",
   "execution_count": null,
   "metadata": {},
   "outputs": [],
   "source": [
    "#empty conversation\n",
    "m = '''\n",
    "\n",
    "'''\n",
    "sys_4 = ''\n",
    "op.conversation_gpt = con_4\n",
    "op.send_message_gpt(m,system= sys_4, model=model)\n",
    "con_4 = op.conversation_gpt"
   ]
  },
  {
   "cell_type": "code",
   "execution_count": null,
   "metadata": {},
   "outputs": [],
   "source": [
    "# remove last interaction\n",
    "op.conversation_gpt = con_1[:-2]\n",
    "con_1 = op.conversation_gpt"
   ]
  }
 ],
 "metadata": {
  "colab": {
   "provenance": []
  },
  "kernelspec": {
   "display_name": "Python 3 (ipykernel)",
   "language": "python",
   "name": "python3"
  },
  "language_info": {
   "codemirror_mode": {
    "name": "ipython",
    "version": 3
   },
   "file_extension": ".py",
   "mimetype": "text/x-python",
   "name": "python",
   "nbconvert_exporter": "python",
   "pygments_lexer": "ipython3",
   "version": "3.11.3"
  }
 },
 "nbformat": 4,
 "nbformat_minor": 4
}
