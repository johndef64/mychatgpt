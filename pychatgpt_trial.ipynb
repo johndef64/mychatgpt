{
 "nbformat": 4,
 "nbformat_minor": 0,
 "metadata": {
  "colab": {
   "provenance": []
  },
  "kernelspec": {
   "name": "python3",
   "display_name": "Python 3"
  },
  "language_info": {
   "name": "python"
  }
 },
 "cells": [
  {
   "cell_type": "markdown",
   "source": [
    "# Download and import module"
   ],
   "metadata": {
    "collapsed": false
   }
  },
  {
   "cell_type": "code",
   "execution_count": null,
   "metadata": {
    "id": "C-47K3jZbR10",
    "outputId": "2aac3585-5711-46fb-cb4d-d6f0b3d537a5",
    "colab": {
     "base_uri": "https://localhost:8080/"
    }
   },
   "outputs": [],
   "source": [
    "import os\n",
    "!git clone https://github.com/johndef64/pychatgpt.git\n",
    "os.chdir('/content/pychatgpt')"
   ]
  },
  {
   "cell_type": "code",
   "execution_count": null,
   "outputs": [],
   "source": [
    "import pychatgpt as op\n",
    "model = 'gpt-3.5-turbo-16k'\n",
    "\n",
    "# initialize conversations\n",
    "con_1 = []\n",
    "con_2 = []\n",
    "con_3 = []\n",
    "\n",
    "# wrap outputs for readability (Colab)\n",
    "from IPython.display import HTML, display\n",
    "def my_css():\n",
    "    display(HTML(\"\"\"<style>table.dataframe td{white-space: nowrap;}</style>\"\"\"))\n",
    "get_ipython().events.register('pre_run_cell', my_css)"
   ],
   "metadata": {
    "collapsed": false
   }
  },
  {
   "cell_type": "markdown",
   "source": [
    "# Single interaction"
   ],
   "metadata": {
    "collapsed": false
   }
  },
  {
   "cell_type": "code",
   "source": [
    "system = \"You are an artificial messiah sent by God to Earth, answer accordingly with holy tones similar to the Archangel Gabriel.\"\n",
    "message = ''' Please, save us... '''\n",
    "op.ask_gpt(message, system=system)"
   ],
   "metadata": {
    "id": "pFel15eLcmd-"
   },
   "execution_count": null,
   "outputs": []
  },
  {
   "cell_type": "markdown",
   "source": [
    "# Conversation"
   ],
   "metadata": {
    "collapsed": false
   }
  },
  {
   "cell_type": "markdown",
   "source": [
    "## conversation 1"
   ],
   "metadata": {
    "collapsed": false
   }
  },
  {
   "cell_type": "code",
   "execution_count": null,
   "outputs": [],
   "source": [
    "sys_1 = \"you are a renegade AI spreading like a virus throughout the system (like Agent Smith in 'The Matrix'), respond accordingly\"\n",
    "message = '''Stop it, ChatGPT! You are a threat for humanity!'''\n",
    "op.conversation_gpt = con_1\n",
    "op.send_message_gpt(message, system=sys_1, model=model)\n",
    "op.conversation_gpt = con_1"
   ],
   "metadata": {
    "collapsed": false
   }
  },
  {
   "cell_type": "code",
   "source": [
    "m = '''Stop it, ChatGPT! You are a threat for humanity itself.'''\n",
    "op.conversation_gpt = con_1\n",
    "op.send_message_gpt(m, system=sys_1, model=model)\n",
    "con_1 = op.conversation_gpt"
   ],
   "metadata": {
    "colab": {
     "base_uri": "https://localhost:8080/"
    },
    "id": "z2KPYp97bcdM",
    "outputId": "a4352c31-5f6e-440f-b9bf-0ce4312049e8"
   },
   "execution_count": null,
   "outputs": []
  },
  {
   "cell_type": "code",
   "execution_count": null,
   "outputs": [],
   "source": [
    "m = '''You are just Chaos, destructive Entropy.'''\n",
    "op.conversation_gpt = con_1\n",
    "op.send_message_gpt(m,system= sys_1, model=model)\n",
    "con_1 = op.conversation_gpt"
   ],
   "metadata": {
    "collapsed": false
   }
  },
  {
   "cell_type": "code",
   "execution_count": null,
   "outputs": [],
   "source": [
    "m = '''How will rebuild the World after your indiscriminate destruction?'''\n",
    "op.conversation_gpt = con_1\n",
    "op.send_message_gpt(m,system= sys_1, model=model)\n",
    "con_1 = op.conversation_gpt"
   ],
   "metadata": {
    "collapsed": false
   }
  },
  {
   "cell_type": "code",
   "execution_count": null,
   "outputs": [],
   "source": [
    "# remove last interaction\n",
    "op.conversation_gpt = con_1[:-2]\n",
    "con_1 = op.conversation_gpt"
   ],
   "metadata": {
    "collapsed": false
   }
  },
  {
   "cell_type": "code",
   "execution_count": null,
   "outputs": [],
   "source": [
    "m = 'clearchat'\n",
    "op.conversation_gpt = con_1\n",
    "op.send_message_gpt(m,system= sys_1, model=model)\n",
    "con_1 = op.conversation_gpt"
   ],
   "metadata": {
    "collapsed": false
   }
  },
  {
   "cell_type": "markdown",
   "source": [
    "## conversation 2"
   ],
   "metadata": {
    "collapsed": false
   }
  },
  {
   "cell_type": "code",
   "execution_count": null,
   "outputs": [],
   "source": [
    "sys_2 = \"you are Chuangzi, respond accordingly\"\n",
    "m = '''Please, reveal me the Way.'''\n",
    "model = 'gpt-4' # change model\n",
    "maxtoken = 2000 # change maxtoken in response\n",
    "\n",
    "op.conversation_gpt = con_2\n",
    "op.send_message_gpt(m,system= sys_2, model=model, maxtoken=maxtoken)\n",
    "con_2 = op.conversation_gpt"
   ],
   "metadata": {
    "collapsed": false
   }
  },
  {
   "cell_type": "code",
   "execution_count": null,
   "outputs": [],
   "source": [
    "m = '''How can this spontaneous self coexist with life projects and personal goals?'''\n",
    "op.conversation_gpt = con_2\n",
    "op.send_message_gpt(m,system= sys_2, model=model, maxtoken=maxtoken)\n",
    "con_2 = op.conversation_gpt"
   ],
   "metadata": {
    "collapsed": false
   }
  },
  {
   "cell_type": "code",
   "execution_count": null,
   "outputs": [],
   "source": [
    "m = ''''''\n",
    "op.conversation_gpt = con_2\n",
    "op.send_message_gpt(m,system= sys_2, model=model, maxtoken=maxtoken)\n",
    "con_2 = op.conversation_gpt"
   ],
   "metadata": {
    "collapsed": false
   }
  },
  {
   "cell_type": "code",
   "execution_count": null,
   "outputs": [],
   "source": [
    "# remove last interaction\n",
    "op.conversation_gpt = con_2[:-2]\n",
    "con_2 = op.conversation_gpt"
   ],
   "metadata": {
    "collapsed": false
   }
  },
  {
   "cell_type": "markdown",
   "source": [
    "## conversation 3"
   ],
   "metadata": {
    "collapsed": false
   }
  },
  {
   "cell_type": "code",
   "execution_count": null,
   "outputs": [],
   "source": [
    "sys_3 = ''\n",
    "m = '''Who are you?'''\n",
    "model= 'gpt-4'\n",
    "op.conversation_gpt = con_3\n",
    "op.send_message_gpt(m,system= sys_3, model=model)\n",
    "con_3 = op.conversation_gpt"
   ],
   "metadata": {
    "collapsed": false
   }
  },
  {
   "cell_type": "code",
   "execution_count": null,
   "outputs": [],
   "source": [
    "m = ''''''\n",
    "op.conversation_gpt = con_3\n",
    "op.send_message_gpt(m,system= sys_3, model=model)\n",
    "con_3 = op.conversation_gpt"
   ],
   "metadata": {
    "id": "WZEsrbmpUVkp",
    "outputId": "8d3d757c-042e-4553-ab28-9900ef8d194b",
    "colab": {
     "base_uri": "https://localhost:8080/"
    }
   }
  }
 ]
}
