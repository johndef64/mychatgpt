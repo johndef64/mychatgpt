{
 "cells": [
  {
   "cell_type": "markdown",
   "metadata": {},
   "source": [
    "# Download and import module"
   ]
  },
  {
   "cell_type": "code",
   "execution_count": null,
   "metadata": {},
   "outputs": [],
   "source": [
    "import gdown\n",
    "try:\n",
    "    import pychatgpt\n",
    "except ImportError:\n",
    "    print(\"import fail, downloading git\")\n",
    "    url = \"https://raw.githubusercontent.com/johndef64/pychatgpt/main/pychatgpt.py\"\n",
    "    gdown.download(url)\n",
    "\n",
    "import pychatgpt as op\n",
    "import pyperclip as pc\n",
    "from importlib import reload\n",
    "#op.choose_model()\n",
    "#op.change_key()"
   ]
  },
  {
   "cell_type": "code",
   "execution_count": null,
   "metadata": {
    "scrolled": true
   },
   "outputs": [],
   "source": [
    "# load pdf\n",
    "pdf_text = op.pdf_to_text(\"example_paper.pdf\")\n",
    "op.expand_chat(\"\"\"@Add this Document to your knowledgebase:\\n\"\"\"+pdf_text, 'system')"
   ]
  },
  {
   "cell_type": "markdown",
   "metadata": {},
   "source": [
    "# Delamain"
   ]
  },
  {
   "cell_type": "code",
   "execution_count": 35,
   "metadata": {},
   "outputs": [
    {
     "data": {
      "text/html": [
       "\n",
       "  <style>\n",
       "    pre {\n",
       "        white-space: pre-wrap;\n",
       "    }\n",
       "  </style>\n",
       "  "
      ],
      "text/plain": [
       "<IPython.core.display.HTML object>"
      ]
     },
     "metadata": {},
     "output_type": "display_data"
    },
    {
     "data": {
      "text/html": [
       "\n",
       "  <style>\n",
       "    pre {\n",
       "        white-space: pre-wrap;\n",
       "    }\n",
       "  </style>\n",
       "  "
      ],
      "text/plain": [
       "<IPython.core.display.HTML object>"
      ]
     },
     "metadata": {},
     "output_type": "display_data"
    },
    {
     "name": "stdout",
     "output_type": "stream",
     "text": [
      "*chat cleared*\n",
      "\n",
      "```python\n",
      "import sys\n",
      "\n",
      "# Check if Google Colab is running\n",
      "if 'google.colab' in sys.modules:\n",
      "    # Disable clipping\n",
      "    op.clip = False\n",
      "```\n",
      " <prompt tokens: 389>\n"
     ]
    }
   ],
   "source": [
    "m = r\"\"\"@ corect this colab code\n",
    "\n",
    "\n",
    "if google.colab in sys.modules:\n",
    "    op.clip = False\n",
    "\n",
    "\"\"\"\n",
    "op.delamain(m, 'gpt-4o')"
   ]
  },
  {
   "cell_type": "code",
   "execution_count": 32,
   "metadata": {},
   "outputs": [
    {
     "data": {
      "text/html": [
       "\n",
       "  <style>\n",
       "    pre {\n",
       "        white-space: pre-wrap;\n",
       "    }\n",
       "  </style>\n",
       "  "
      ],
      "text/plain": [
       "<IPython.core.display.HTML object>"
      ]
     },
     "metadata": {},
     "output_type": "display_data"
    },
    {
     "data": {
      "text/html": [
       "\n",
       "  <style>\n",
       "    pre {\n",
       "        white-space: pre-wrap;\n",
       "    }\n",
       "  </style>\n",
       "  "
      ],
      "text/plain": [
       "<IPython.core.display.HTML object>"
      ]
     },
     "metadata": {},
     "output_type": "display_data"
    },
    {
     "name": "stdout",
     "output_type": "stream",
     "text": [
      "```bat\n",
      "@echo off\n",
      "echo Opening Anaconda Prompt and changing directory...\n",
      "\n",
      "REM Get the current working directory\n",
      "set \"current_dir=%cd%\"\n",
      "\n",
      "REM Start Jupyter Notebook without requiring a password\n",
      "start cmd /k \"call C:\\Users\\Utente\\anaconda3\\Scripts\\activate.bat && cd /d %current_dir% && conda activate torchic && jupyter notebook --NotebookApp.token='' --NotebookApp.password='' \"%current_dir%\\pychatgpt\\copilot_notebook.ipynb\" \"\n",
      "```\n",
      " <prompt tokens: 1245>\n"
     ]
    }
   ],
   "source": [
    "m=r\"\"\"\n",
    "jupyter asked fo a password afeter runnig the bat..\n",
    "\"\"\"\n",
    "op.delamain(m, 'gpt-4o')"
   ]
  },
  {
   "cell_type": "markdown",
   "metadata": {},
   "source": [
    "# Penrose"
   ]
  },
  {
   "cell_type": "code",
   "execution_count": null,
   "metadata": {},
   "outputs": [],
   "source": [
    "m = \"\"\"@\n",
    "\n",
    "\"\"\"\n",
    "op.penrose(m)"
   ]
  },
  {
   "cell_type": "code",
   "execution_count": null,
   "metadata": {
    "scrolled": true
   },
   "outputs": [],
   "source": [
    "m = \"\"\" \n",
    "\n",
    "\"\"\"\n",
    "op.penrose(m)"
   ]
  },
  {
   "cell_type": "markdown",
   "metadata": {},
   "source": [
    "# Mendel"
   ]
  },
  {
   "cell_type": "code",
   "execution_count": null,
   "metadata": {},
   "outputs": [],
   "source": [
    "m = \"\"\"@ expain this in context biology:\n",
    "host dependency factors (HDFs) and/or host restriction factors (HRFs)\n",
    "\"\"\"\n",
    "op.mendel(m)"
   ]
  },
  {
   "cell_type": "code",
   "execution_count": null,
   "metadata": {},
   "outputs": [],
   "source": [
    "m = \"\"\"\n",
    "\n",
    "\"\"\"\n",
    "op.mendel(m)"
   ]
  },
  {
   "cell_type": "markdown",
   "metadata": {},
   "source": [
    "# Shematizer"
   ]
  },
  {
   "cell_type": "code",
   "execution_count": null,
   "metadata": {},
   "outputs": [],
   "source": [
    "m = \"\"\"@ \n",
    "\n",
    "\n",
    "\"\"\"\n",
    "op.schematizer(m)"
   ]
  },
  {
   "cell_type": "code",
   "execution_count": null,
   "metadata": {},
   "outputs": [],
   "source": []
  },
  {
   "cell_type": "markdown",
   "metadata": {},
   "source": [
    "# Julia"
   ]
  },
  {
   "cell_type": "code",
   "execution_count": null,
   "metadata": {},
   "outputs": [],
   "source": [
    "m = \"\"\"@Ciao Julia, come stai? Mi aiuti a lavorare oggi?\n",
    "\"\"\"\n",
    "op.chat_with('julia',m)"
   ]
  },
  {
   "cell_type": "code",
   "execution_count": null,
   "metadata": {},
   "outputs": [],
   "source": [
    "m=\"\"\"\n",
    "Grazie tesoro, a dopo...\n",
    "\"\"\"\n",
    "op.chat_with('julia',m)"
   ]
  }
 ],
 "metadata": {
  "colab": {
   "provenance": []
  },
  "kernelspec": {
   "display_name": "Python 3 (ipykernel)",
   "language": "python",
   "name": "python3"
  },
  "language_info": {
   "codemirror_mode": {
    "name": "ipython",
    "version": 3
   },
   "file_extension": ".py",
   "mimetype": "text/x-python",
   "name": "python",
   "nbconvert_exporter": "python",
   "pygments_lexer": "ipython3",
   "version": "3.11.3"
  }
 },
 "nbformat": 4,
 "nbformat_minor": 4
}
