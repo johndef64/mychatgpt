{
 "cells": [
  {
   "cell_type": "markdown",
   "metadata": {},
   "source": [
    "# Download and import module"
   ]
  },
  {
   "cell_type": "code",
   "execution_count": null,
   "metadata": {},
   "outputs": [],
   "source": [
    "import gdown\n",
    "try:\n",
    "    import pychatgpt\n",
    "except ImportError:\n",
    "    print(\"import fail, downloading git\")\n",
    "    url = \"https://raw.githubusercontent.com/johndef64/pychatgpt/main/pychatgpt.py\"\n",
    "    gdown.download(url)\n",
    "\n",
    "import pychatgpt as op\n",
    "import pyperclip as pc\n",
    "from importlib import reload\n",
    "#reload(op)"
   ]
  },
  {
   "cell_type": "markdown",
   "metadata": {},
   "source": [
    "# Delamain"
   ]
  },
  {
   "cell_type": "code",
   "execution_count": null,
   "metadata": {},
   "outputs": [],
   "source": [
    "m = r\"\"\"@ \n",
    "\n",
    "\n",
    "\"\"\"\n",
    "op.delamain(m, 'gpt-4o')"
   ]
  },
  {
   "cell_type": "code",
   "execution_count": null,
   "metadata": {},
   "outputs": [],
   "source": [
    "m=r\"\"\"\n",
    "\n",
    "\"\"\"\n",
    "op.delamain(m, 'gpt-4o')"
   ]
  },
  {
   "cell_type": "code",
   "execution_count": null,
   "metadata": {},
   "outputs": [],
   "source": [
    "op.talk_with('delamain', write=True)"
   ]
  },
  {
   "cell_type": "markdown",
   "metadata": {},
   "source": [
    "# Penrose"
   ]
  },
  {
   "cell_type": "code",
   "execution_count": null,
   "metadata": {
    "scrolled": true,
    "tags": []
   },
   "outputs": [],
   "source": [
    "m = \"\"\"\n",
    "\n",
    "\"\"\"\n",
    "op.penrose(m, 'gpt-4o')"
   ]
  },
  {
   "cell_type": "code",
   "execution_count": null,
   "metadata": {
    "scrolled": true
   },
   "outputs": [],
   "source": [
    "m = \"\"\" \n",
    "\n",
    "\"\"\"\n",
    "op.penrose(m)"
   ]
  },
  {
   "cell_type": "code",
   "execution_count": null,
   "metadata": {},
   "outputs": [],
   "source": []
  },
  {
   "cell_type": "markdown",
   "metadata": {},
   "source": [
    "# Mendel"
   ]
  },
  {
   "cell_type": "code",
   "execution_count": null,
   "metadata": {},
   "outputs": [],
   "source": [
    "m = \"\"\"@ expain this terms:\n",
    "host dependency factors (HDFs) and/or host restriction factors (HRFs)\n",
    "\"\"\"\n",
    "op.mendel(m)"
   ]
  },
  {
   "cell_type": "code",
   "execution_count": null,
   "metadata": {},
   "outputs": [],
   "source": [
    "m = \"\"\"\n",
    "\n",
    "\"\"\"\n",
    "op.mendel(m, 'gpt-4o')"
   ]
  },
  {
   "cell_type": "markdown",
   "metadata": {},
   "source": [
    "# Shematizer"
   ]
  },
  {
   "cell_type": "code",
   "execution_count": null,
   "metadata": {
    "scrolled": true,
    "tags": []
   },
   "outputs": [],
   "source": [
    "m = \"\"\"@ \n",
    "\n",
    "\"\"\"+pc.paste()\n",
    "op.schematizer(m)"
   ]
  },
  {
   "cell_type": "markdown",
   "metadata": {},
   "source": [
    "### Analysis of Omics Data in Clinical Settings\n",
    "\n",
    "- **The Cancer Genome Atlas (TCGA) as a large-scale data resource for research**\n",
    "    - Provides valuable reference data sets for analyzing molecular profiles of patients and patient groups.\n",
    "\n",
    "- **Functional Annotation/Interpretation**\n",
    "    - Vital for understanding biological processes and functions in personalized molecular therapies.\n",
    "\n",
    "- **Gene Set Enrichment (GSE)**\n",
    "    - Involves hypergeometric and Fisher tests to detect overrepresented differentially expressed genes.\n",
    "    - Relies on predefined gene sets from pathway databases like KEGG, WikiPathways, and Reactome.\n",
    "\n",
    "- **Advancements in GSE Methods**\n",
    "    - Incorporating biological networks to account for pathway topology.\n",
    "    - Addressing pathway crosstalks and complex molecular interactions in biological systems.\n",
    "\n",
    "- **De Novo Pathway Enrichment Methods**\n",
    "    - Extract pathways from data, not predefined.\n",
    "    - Deregulated subnetwork/subgraph detection algorithms.\n",
    "    - Categorization based on handling undirected or directed interaction networks.\n",
    "\n",
    "- **Algorithmic Approaches**\n",
    "    - Various techniques used, such as ant colony optimization, dynamic programming, simulated annealing, etc.\n",
    "    - Tailoring methods to specific data types, like significantly mutated pathways.\n",
    "\n",
    "- **Directed Networks Analysis**\n",
    "    - Focus on capturing effects of directed biomolecular interactions.\n",
    "    - Integer programming approaches for finding deregulated subnetworks.\n",
    "\n",
    "- **DeRegNet Algorithm**\n",
    "    - Mixes different methodologies to handle directed interaction networks.\n",
    "    - Extends integer programming to include sources and targets in identifying deregulated networks.\n",
    "    - Interpreted as maximum likelihood estimation under a statistical model.\n",
    "\n",
    "- **Application of DeRegNet**\n",
    "    - Used as an exploratory tool for hypothesis generation applied to TCGA liver cancer data.\n",
    "    - Introduces network-defined cancer genes for patient categorization and personalized subgraphs.\n",
    "\n",
    "- **Supplementary Material**\n",
    "    - Demonstrates usefulness of subgraph-derived features for survival prediction.\n",
    "    - Outperforms gene set enrichment pathways and improves classifiers based on clinical data alone."
   ]
  },
  {
   "cell_type": "code",
   "execution_count": null,
   "metadata": {
    "tags": []
   },
   "outputs": [],
   "source": [
    "op.pc.copy(op.reply)"
   ]
  },
  {
   "cell_type": "markdown",
   "metadata": {},
   "source": [
    "# Vision"
   ]
  },
  {
   "cell_type": "code",
   "execution_count": null,
   "metadata": {
    "tags": []
   },
   "outputs": [],
   "source": [
    "m=\"\"\"\n",
    "Look at this images and write a prompt dor Dall.E3 to replicate it, it is Michelangelo David in Cyber futuristic Retrowave, Vaporwave style\n",
    "\"\"\"\n",
    "op.send_message(m, img=op.dummy_img)"
   ]
  },
  {
   "cell_type": "markdown",
   "metadata": {},
   "source": [
    "# Dall-e\n",
    "def create_image(prompt= \"a cute kitten\",\n",
    "                 model=\"dall-e-2\",\n",
    "                 size='512x512',\n",
    "                 response_format='b64_json',\n",
    "                 quality=\"standard\",\n",
    "                 time_flag=True,\n",
    "                 show_image=True):"
   ]
  },
  {
   "cell_type": "code",
   "execution_count": null,
   "metadata": {
    "tags": []
   },
   "outputs": [],
   "source": [
    "m=\"\"\"\n",
    "Image of Michelangelo's David statue in a cyber futuristic Retrowave, Vaporwave style. The statue should have electronic circuitry and neon lights embedded on it, showcasing a blend of classical antiquity and high-tech elements. The background should include neon grids, vibrant colors like purple and pink, and glowing geometric shapes, reflecting a retro-futuristic, cyberpunk atmosphere.\n",
    "\"\"\"\n",
    "op.create_image(m, \"dall-e-3\")"
   ]
  },
  {
   "cell_type": "markdown",
   "metadata": {},
   "source": [
    "# Julia"
   ]
  },
  {
   "cell_type": "code",
   "execution_count": null,
   "metadata": {},
   "outputs": [],
   "source": [
    "m = \"\"\"@Hi Julia, how are you? Are you helping me work today?\n",
    "\"\"\"\n",
    "op.chat_with('julia',m)"
   ]
  },
  {
   "cell_type": "code",
   "execution_count": null,
   "metadata": {},
   "outputs": [],
   "source": [
    "m=\"\"\"\n",
    "Thanks darling, see you later...\n",
    "\"\"\"\n",
    "op.chat_with('julia',m)"
   ]
  },
  {
   "cell_type": "markdown",
   "metadata": {},
   "source": [
    "# Latex"
   ]
  },
  {
   "cell_type": "code",
   "execution_count": null,
   "metadata": {
    "tags": []
   },
   "outputs": [],
   "source": [
    "#letexify\n",
    "m= \"\"\"@convert this text to Latex:\\n\\n\"\"\"+pc.paste()\n",
    "op.watson(m)"
   ]
  },
  {
   "cell_type": "markdown",
   "metadata": {},
   "source": [
    "# Audio"
   ]
  },
  {
   "cell_type": "code",
   "execution_count": null,
   "metadata": {
    "tags": []
   },
   "outputs": [],
   "source": [
    "m = pc.paste()\n",
    "op.text2speech_stream(m)"
   ]
  },
  {
   "cell_type": "markdown",
   "metadata": {
    "tags": []
   },
   "source": [
    "# Extras"
   ]
  },
  {
   "cell_type": "code",
   "execution_count": null,
   "metadata": {},
   "outputs": [],
   "source": [
    "# load pdf\n",
    "pdf_text = op.pdf_to_text(\"example_paper.pdf\")\n",
    "op.expand_chat(\"\"\"@Add this Document to your knowledgebase:\\n\"\"\"+pdf_text, 'system')"
   ]
  },
  {
   "cell_type": "markdown",
   "metadata": {},
   "source": [
    "# Notes"
   ]
  },
  {
   "cell_type": "markdown",
   "metadata": {
    "tags": []
   },
   "source": []
  },
  {
   "cell_type": "markdown",
   "metadata": {},
   "source": []
  }
 ],
 "metadata": {
  "colab": {
   "provenance": []
  },
  "kernelspec": {
   "display_name": "Python 3 (ipykernel)",
   "language": "python",
   "name": "python3"
  },
  "language_info": {
   "codemirror_mode": {
    "name": "ipython",
    "version": 3
   },
   "file_extension": ".py",
   "mimetype": "text/x-python",
   "name": "python",
   "nbconvert_exporter": "python",
   "pygments_lexer": "ipython3",
   "version": "3.11.5"
  }
 },
 "nbformat": 4,
 "nbformat_minor": 4
}
